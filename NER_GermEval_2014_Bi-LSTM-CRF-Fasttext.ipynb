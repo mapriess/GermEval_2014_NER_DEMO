{
  "cells": [
    {
      "cell_type": "markdown",
      "metadata": {},
      "source": [
        "## Library imports"
      ]
    },
    {
      "cell_type": "code",
      "execution_count": null,
      "metadata": {},
      "outputs": [],
      "source": [
        "azure = False\n",
        "colab = False\n",
        "\n",
        "if azure or colab:\n",
        "    !pip install seqeval\n",
        "    !pip install git+https://www.github.com/keras-team/keras-contrib.git\n",
        "    !pip install plot_keras_history\n",
        "    !pip install fasttext"
      ]
    },
    {
      "cell_type": "code",
      "execution_count": 3,
      "metadata": {},
      "outputs": [
        {
          "name": "stderr",
          "output_type": "stream",
          "text": [
            "Using TensorFlow backend.\n"
          ]
        }
      ],
      "source": [
        "import pandas as pd\n",
        "import numpy as np\n",
        "import matplotlib.pyplot as plt\n",
        "plt.style.use(\"ggplot\")\n",
        "import seaborn as sns\n",
        "\n",
        "import tensorflow as tf\n",
        "import keras\n",
        "\n",
        "from tensorflow.keras.preprocessing.sequence import pad_sequences\n",
        "from tensorflow.keras.utils import to_categorical, plot_model\n",
        "\n",
        "from seqeval.metrics import precision_score, recall_score, f1_score, classification_report, accuracy_score\n",
        "\n",
        "from tensorflow.keras import Model, Input\n",
        "from tensorflow.keras.layers import LSTM, Embedding, Dense, TimeDistributed, Dropout, Bidirectional, InputLayer\n",
        "from tensorflow.keras import optimizers\n",
        "from keras_contrib.layers import CRF\n",
        "from keras_contrib import losses\n",
        "from keras_contrib import metrics\n",
        "from plot_keras_history import plot_history\n",
        "\n",
        "from prettytable import PrettyTable"
      ]
    },
    {
      "cell_type": "code",
      "execution_count": 4,
      "metadata": {},
      "outputs": [
        {
          "name": "stdout",
          "output_type": "stream",
          "text": [
            "tensorflow\n"
          ]
        }
      ],
      "source": [
        "print(keras.backend.backend())"
      ]
    },
    {
      "cell_type": "code",
      "execution_count": 6,
      "metadata": {
        "colab": {
          "base_uri": "https://localhost:8080/"
        },
        "id": "ixUTRy34F8is",
        "outputId": "0c0239fd-9f89-4cd9-95e7-7474e6b8caf1"
      },
      "outputs": [],
      "source": [
        "# For Google Colab only\n",
        "if colab:\n",
        "    !git clone https://github.com/mapriess/GermEval_2014_NER_DEMO.git"
      ]
    },
    {
      "cell_type": "markdown",
      "metadata": {},
      "source": [
        "## Data: Import"
      ]
    },
    {
      "cell_type": "code",
      "execution_count": 7,
      "metadata": {
        "id": "IO3OkL_2Fq4I"
      },
      "outputs": [],
      "source": [
        "#\n",
        "# Parser for GermEval 2014 Dataset\n",
        "#\n",
        "# Input: Tab-separated file, one token per row, two levels of annotation\n",
        "# Token    Tag_Level1     Tag_Level2\n",
        "# \n",
        "# Output: Pandas dataframe (columns: Sentence #, Token, TagComb)\n",
        "#\n",
        "def parser(path):\n",
        "    cols = ['Sentence #','Word', 'Tag_Level1', 'Tag_Level2']\n",
        "    df = pd.read_csv(path, sep='\\t', encoding=\"utf8\", quoting=3)\n",
        "\n",
        "    # Set columns\n",
        "    cols = ['Sentence #','Word', 'Tag_Level1', 'Tag_Level2']\n",
        "    df.set_axis(labels=cols, axis='columns', inplace=True)\n",
        "\n",
        "    # Correct sentence number according to source entries (#)\n",
        "    # TODO: Find more efficient way to further speed up the parsing\n",
        "    sent_id = 1\n",
        "    for index, row in df.iterrows():\n",
        "        if (row['Sentence #'] == '#'):\n",
        "            sent_id += 1\n",
        "            continue\n",
        "        row['Sentence #'] = \"Sentence: \" + str(sent_id)\n",
        "\n",
        "    # Delete rows starting with '#'\n",
        "    df.drop( df[df['Sentence #'] == '#'].index, inplace=True )\n",
        "\n",
        "    # Conventional flat named‐entity‐recognition models could be used without any modification once the labels of different levels were joined together into a single level (Agrawal et al. (2022)).\n",
        "    df['TagComb'] = df['Tag_Level1'] + \"+\" + df['Tag_Level2']\n",
        "    df.drop(columns=['Tag_Level1','Tag_Level2'], inplace=True)\n",
        "\n",
        "    return df"
      ]
    },
    {
      "cell_type": "code",
      "execution_count": 8,
      "metadata": {
        "id": "-CzzWQ4fFq4J"
      },
      "outputs": [],
      "source": [
        "pathColab = ''\n",
        "if colab:\n",
        "  pathColab = \"GermEval_2014_NER_DEMO/\"\n",
        "\n",
        "df_train = parser(pathColab + \"Data/NER-de-train.tsv\")\n",
        "df_val = parser(pathColab + \"Data/NER-de-dev.tsv\")\n",
        "df_test = parser(pathColab + \"Data/NER-de-test.tsv\")\n",
        "df = parser(pathColab + \"Data/NER-de-all.tsv\") # TODO: Can also be achieved through concatenation of DFs"
      ]
    },
    {
      "cell_type": "markdown",
      "metadata": {},
      "source": [
        "## Data: Inspection"
      ]
    },
    {
      "cell_type": "code",
      "execution_count": 10,
      "metadata": {
        "colab": {
          "base_uri": "https://localhost:8080/"
        },
        "id": "uq4HkgqZFq4K",
        "outputId": "9eb3c736-b06a-4c91-aed2-ced847c5558f"
      },
      "outputs": [
        {
          "name": "stdout",
          "output_type": "stream",
          "text": [
            "(452853, 3) (41653, 3) (96499, 3) (591005, 3)\n"
          ]
        }
      ],
      "source": [
        "print(df_train.shape,df_val.shape,df_test.shape,df.shape)"
      ]
    },
    {
      "cell_type": "code",
      "execution_count": 11,
      "metadata": {},
      "outputs": [
        {
          "name": "stdout",
          "output_type": "stream",
          "text": [
            "<class 'pandas.core.frame.DataFrame'>\n",
            "Int64Index: 591005 entries, 0 to 622303\n",
            "Data columns (total 3 columns):\n",
            " #   Column      Non-Null Count   Dtype \n",
            "---  ------      --------------   ----- \n",
            " 0   Sentence #  591005 non-null  object\n",
            " 1   Word        590999 non-null  object\n",
            " 2   TagComb     591005 non-null  object\n",
            "dtypes: object(3)\n",
            "memory usage: 18.0+ MB\n",
            "None\n"
          ]
        }
      ],
      "source": [
        "# DF overview\n",
        "print(df.info())"
      ]
    },
    {
      "cell_type": "code",
      "execution_count": 12,
      "metadata": {},
      "outputs": [
        {
          "data": {
            "text/plain": [
              "<AxesSubplot:>"
            ]
          },
          "execution_count": 12,
          "metadata": {},
          "output_type": "execute_result"
        },
        {
          "data": {
            "image/png": "[encoded data removed]",
            "text/plain": [
              "<Figure size 2160x360 with 1 Axes>"
            ]
          },
          "metadata": {},
          "output_type": "display_data"
        }
      ],
      "source": [
        "# NER tag distribution\n",
        "df[df[\"TagComb\"]!=\"O+O\"][\"TagComb\"].value_counts().plot(kind=\"bar\", figsize=(30,5))"
      ]
    },
    {
      "cell_type": "code",
      "execution_count": 13,
      "metadata": {},
      "outputs": [
        {
          "data": {
            "text/html": [
              "<div>\n",
              "<style scoped>\n",
              "    .dataframe tbody tr th:only-of-type {\n",
              "        vertical-align: middle;\n",
              "    }\n",
              "\n",
              "    .dataframe tbody tr th {\n",
              "        vertical-align: top;\n",
              "    }\n",
              "\n",
              "    .dataframe thead th {\n",
              "        text-align: right;\n",
              "    }\n",
              "</style>\n",
              "<table border=\"1\" class=\"dataframe\">\n",
              "  <thead>\n",
              "    <tr style=\"text-align: right;\">\n",
              "      <th></th>\n",
              "      <th>Sentence #</th>\n",
              "      <th>Word</th>\n",
              "      <th>TagComb</th>\n",
              "    </tr>\n",
              "  </thead>\n",
              "  <tbody>\n",
              "    <tr>\n",
              "      <th>36901</th>\n",
              "      <td>Sentence: 1865</td>\n",
              "      <td>England</td>\n",
              "      <td>I-OTH+I-LOC</td>\n",
              "    </tr>\n",
              "    <tr>\n",
              "      <th>69076</th>\n",
              "      <td>Sentence: 3496</td>\n",
              "      <td>Lorenzo</td>\n",
              "      <td>I-OTH+I-LOC</td>\n",
              "    </tr>\n",
              "    <tr>\n",
              "      <th>72454</th>\n",
              "      <td>Sentence: 3667</td>\n",
              "      <td>.</td>\n",
              "      <td>I-OTH+I-LOC</td>\n",
              "    </tr>\n",
              "    <tr>\n",
              "      <th>72455</th>\n",
              "      <td>Sentence: 3667</td>\n",
              "      <td>Hedwigskirche</td>\n",
              "      <td>I-OTH+I-LOC</td>\n",
              "    </tr>\n",
              "    <tr>\n",
              "      <th>222580</th>\n",
              "      <td>Sentence: 11234</td>\n",
              "      <td>Oranienburg</td>\n",
              "      <td>I-OTH+I-LOC</td>\n",
              "    </tr>\n",
              "    <tr>\n",
              "      <th>265093</th>\n",
              "      <td>Sentence: 13389</td>\n",
              "      <td>Meeres</td>\n",
              "      <td>I-OTH+I-LOC</td>\n",
              "    </tr>\n",
              "    <tr>\n",
              "      <th>337843</th>\n",
              "      <td>Sentence: 17035</td>\n",
              "      <td>Big</td>\n",
              "      <td>I-OTH+I-LOC</td>\n",
              "    </tr>\n",
              "    <tr>\n",
              "      <th>337844</th>\n",
              "      <td>Sentence: 17035</td>\n",
              "      <td>Horn</td>\n",
              "      <td>I-OTH+I-LOC</td>\n",
              "    </tr>\n",
              "    <tr>\n",
              "      <th>347724</th>\n",
              "      <td>Sentence: 17500</td>\n",
              "      <td>Charlie</td>\n",
              "      <td>I-OTH+I-LOC</td>\n",
              "    </tr>\n",
              "    <tr>\n",
              "      <th>356374</th>\n",
              "      <td>Sentence: 17933</td>\n",
              "      <td>Nam</td>\n",
              "      <td>I-OTH+I-LOC</td>\n",
              "    </tr>\n",
              "    <tr>\n",
              "      <th>382822</th>\n",
              "      <td>Sentence: 19251</td>\n",
              "      <td>Brücke</td>\n",
              "      <td>I-OTH+I-LOC</td>\n",
              "    </tr>\n",
              "    <tr>\n",
              "      <th>400951</th>\n",
              "      <td>Sentence: 20163</td>\n",
              "      <td>York</td>\n",
              "      <td>I-OTH+I-LOC</td>\n",
              "    </tr>\n",
              "    <tr>\n",
              "      <th>400959</th>\n",
              "      <td>Sentence: 20163</td>\n",
              "      <td>Francisco</td>\n",
              "      <td>I-OTH+I-LOC</td>\n",
              "    </tr>\n",
              "    <tr>\n",
              "      <th>413752</th>\n",
              "      <td>Sentence: 20806</td>\n",
              "      <td>Staaten</td>\n",
              "      <td>I-OTH+I-LOC</td>\n",
              "    </tr>\n",
              "    <tr>\n",
              "      <th>455635</th>\n",
              "      <td>Sentence: 22919</td>\n",
              "      <td>Hills</td>\n",
              "      <td>I-OTH+I-LOC</td>\n",
              "    </tr>\n",
              "    <tr>\n",
              "      <th>465612</th>\n",
              "      <td>Sentence: 23423</td>\n",
              "      <td>Höhenrückens</td>\n",
              "      <td>I-OTH+I-LOC</td>\n",
              "    </tr>\n",
              "    <tr>\n",
              "      <th>497028</th>\n",
              "      <td>Sentence: 25022</td>\n",
              "      <td>Vegas</td>\n",
              "      <td>I-OTH+I-LOC</td>\n",
              "    </tr>\n",
              "    <tr>\n",
              "      <th>562665</th>\n",
              "      <td>Sentence: 28321</td>\n",
              "      <td>America</td>\n",
              "      <td>I-OTH+I-LOC</td>\n",
              "    </tr>\n",
              "  </tbody>\n",
              "</table>\n",
              "</div>"
            ],
            "text/plain": [
              "             Sentence #           Word      TagComb\n",
              "36901    Sentence: 1865        England  I-OTH+I-LOC\n",
              "69076    Sentence: 3496        Lorenzo  I-OTH+I-LOC\n",
              "72454    Sentence: 3667              .  I-OTH+I-LOC\n",
              "72455    Sentence: 3667  Hedwigskirche  I-OTH+I-LOC\n",
              "222580  Sentence: 11234    Oranienburg  I-OTH+I-LOC\n",
              "265093  Sentence: 13389         Meeres  I-OTH+I-LOC\n",
              "337843  Sentence: 17035            Big  I-OTH+I-LOC\n",
              "337844  Sentence: 17035           Horn  I-OTH+I-LOC\n",
              "347724  Sentence: 17500        Charlie  I-OTH+I-LOC\n",
              "356374  Sentence: 17933            Nam  I-OTH+I-LOC\n",
              "382822  Sentence: 19251         Brücke  I-OTH+I-LOC\n",
              "400951  Sentence: 20163           York  I-OTH+I-LOC\n",
              "400959  Sentence: 20163      Francisco  I-OTH+I-LOC\n",
              "413752  Sentence: 20806        Staaten  I-OTH+I-LOC\n",
              "455635  Sentence: 22919          Hills  I-OTH+I-LOC\n",
              "465612  Sentence: 23423   Höhenrückens  I-OTH+I-LOC\n",
              "497028  Sentence: 25022          Vegas  I-OTH+I-LOC\n",
              "562665  Sentence: 28321        America  I-OTH+I-LOC"
            ]
          },
          "execution_count": 13,
          "metadata": {},
          "output_type": "execute_result"
        }
      ],
      "source": [
        "# Occurrence of combined tag \"I-OTH+I-LOC\"\n",
        "df[df[\"TagComb\"]==\"I-OTH+I-LOC\"]"
      ]
    },
    {
      "cell_type": "code",
      "execution_count": 14,
      "metadata": {
        "colab": {
          "base_uri": "https://localhost:8080/"
        },
        "id": "u8bFPdWlFq4L",
        "outputId": "19bb9ae1-5087-41f9-cffe-17db71280ae9"
      },
      "outputs": [
        {
          "data": {
            "text/plain": [
              "O+O                     535985\n",
              "B-LOC+O                  10522\n",
              "B-PER+O                  10022\n",
              "B-ORG+O                   5939\n",
              "I-PER+O                   5710\n",
              "                         ...  \n",
              "I-OTH+B-PERderiv             1\n",
              "I-ORGderiv+O                 1\n",
              "B-LOC+B-ORG                  1\n",
              "I-PER+B-LOCpart              1\n",
              "B-ORGpart+B-LOCderiv         1\n",
              "Name: TagComb, Length: 110, dtype: int64"
            ]
          },
          "execution_count": 14,
          "metadata": {},
          "output_type": "execute_result"
        }
      ],
      "source": [
        "# NER tag distribution\n",
        "df['TagComb'].value_counts()"
      ]
    },
    {
      "cell_type": "code",
      "execution_count": 15,
      "metadata": {
        "colab": {
          "base_uri": "https://localhost:8080/"
        },
        "id": "hshfAIXdFq4M",
        "outputId": "efedfa08-c6a6-4046-b2c0-af7f4855a8ed"
      },
      "outputs": [
        {
          "data": {
            "text/plain": [
              "Sentence: 15371    56\n",
              "Sentence: 5900     52\n",
              "Sentence: 31063    51\n",
              "Sentence: 19927    51\n",
              "Sentence: 24993    50\n",
              "                   ..\n",
              "Sentence: 7822      4\n",
              "Sentence: 7036      4\n",
              "Sentence: 16982     3\n",
              "Sentence: 15419     3\n",
              "Sentence: 900       3\n",
              "Name: Sentence #, Length: 31300, dtype: int64"
            ]
          },
          "execution_count": 15,
          "metadata": {},
          "output_type": "execute_result"
        }
      ],
      "source": [
        "# Sentence length distribution\n",
        "df['Sentence #'].value_counts()"
      ]
    },
    {
      "cell_type": "code",
      "execution_count": 16,
      "metadata": {
        "colab": {
          "base_uri": "https://localhost:8080/"
        },
        "id": "nhi5z9YXFq4M",
        "outputId": "24686685-1f9a-408a-fa66-bcc87a8b6c4b"
      },
      "outputs": [
        {
          "name": "stdout",
          "output_type": "stream",
          "text": [
            "Number of unique words in dataset: 89946\n"
          ]
        }
      ],
      "source": [
        "# List of unique words\n",
        "words = list(set(df['Word'].values))\n",
        "words.append('PADword') # later used for creating input vectors of fixed length (padding)\n",
        "n_words = len(words)\n",
        "print(\"Number of unique words in dataset:\", n_words)"
      ]
    },
    {
      "cell_type": "code",
      "execution_count": 17,
      "metadata": {
        "colab": {
          "base_uri": "https://localhost:8080/"
        },
        "id": "A0AgrTIjFq4N",
        "outputId": "ee83fb01-cd85-40d4-de3a-90d63525b121"
      },
      "outputs": [
        {
          "name": "stdout",
          "output_type": "stream",
          "text": [
            "Number of unique tags in dataset: 110\n"
          ]
        }
      ],
      "source": [
        "# List of unique (combined) tokens\n",
        "tags = list(set(df[\"TagComb\"].values))\n",
        "n_tags = len(tags)\n",
        "print(\"Number of unique tags in dataset:\", n_tags)"
      ]
    },
    {
      "cell_type": "code",
      "execution_count": 18,
      "metadata": {},
      "outputs": [
        {
          "data": {
            "text/plain": [
              "Sentence #    0\n",
              "Word          6\n",
              "TagComb       0\n",
              "dtype: int64"
            ]
          },
          "execution_count": 18,
          "metadata": {},
          "output_type": "execute_result"
        }
      ],
      "source": [
        "# Check null elements\n",
        "df.isnull().sum(axis = 0)"
      ]
    },
    {
      "cell_type": "markdown",
      "metadata": {
        "id": "68uFc_66Fq4O"
      },
      "source": [
        "**Conclusion:**\n",
        "\n",
        "We have 31300 sentences in our training dataset, 89946 different words and 110 different named entities (Tags)."
      ]
    },
    {
      "cell_type": "markdown",
      "metadata": {},
      "source": [
        "## Data: Preparation"
      ]
    },
    {
      "cell_type": "code",
      "execution_count": 19,
      "metadata": {
        "id": "KwJNROkAFq4P"
      },
      "outputs": [],
      "source": [
        "#\n",
        "# Input: Pandas dataframe (columns: Sentence #, Token, TagComb)\n",
        "# Output: list of tuples [(word, named entity tag), ...]\n",
        "#\n",
        "def createSentenceList(df):\n",
        "    agg_func = lambda s: [(w, t) for w, t in zip(s[\"Word\"].values.tolist(),s[\"TagComb\"].values.tolist())]\n",
        "    grouped = df.groupby(\"Sentence #\").apply(agg_func)\n",
        "    sentences = [s for s in grouped] \n",
        "    return sentences"
      ]
    },
    {
      "cell_type": "code",
      "execution_count": 20,
      "metadata": {
        "colab": {
          "base_uri": "https://localhost:8080/"
        },
        "id": "LA717SIHFq4R",
        "outputId": "52131714-7e17-4bff-f938-d9b7c301eacf"
      },
      "outputs": [
        {
          "name": "stdout",
          "output_type": "stream",
          "text": [
            "# sentences complete dataset:  31300\n",
            "# sentences train dataset:  24000\n",
            "# sentences val dataset:  2200\n",
            "# sentences test dataset:  5100\n"
          ]
        }
      ],
      "source": [
        "sentences_df = createSentenceList(df)\n",
        "sentences_df_train = createSentenceList(df_train)\n",
        "sentences_df_val = createSentenceList(df_val)\n",
        "sentences_df_test = createSentenceList(df_test)\n",
        "\n",
        "print(\"# sentences complete dataset: \", len(sentences_df))\n",
        "print(\"# sentences train dataset: \", len(sentences_df_train))\n",
        "print(\"# sentences val dataset: \", len(sentences_df_val))\n",
        "print(\"# sentences test dataset: \", len(sentences_df_test))"
      ]
    },
    {
      "cell_type": "code",
      "execution_count": 21,
      "metadata": {
        "colab": {
          "base_uri": "https://localhost:8080/"
        },
        "id": "EPzN-1UdFq4S",
        "outputId": "1ca64b0e-9e34-434c-d6f6-0fb100577d98"
      },
      "outputs": [
        {
          "name": "stdout",
          "output_type": "stream",
          "text": [
            "Train: [('Schartau', 'B-PER+O'), ('sagte', 'O+O'), ('dem', 'O+O'), ('\"', 'O+O'), ('Tagesspiegel', 'B-ORG+O'), ('\"', 'O+O'), ('vom', 'O+O'), ('Freitag', 'O+O'), (',', 'O+O'), ('Fischer', 'B-PER+O'), ('sei', 'O+O'), ('\"', 'O+O'), ('in', 'O+O'), ('einer', 'O+O'), ('Weise', 'O+O'), ('aufgetreten', 'O+O'), (',', 'O+O'), ('die', 'O+O'), ('alles', 'O+O'), ('andere', 'O+O'), ('als', 'O+O'), ('überzeugend', 'O+O'), ('war', 'O+O'), ('\"', 'O+O'), ('.', 'O+O')]\n",
            "\n",
            "Val: [('Gleich', 'O+O'), ('darauf', 'O+O'), ('entwirft', 'O+O'), ('er', 'O+O'), ('seine', 'O+O'), ('Selbstdarstellung', 'O+O'), ('\"', 'O+O'), ('Ecce', 'B-OTH+O'), ('homo', 'I-OTH+O'), ('\"', 'O+O'), ('in', 'O+O'), ('enger', 'O+O'), ('Auseinandersetzung', 'O+O'), ('mit', 'O+O'), ('diesem', 'O+O'), ('Bild', 'O+O'), ('Jesu', 'B-PER+O'), ('.', 'O+O')]\n",
            "\n",
            "Test: [('1951', 'O+O'), ('bis', 'O+O'), ('1953', 'O+O'), ('wurde', 'O+O'), ('der', 'O+O'), ('nördliche', 'O+O'), ('Teil', 'O+O'), ('als', 'O+O'), ('Jugendburg', 'O+O'), ('des', 'O+O'), ('Kolpingwerkes', 'B-OTH+O'), ('gebaut', 'O+O'), ('.', 'O+O')]\n"
          ]
        }
      ],
      "source": [
        "# Get first sentence\n",
        "print( \"Train: \" + str(sentences_df_train[0]) + \"\\n\" )\n",
        "print( \"Val: \" + str(sentences_df_val[0]) + \"\\n\" )\n",
        "print( \"Test: \" + str(sentences_df_test[0]))"
      ]
    },
    {
      "cell_type": "code",
      "execution_count": 22,
      "metadata": {
        "colab": {
          "base_uri": "https://localhost:8080/"
        },
        "id": "jY_uMlhJFq4S",
        "outputId": "7cf8260e-1a49-4faa-823d-363b0cf29927"
      },
      "outputs": [
        {
          "name": "stdout",
          "output_type": "stream",
          "text": [
            "Biggest sentence has 56 words\n"
          ]
        }
      ],
      "source": [
        "# Determine largest sentence\n",
        "largest_sen = max(len(sen) for sen in sentences_df)\n",
        "print('Biggest sentence has {} words'.format(largest_sen))"
      ]
    },
    {
      "cell_type": "code",
      "execution_count": 23,
      "metadata": {
        "colab": {
          "base_uri": "https://localhost:8080/",
          "height": 265
        },
        "id": "qsagcwQPFq4T",
        "outputId": "94eaf15d-6bc9-4327-e51b-8f6d695d5dd7"
      },
      "outputs": [
        {
          "data": {
            "image/png": "[encoded data removed]",
            "text/plain": [
              "<Figure size 432x288 with 1 Axes>"
            ]
          },
          "metadata": {
            "needs_background": "light"
          },
          "output_type": "display_data"
        }
      ],
      "source": [
        "# Histogram of length of sentences\n",
        "%matplotlib inline\n",
        "plt.hist([len(sen) for sen in sentences_df], bins= 50)\n",
        "plt.title(\"Histogram of length of sentences\")\n",
        "plt.show()"
      ]
    },
    {
      "cell_type": "markdown",
      "metadata": {
        "id": "wGXHcFqKFq4T"
      },
      "source": [
        "**Conclusion:**\n",
        "\n",
        "The longest sentence has 56 words in it and we can see that almost all of the sentences have less than 50 words in them."
      ]
    },
    {
      "cell_type": "code",
      "execution_count": 24,
      "metadata": {
        "colab": {
          "base_uri": "https://localhost:8080/"
        },
        "id": "u6mEP5q1Fq4U",
        "outputId": "d7197df8-c85d-412d-84f9-2c49a8edea71"
      },
      "outputs": [
        {
          "name": "stdout",
          "output_type": "stream",
          "text": [
            "87572\n",
            "11\n"
          ]
        }
      ],
      "source": [
        "# Assigning index to all unique words and tags\n",
        "words2index = {w:i for i,w in enumerate(words)}\n",
        "tags2index = {t:i for i,t in enumerate(tags)}\n",
        "\n",
        "# Print index for exemplary word and tag\n",
        "print(words2index['Tagesspiegel'])\n",
        "print(tags2index['B-LOC+B-PER'])"
      ]
    },
    {
      "cell_type": "code",
      "execution_count": 25,
      "metadata": {
        "colab": {
          "base_uri": "https://localhost:8080/",
          "height": 204
        },
        "id": "B9yjHnhTFq4U",
        "outputId": "0a1b7f2c-d974-413b-c90a-b09e268e3ff3"
      },
      "outputs": [
        {
          "data": {
            "text/html": [
              "<div>\n",
              "<style scoped>\n",
              "    .dataframe tbody tr th:only-of-type {\n",
              "        vertical-align: middle;\n",
              "    }\n",
              "\n",
              "    .dataframe tbody tr th {\n",
              "        vertical-align: top;\n",
              "    }\n",
              "\n",
              "    .dataframe thead th {\n",
              "        text-align: right;\n",
              "    }\n",
              "</style>\n",
              "<table border=\"1\" class=\"dataframe\">\n",
              "  <thead>\n",
              "    <tr style=\"text-align: right;\">\n",
              "      <th></th>\n",
              "      <th>Sentence #</th>\n",
              "      <th>Word</th>\n",
              "      <th>TagComb</th>\n",
              "      <th>Word_idx</th>\n",
              "      <th>Tag_idx</th>\n",
              "    </tr>\n",
              "  </thead>\n",
              "  <tbody>\n",
              "    <tr>\n",
              "      <th>0</th>\n",
              "      <td>Sentence: 1</td>\n",
              "      <td>Schartau</td>\n",
              "      <td>B-PER+O</td>\n",
              "      <td>89087</td>\n",
              "      <td>74</td>\n",
              "    </tr>\n",
              "    <tr>\n",
              "      <th>1</th>\n",
              "      <td>Sentence: 1</td>\n",
              "      <td>sagte</td>\n",
              "      <td>O+O</td>\n",
              "      <td>69356</td>\n",
              "      <td>49</td>\n",
              "    </tr>\n",
              "    <tr>\n",
              "      <th>2</th>\n",
              "      <td>Sentence: 1</td>\n",
              "      <td>dem</td>\n",
              "      <td>O+O</td>\n",
              "      <td>40357</td>\n",
              "      <td>49</td>\n",
              "    </tr>\n",
              "    <tr>\n",
              "      <th>3</th>\n",
              "      <td>Sentence: 1</td>\n",
              "      <td>\"</td>\n",
              "      <td>O+O</td>\n",
              "      <td>27793</td>\n",
              "      <td>49</td>\n",
              "    </tr>\n",
              "    <tr>\n",
              "      <th>4</th>\n",
              "      <td>Sentence: 1</td>\n",
              "      <td>Tagesspiegel</td>\n",
              "      <td>B-ORG+O</td>\n",
              "      <td>87572</td>\n",
              "      <td>62</td>\n",
              "    </tr>\n",
              "  </tbody>\n",
              "</table>\n",
              "</div>"
            ],
            "text/plain": [
              "    Sentence #          Word  TagComb  Word_idx  Tag_idx\n",
              "0  Sentence: 1      Schartau  B-PER+O     89087       74\n",
              "1  Sentence: 1         sagte      O+O     69356       49\n",
              "2  Sentence: 1           dem      O+O     40357       49\n",
              "3  Sentence: 1             \"      O+O     27793       49\n",
              "4  Sentence: 1  Tagesspiegel  B-ORG+O     87572       62"
            ]
          },
          "execution_count": 25,
          "metadata": {},
          "output_type": "execute_result"
        }
      ],
      "source": [
        "# Visualise words to index and vice versa mappings\n",
        "df['Word_idx'] = df['Word'].map(words2index)\n",
        "df['Tag_idx'] = df['TagComb'].map(tags2index)\n",
        "df.head()"
      ]
    },
    {
      "cell_type": "markdown",
      "metadata": {},
      "source": [
        "### Load FastText model (Facebook)"
      ]
    },
    {
      "cell_type": "code",
      "execution_count": 26,
      "metadata": {},
      "outputs": [
        {
          "name": "stderr",
          "output_type": "stream",
          "text": [
            "Warning : `load_model` does not return WordVectorModel or SupervisedModel any more, but a `FastText` object which is very similar.\n"
          ]
        }
      ],
      "source": [
        "import fasttext \n",
        "import fasttext.util\n",
        "\n",
        "fasttext.util.download_model(\"de\", if_exists=\"ignore\")\n",
        "ft_model = fasttext.load_model(\"cc.de.300.bin\")"
      ]
    },
    {
      "cell_type": "markdown",
      "metadata": {},
      "source": [
        "### Apply FastText embeddings of shape (#sent, max_len, 300) for x values"
      ]
    },
    {
      "cell_type": "code",
      "execution_count": 106,
      "metadata": {},
      "outputs": [
        {
          "name": "stderr",
          "output_type": "stream",
          "text": [
            "/Applications/anaconda3/envs/tf1/lib/python3.7/site-packages/ipykernel_launcher.py:23: VisibleDeprecationWarning: Creating an ndarray from ragged nested sequences (which is a list-or-tuple of lists-or-tuples-or ndarrays with different lengths or shapes) is deprecated. If you meant to do this, you must specify 'dtype=object' when creating the ndarray\n"
          ]
        }
      ],
      "source": [
        "# Here we need to add the FastText representations as embeddings.\n",
        "# Before, only the index of words were used as embeddings. We now use the ft method 'get_word_vector' to get the vector representation\n",
        "max_len = 50    \n",
        "\n",
        "def word_to_fasttext_embedding(w):\n",
        "    try:\n",
        "        return ft_model.get_word_vector(w[0])\n",
        "    except Exception:\n",
        "        return\n",
        "\n",
        "def convert_words_to_fasttext_embedding(dataframe_with_sentences):\n",
        "    # ft_embed_s: list of dim (#sent, #words, 300)\n",
        "    ft_embed_s = [[word_to_fasttext_embedding(w) for w in s] for s in dataframe_with_sentences] \n",
        "    \n",
        "    # Created padded Embedding of shape (#sent, max_len, 300)\n",
        "    for index, sA in enumerate(ft_embed_s):\n",
        "        # sA:           list of dim (#words, 300)\n",
        "        # needed_pads:  list of dim (#paddings, 300)\n",
        "        # paddedEmb:    list of dim (max_len, 300), where max_len = #words + #paddings\n",
        "        needed_pads = [np.zeros(300) for i in range(max_len - len(sA))]\n",
        "        paddedEmb = np.array(sA + needed_pads)\n",
        "        ft_embed_s[index] = np.array(paddedEmb)\n",
        "\n",
        "    # Delete sentences with length >= max_len\n",
        "    missshaped_data = []\n",
        "    for index, sA in enumerate(ft_embed_s):\n",
        "        if sA.shape != (max_len, 300):\n",
        "            missshaped_data.append(index)\n",
        "            del ft_embed_s[index]\n",
        "\n",
        "    return (np.stack(ft_embed_s), missshaped_data)\n",
        "\n",
        "X_tr, missshaped_X_tr = convert_words_to_fasttext_embedding(sentences_df_train)\n",
        "X_val, missshaped_X_val = convert_words_to_fasttext_embedding(sentences_df_val)\n",
        "X_te, missshaped_X_te = convert_words_to_fasttext_embedding(sentences_df_test)"
      ]
    },
    {
      "cell_type": "code",
      "execution_count": null,
      "metadata": {},
      "outputs": [],
      "source": [
        "# OLD\n",
        "# X_val = [[apply_func(w) for w in s] for s in sentences_df_val]\n",
        "# X_te = [[apply_func(w) for w in s] for s in sentences_df_test]\n",
        "\n",
        "# for index, sA in enumerate(X_val):\n",
        "#     neededPads = [np.zeros(300) for i in range(max_len - len(sA))]\n",
        "#     X_val[index] = np.array(sA + neededPads)\n",
        "\n",
        "# for index, sA in enumerate(X_te):\n",
        "#     neededPads = [np.zeros(300) for i in range(max_len - len(sA))]\n",
        "# #     X_te[index] = np.array(sA + neededPads)\n",
        "\n",
        "# missshaped_X_tr = []\n",
        "# missshaped_X_val = []\n",
        "# missshaped_X_te = []\n",
        "\n",
        "# for index, sA in enumerate(X_val):\n",
        "#     if sA.shape != (max_len, 300):\n",
        "#         missshaped_X_val.append(index)\n",
        "#         del X_val[index]\n",
        "\n",
        "# for index, sA in enumerate(X_te):\n",
        "#     if sA.shape != (max_len, 300):\n",
        "#         missshaped_X_te.append(index)\n",
        "#         del X_te[index]\n",
        "\n",
        "\n",
        "#X_tr = np.stack(X_tr)\n",
        "#X_te = np.stack(X_te)\n",
        "#X_val = np.stack(X_val)\n",
        "\n",
        "#Array Shape = (24000, WordSentences, 300)\n",
        "# X_tr = [[words2index[w[0]] for w in s] for s in sentences_df_train]\n",
        "# X_val = [[words2index[w[0]] for w in s] for s in sentences_df_val]\n",
        "# X_te = [[words2index[w[0]] for w in s] for s in sentences_df_test]\n",
        "# Padding sentences to make the length of all sentences same\n",
        "#X_tr = np.pad(X_tr, ((0,0), (0, max_len-len(X_tr[1])), (0,0)), constant_value=np.zeros(300))\n",
        "#print(X_tr.shape)\n",
        "#X_tr = pad_sequences(maxlen=max_len, sequences=X_tr, padding=\"post\", value=np.zeros(300, type=np.float32)) #padding needs to be a vector with 0 values \n",
        "                                                                              # and with the same dimension as the fasttext embeddings\n",
        "#X_val = pad_sequences(maxlen=max_len, sequences=X_val, padding=\"post\", value=np.zeros(300))\n",
        "#X_te = pad_sequences(maxlen=max_len, sequences=X_te, padding=\"post\", value=np.zeros(300))\n",
        "\n",
        "# Check first data samples\n",
        "#print(\"Val: \" + str(X_val[0]) + \"\\n\")\n",
        "#print(\"Test: \" + str(X_te[0]))"
      ]
    },
    {
      "cell_type": "code",
      "execution_count": 107,
      "metadata": {},
      "outputs": [
        {
          "data": {
            "text/plain": [
              "array([ 0.0664457 , -0.03656383,  0.0119414 , -0.03504815,  0.03190385,\n",
              "        0.06359198, -0.00625028,  0.0457193 ,  0.10235862,  0.09123483,\n",
              "       -0.00682202, -0.0141362 , -0.02939142,  0.00659941, -0.09507381,\n",
              "       -0.01389073,  0.13451397,  0.0758681 , -0.04472874,  0.01333077,\n",
              "       -0.06154153,  0.01087625,  0.01481687,  0.01289295,  0.07463939,\n",
              "        0.05905278,  0.01544696,  0.0619128 , -0.01057515, -0.06313283,\n",
              "       -0.05923801, -0.05121872, -0.06222444, -0.02596068, -0.07995718,\n",
              "        0.0380957 , -0.00053346,  0.01976248, -0.02147406, -0.10131035,\n",
              "       -0.06297116,  0.03298582,  0.01992661,  0.00480682,  0.01516139,\n",
              "        0.0179726 , -0.02184531, -0.02485196, -0.05015184, -0.0234892 ,\n",
              "        0.02152821, -0.01098075, -0.05296443,  0.02732234, -0.0450508 ,\n",
              "        0.05922005, -0.05917516,  0.08912266,  0.06538949, -0.00194373,\n",
              "        0.01022126,  0.00495855, -0.04361581,  0.02899145,  0.02484912,\n",
              "       -0.01551252,  0.03914731,  0.00431881,  0.01779194,  0.05999887,\n",
              "        0.08662246,  0.01257099,  0.00889342,  0.07402107, -0.00437602,\n",
              "        0.0333433 ,  0.00502504, -0.05255053,  0.01675192,  0.04915347,\n",
              "        0.01998213,  0.03315449, -0.06780054,  0.03248359, -0.04617242,\n",
              "        0.04048143, -0.0273071 ,  0.11124691,  0.03467197,  0.05872636,\n",
              "        0.03812162, -0.00178505,  0.00303248,  0.01099707, -0.03453579,\n",
              "       -0.03365925,  0.07289468,  0.0412127 , -0.0042998 ,  0.05230262,\n",
              "       -0.06388098, -0.04324825, -0.03680658, -0.00039936,  0.04171612,\n",
              "        0.00163139, -0.02635152,  0.04509368, -0.01617403, -0.01946417,\n",
              "       -0.03674251,  0.0434732 ,  0.01054549,  0.06346621, -0.00944665,\n",
              "        0.0286031 , -0.01116513,  0.03776647,  0.0221032 , -0.02912969,\n",
              "       -0.11429904,  0.00341913, -0.05550076, -0.00641754, -0.05403224,\n",
              "       -0.01484529, -0.01969666,  0.02069005,  0.00443381,  0.04392909,\n",
              "       -0.01791761, -0.03822463,  0.02446655,  0.11371455,  0.08301058,\n",
              "       -0.01453304,  0.05521138, -0.06040936,  0.01101132, -0.03055947,\n",
              "        0.08592926, -0.00815015,  0.03564114, -0.00290334, -0.14333318,\n",
              "       -0.05128035,  0.09029859,  0.06534053,  0.03463979, -0.02372988,\n",
              "       -0.03817048,  0.03223795, -0.03846708,  0.00995167,  0.01430985,\n",
              "       -0.00683019,  0.00602367,  0.00575033, -0.05392046, -0.01891391,\n",
              "       -0.07762097,  0.02984895, -0.00046073, -0.05440102,  0.03214939,\n",
              "        0.00786541, -0.00505982,  0.04385134, -0.03223367, -0.07674952,\n",
              "        0.01165216,  0.00258535, -0.00659576,  0.01911436, -0.04140697,\n",
              "        0.05564684, -0.0757136 , -0.01228459,  0.07179198, -0.01038652,\n",
              "       -0.0144924 ,  0.04500607,  0.07227735, -0.01985105, -0.05821745,\n",
              "        0.03485756,  0.02876687, -0.02792572, -0.02075876,  0.00317506,\n",
              "       -0.02073864,  0.03714753,  0.02074094, -0.01148588, -0.00838505,\n",
              "        0.02742046, -0.04477631, -0.00428369,  0.00396803,  0.0685429 ,\n",
              "       -0.01435004,  0.03980168, -0.09669025,  0.00420139,  0.10102049,\n",
              "       -0.02019954, -0.01730556, -0.00316685, -0.00167424, -0.00791676,\n",
              "        0.05340872,  0.01519126, -0.11080153,  0.02505025,  0.01768509,\n",
              "       -0.11596654,  0.00443362,  0.08470602, -0.06196762, -0.07980321,\n",
              "       -0.04138072,  0.01247187,  0.01283993,  0.04541503,  0.00833879,\n",
              "       -0.01132909, -0.01285508, -0.04435741, -0.04574346, -0.04476066,\n",
              "        0.03955867,  0.04614319, -0.09122615, -0.012624  ,  0.0858883 ,\n",
              "        0.00961404,  0.08396639,  0.03168993,  0.04632333, -0.00534616,\n",
              "        0.04581577, -0.1374166 ,  0.04008427, -0.03904043, -0.03282512,\n",
              "       -0.02639029, -0.02216946,  0.05251397,  0.02001488, -0.01648996,\n",
              "       -0.00078275,  0.03615435, -0.02313052, -0.00572329,  0.03206936,\n",
              "        0.03318521, -0.02465112,  0.03548301, -0.09689551, -0.02513072,\n",
              "        0.02194859, -0.02807895,  0.01199044,  0.00260603, -0.01799716,\n",
              "        0.07502906,  0.03253019,  0.01333785,  0.06768394,  0.08865646,\n",
              "       -0.0193627 , -0.02710114, -0.09917315,  0.00920505, -0.01958824,\n",
              "       -0.00042924,  0.08456189, -0.04665481,  0.01300388,  0.01570175,\n",
              "       -0.11203119, -0.02502526, -0.01024697,  0.00473613, -0.00181753,\n",
              "        0.01407609, -0.00077169, -0.08007012,  0.02319261, -0.03612014,\n",
              "        0.00760084, -0.02545801, -0.0194496 ,  0.05193962,  0.00671551,\n",
              "        0.02359614, -0.00368888, -0.00652503,  0.02558601,  0.03545382])"
            ]
          },
          "execution_count": 107,
          "metadata": {},
          "output_type": "execute_result"
        }
      ],
      "source": [
        "# Test: FT Embedding of first word in first sentence\n",
        "X_tr[0][0]"
      ]
    },
    {
      "cell_type": "code",
      "execution_count": 108,
      "metadata": {},
      "outputs": [
        {
          "data": {
            "text/plain": [
              "array([0., 0., 0., 0., 0., 0., 0., 0., 0., 0., 0., 0., 0., 0., 0., 0., 0.,\n",
              "       0., 0., 0., 0., 0., 0., 0., 0., 0., 0., 0., 0., 0., 0., 0., 0., 0.,\n",
              "       0., 0., 0., 0., 0., 0., 0., 0., 0., 0., 0., 0., 0., 0., 0., 0., 0.,\n",
              "       0., 0., 0., 0., 0., 0., 0., 0., 0., 0., 0., 0., 0., 0., 0., 0., 0.,\n",
              "       0., 0., 0., 0., 0., 0., 0., 0., 0., 0., 0., 0., 0., 0., 0., 0., 0.,\n",
              "       0., 0., 0., 0., 0., 0., 0., 0., 0., 0., 0., 0., 0., 0., 0., 0., 0.,\n",
              "       0., 0., 0., 0., 0., 0., 0., 0., 0., 0., 0., 0., 0., 0., 0., 0., 0.,\n",
              "       0., 0., 0., 0., 0., 0., 0., 0., 0., 0., 0., 0., 0., 0., 0., 0., 0.,\n",
              "       0., 0., 0., 0., 0., 0., 0., 0., 0., 0., 0., 0., 0., 0., 0., 0., 0.,\n",
              "       0., 0., 0., 0., 0., 0., 0., 0., 0., 0., 0., 0., 0., 0., 0., 0., 0.,\n",
              "       0., 0., 0., 0., 0., 0., 0., 0., 0., 0., 0., 0., 0., 0., 0., 0., 0.,\n",
              "       0., 0., 0., 0., 0., 0., 0., 0., 0., 0., 0., 0., 0., 0., 0., 0., 0.,\n",
              "       0., 0., 0., 0., 0., 0., 0., 0., 0., 0., 0., 0., 0., 0., 0., 0., 0.,\n",
              "       0., 0., 0., 0., 0., 0., 0., 0., 0., 0., 0., 0., 0., 0., 0., 0., 0.,\n",
              "       0., 0., 0., 0., 0., 0., 0., 0., 0., 0., 0., 0., 0., 0., 0., 0., 0.,\n",
              "       0., 0., 0., 0., 0., 0., 0., 0., 0., 0., 0., 0., 0., 0., 0., 0., 0.,\n",
              "       0., 0., 0., 0., 0., 0., 0., 0., 0., 0., 0., 0., 0., 0., 0., 0., 0.,\n",
              "       0., 0., 0., 0., 0., 0., 0., 0., 0., 0., 0.])"
            ]
          },
          "execution_count": 108,
          "metadata": {},
          "output_type": "execute_result"
        }
      ],
      "source": [
        "# Test: FT Embedding of word #25 (= pad word) in first sentence => should be zero embedding\n",
        "X_tr[0][25]"
      ]
    },
    {
      "cell_type": "code",
      "execution_count": 111,
      "metadata": {},
      "outputs": [
        {
          "name": "stdout",
          "output_type": "stream",
          "text": [
            "(23992, 50, 300)\n",
            "(2199, 50, 300)\n",
            "(5099, 50, 300)\n"
          ]
        }
      ],
      "source": [
        "print(X_tr.shape)\n",
        "print(X_val.shape)\n",
        "print(X_te.shape)"
      ]
    },
    {
      "cell_type": "markdown",
      "metadata": {},
      "source": [
        "### Apply index embeddings (+ categorical transformation) of shape (#sent, max_len, #tags) for y values"
      ]
    },
    {
      "cell_type": "code",
      "execution_count": 113,
      "metadata": {
        "colab": {
          "base_uri": "https://localhost:8080/"
        },
        "id": "VmMg-jPwFq4W",
        "outputId": "a4496136-ef5b-4b59-a9b5-046dd1f2c9d1"
      },
      "outputs": [
        {
          "name": "stdout",
          "output_type": "stream",
          "text": [
            "True\n",
            "True\n",
            "True\n",
            "Train: [[0. 0. 0. ... 0. 0. 0.]\n",
            " [0. 0. 0. ... 0. 0. 0.]\n",
            " [0. 0. 0. ... 0. 0. 0.]\n",
            " ...\n",
            " [0. 0. 0. ... 0. 0. 0.]\n",
            " [0. 0. 0. ... 0. 0. 0.]\n",
            " [0. 0. 0. ... 0. 0. 0.]]\n",
            "\n",
            "Val: [[0. 0. 0. ... 0. 0. 0.]\n",
            " [0. 0. 0. ... 0. 0. 0.]\n",
            " [0. 0. 0. ... 0. 0. 0.]\n",
            " ...\n",
            " [0. 0. 0. ... 0. 0. 0.]\n",
            " [0. 0. 0. ... 0. 0. 0.]\n",
            " [0. 0. 0. ... 0. 0. 0.]]\n",
            "\n",
            "Test: [[0. 0. 0. ... 0. 0. 0.]\n",
            " [0. 0. 0. ... 0. 0. 0.]\n",
            " [0. 0. 0. ... 0. 0. 0.]\n",
            " ...\n",
            " [0. 0. 0. ... 0. 0. 0.]\n",
            " [0. 0. 0. ... 0. 0. 0.]\n",
            " [0. 0. 0. ... 0. 0. 0.]]\n"
          ]
        }
      ],
      "source": [
        "# Convert tags to indices defining input vector y of shape (#sentences, max_len, #tags) with max_len = 50 in this case\n",
        "y_tr = [[tags2index[w[1]] for w in s] for s in sentences_df_train]\n",
        "y_val = [[tags2index[w[1]] for w in s] for s in sentences_df_val]\n",
        "y_te = [[tags2index[w[1]] for w in s] for s in sentences_df_test]\n",
        "\n",
        "# Delete data sets that have sentence length >= max_len\n",
        "for index in missshaped_X_te:\n",
        "    del y_te[index]\n",
        "\n",
        "for index in missshaped_X_val:\n",
        "    del y_val[index]\n",
        "    \n",
        "for index in missshaped_X_tr:\n",
        "    del y_tr[index]\n",
        "\n",
        "# Shapes have to correspond to x-inputs\n",
        "print(len(y_tr) == X_tr.shape[0])\n",
        "print(len(y_val) == X_val.shape[0])\n",
        "print(len(y_te) == X_te.shape[0])\n",
        "\n",
        "# Padding tags to match length of sentence\n",
        "y_tr = pad_sequences(maxlen=max_len, sequences=y_tr, padding=\"post\", value=tags2index[\"O+O\"])\n",
        "y_val = pad_sequences(maxlen=max_len, sequences=y_val, padding=\"post\", value=tags2index[\"O+O\"])\n",
        "y_te = pad_sequences(maxlen=max_len, sequences=y_te, padding=\"post\", value=tags2index[\"O+O\"])\n",
        "\n",
        "# Make y categorical (#sentences, max_len, #tags)\n",
        "y_tr = [to_categorical(i, num_classes=n_tags) for i in y_tr]\n",
        "y_val = [to_categorical(i, num_classes=n_tags) for i in y_val]\n",
        "y_te = [to_categorical(i, num_classes=n_tags) for i in y_te]\n",
        "\n",
        "# Check first data samples\n",
        "print(\"Train: \" + str(y_tr[0]) + \"\\n\")\n",
        "print(\"Val: \" + str(y_val[0]) + \"\\n\")\n",
        "print(\"Test: \" + str(y_te[0]))"
      ]
    },
    {
      "cell_type": "markdown",
      "metadata": {},
      "source": [
        "## Model: Defining architecture"
      ]
    },
    {
      "cell_type": "code",
      "execution_count": 122,
      "metadata": {
        "colab": {
          "base_uri": "https://localhost:8080/"
        },
        "id": "RhRakwLgFq4a",
        "outputId": "8cd13e4f-039d-4034-d6c8-3634d57dbd71"
      },
      "outputs": [],
      "source": [
        "# Defining model architecture\n",
        "TAG_COUNT       = n_tags\n",
        "LSTM_UNITS      = 50\n",
        "LSTM_DROPOUT    = 0.1\n",
        "DENSE_UNITS     = 50\n",
        "\n",
        "tf.compat.v1.set_random_seed(32)\n",
        "\n",
        "# Using keras Sequential approach\n",
        "model = keras.Sequential()\n",
        "model.add(InputLayer(input_shape=(X_tr[0].shape))) #new ft input dim (max_len, 300)\n",
        "model.add(Bidirectional(LSTM(units=LSTM_UNITS, return_sequences=True, recurrent_dropout=LSTM_DROPOUT)))\n",
        "model.add(TimeDistributed(Dense(DENSE_UNITS, activation=\"relu\")))\n",
        "model.add(CRF(TAG_COUNT, learn_mode = 'join', test_mode = 'viterbi')) "
      ]
    },
    {
      "cell_type": "code",
      "execution_count": 123,
      "metadata": {
        "id": "FWKMjkhuFq4b"
      },
      "outputs": [],
      "source": [
        "loss = losses.crf_loss\n",
        "# acc_metric = metrics.crf_accuracy\n",
        "acc_metric = metrics.crf_viterbi_accuracy\n",
        "opt = optimizers.Adam(lr=0.002)\n",
        "# opt = optimizers.RMSprop(lr=0.001)\n",
        "\n",
        "model.compile(optimizer=opt, loss=loss, metrics=[acc_metric])"
      ]
    },
    {
      "cell_type": "code",
      "execution_count": 124,
      "metadata": {
        "colab": {
          "base_uri": "https://localhost:8080/"
        },
        "id": "aaX3k3DxFq4c",
        "outputId": "56345ad2-82f2-46cb-cbf5-ade4f8f3540d"
      },
      "outputs": [
        {
          "name": "stdout",
          "output_type": "stream",
          "text": [
            "Model: \"sequential_2\"\n",
            "_________________________________________________________________\n",
            "Layer (type)                 Output Shape              Param #   \n",
            "=================================================================\n",
            "bidirectional_2 (Bidirection (None, 50, 100)           140400    \n",
            "_________________________________________________________________\n",
            "time_distributed_2 (TimeDist (None, 50, 50)            5050      \n",
            "_________________________________________________________________\n",
            "crf_2 (CRF)                  (None, 50, 110)           17930     \n",
            "=================================================================\n",
            "Total params: 163,380\n",
            "Trainable params: 163,380\n",
            "Non-trainable params: 0\n",
            "_________________________________________________________________\n"
          ]
        }
      ],
      "source": [
        "model.summary()"
      ]
    },
    {
      "cell_type": "code",
      "execution_count": 125,
      "metadata": {
        "colab": {
          "base_uri": "https://localhost:8080/",
          "height": 644
        },
        "id": "cxiC59ObFq4e",
        "outputId": "6a0e546d-f602-481a-9d53-e0643506f2f6"
      },
      "outputs": [
        {
          "data": {
            "image/png": "[encoded data removed]",
            "text/plain": [
              "<IPython.core.display.Image object>"
            ]
          },
          "execution_count": 125,
          "metadata": {},
          "output_type": "execute_result"
        }
      ],
      "source": [
        "plot_model(model,'model.png',show_shapes= True)"
      ]
    },
    {
      "cell_type": "markdown",
      "metadata": {},
      "source": [
        "## Model: Training + Validation"
      ]
    },
    {
      "cell_type": "code",
      "execution_count": 126,
      "metadata": {
        "id": "TWN1bD1aFq4f"
      },
      "outputs": [
        {
          "name": "stdout",
          "output_type": "stream",
          "text": [
            "Train on 23992 samples, validate on 2199 samples\n",
            "Epoch 1/12\n",
            "23992/23992 [==============================] - 109s 5ms/step - loss: 0.3091 - crf_viterbi_accuracy: 0.9517 - val_loss: 0.0897 - val_crf_viterbi_accuracy: 0.9734\n",
            "Epoch 2/12\n",
            "23992/23992 [==============================] - 95s 4ms/step - loss: 0.0592 - crf_viterbi_accuracy: 0.9783 - val_loss: 0.0382 - val_crf_viterbi_accuracy: 0.9804\n",
            "Epoch 3/12\n",
            "23992/23992 [==============================] - 94s 4ms/step - loss: 0.0217 - crf_viterbi_accuracy: 0.9826 - val_loss: 0.0098 - val_crf_viterbi_accuracy: 0.9834\n",
            "Epoch 4/12\n",
            "23992/23992 [==============================] - 97s 4ms/step - loss: -0.0042 - crf_viterbi_accuracy: 0.9845 - val_loss: -0.0130 - val_crf_viterbi_accuracy: 0.9845\n",
            "Epoch 5/12\n",
            "23992/23992 [==============================] - 94s 4ms/step - loss: -0.0252 - crf_viterbi_accuracy: 0.9856 - val_loss: -0.0329 - val_crf_viterbi_accuracy: 0.9859\n",
            "Epoch 6/12\n",
            "23992/23992 [==============================] - 99s 4ms/step - loss: -0.0439 - crf_viterbi_accuracy: 0.9863 - val_loss: -0.0516 - val_crf_viterbi_accuracy: 0.9863\n",
            "Epoch 7/12\n",
            "23992/23992 [==============================] - 100s 4ms/step - loss: -0.0619 - crf_viterbi_accuracy: 0.9869 - val_loss: -0.0683 - val_crf_viterbi_accuracy: 0.9862\n",
            "Epoch 8/12\n",
            "23992/23992 [==============================] - 104s 4ms/step - loss: -0.0792 - crf_viterbi_accuracy: 0.9874 - val_loss: -0.0840 - val_crf_viterbi_accuracy: 0.9865\n",
            "Epoch 9/12\n",
            "23992/23992 [==============================] - 99s 4ms/step - loss: -0.0961 - crf_viterbi_accuracy: 0.9879 - val_loss: -0.1007 - val_crf_viterbi_accuracy: 0.9870\n",
            "Epoch 10/12\n",
            "23992/23992 [==============================] - 100s 4ms/step - loss: -0.1127 - crf_viterbi_accuracy: 0.9884 - val_loss: -0.1167 - val_crf_viterbi_accuracy: 0.9872\n",
            "Epoch 11/12\n",
            "23992/23992 [==============================] - 103s 4ms/step - loss: -0.1290 - crf_viterbi_accuracy: 0.9886 - val_loss: -0.1324 - val_crf_viterbi_accuracy: 0.9872\n",
            "Epoch 12/12\n",
            "23992/23992 [==============================] - 97s 4ms/step - loss: -0.1453 - crf_viterbi_accuracy: 0.9890 - val_loss: -0.1482 - val_crf_viterbi_accuracy: 0.9875\n"
          ]
        }
      ],
      "source": [
        "BATCH_SIZE = 64\n",
        "EPOCHS = 12\n",
        "\n",
        "history = model.fit(X_tr, np.array(y_tr), validation_data=(X_val, np.array(y_val)), batch_size=BATCH_SIZE, epochs=EPOCHS, verbose=1)"
      ]
    },
    {
      "cell_type": "code",
      "execution_count": 127,
      "metadata": {},
      "outputs": [
        {
          "data": {
            "text/html": [
              "<div>\n",
              "<style scoped>\n",
              "    .dataframe tbody tr th:only-of-type {\n",
              "        vertical-align: middle;\n",
              "    }\n",
              "\n",
              "    .dataframe tbody tr th {\n",
              "        vertical-align: top;\n",
              "    }\n",
              "\n",
              "    .dataframe thead th {\n",
              "        text-align: right;\n",
              "    }\n",
              "</style>\n",
              "<table border=\"1\" class=\"dataframe\">\n",
              "  <thead>\n",
              "    <tr style=\"text-align: right;\">\n",
              "      <th></th>\n",
              "      <th>val_loss</th>\n",
              "      <th>val_crf_viterbi_accuracy</th>\n",
              "      <th>loss</th>\n",
              "      <th>crf_viterbi_accuracy</th>\n",
              "    </tr>\n",
              "  </thead>\n",
              "  <tbody>\n",
              "    <tr>\n",
              "      <th>0</th>\n",
              "      <td>0.089674</td>\n",
              "      <td>0.973429</td>\n",
              "      <td>0.309121</td>\n",
              "      <td>0.951651</td>\n",
              "    </tr>\n",
              "    <tr>\n",
              "      <th>1</th>\n",
              "      <td>0.038188</td>\n",
              "      <td>0.980373</td>\n",
              "      <td>0.059228</td>\n",
              "      <td>0.978290</td>\n",
              "    </tr>\n",
              "    <tr>\n",
              "      <th>2</th>\n",
              "      <td>0.009823</td>\n",
              "      <td>0.983374</td>\n",
              "      <td>0.021720</td>\n",
              "      <td>0.982630</td>\n",
              "    </tr>\n",
              "    <tr>\n",
              "      <th>3</th>\n",
              "      <td>-0.013040</td>\n",
              "      <td>0.984524</td>\n",
              "      <td>-0.004192</td>\n",
              "      <td>0.984531</td>\n",
              "    </tr>\n",
              "    <tr>\n",
              "      <th>4</th>\n",
              "      <td>-0.032906</td>\n",
              "      <td>0.985851</td>\n",
              "      <td>-0.025188</td>\n",
              "      <td>0.985633</td>\n",
              "    </tr>\n",
              "    <tr>\n",
              "      <th>5</th>\n",
              "      <td>-0.051579</td>\n",
              "      <td>0.986338</td>\n",
              "      <td>-0.043943</td>\n",
              "      <td>0.986282</td>\n",
              "    </tr>\n",
              "    <tr>\n",
              "      <th>6</th>\n",
              "      <td>-0.068338</td>\n",
              "      <td>0.986244</td>\n",
              "      <td>-0.061947</td>\n",
              "      <td>0.986913</td>\n",
              "    </tr>\n",
              "    <tr>\n",
              "      <th>7</th>\n",
              "      <td>-0.083996</td>\n",
              "      <td>0.986481</td>\n",
              "      <td>-0.079241</td>\n",
              "      <td>0.987416</td>\n",
              "    </tr>\n",
              "    <tr>\n",
              "      <th>8</th>\n",
              "      <td>-0.100734</td>\n",
              "      <td>0.986952</td>\n",
              "      <td>-0.096072</td>\n",
              "      <td>0.987940</td>\n",
              "    </tr>\n",
              "    <tr>\n",
              "      <th>9</th>\n",
              "      <td>-0.116686</td>\n",
              "      <td>0.987181</td>\n",
              "      <td>-0.112737</td>\n",
              "      <td>0.988374</td>\n",
              "    </tr>\n",
              "    <tr>\n",
              "      <th>10</th>\n",
              "      <td>-0.132440</td>\n",
              "      <td>0.987230</td>\n",
              "      <td>-0.128996</td>\n",
              "      <td>0.988645</td>\n",
              "    </tr>\n",
              "    <tr>\n",
              "      <th>11</th>\n",
              "      <td>-0.148205</td>\n",
              "      <td>0.987496</td>\n",
              "      <td>-0.145323</td>\n",
              "      <td>0.989019</td>\n",
              "    </tr>\n",
              "  </tbody>\n",
              "</table>\n",
              "</div>"
            ],
            "text/plain": [
              "    val_loss  val_crf_viterbi_accuracy      loss  crf_viterbi_accuracy\n",
              "0   0.089674                  0.973429  0.309121              0.951651\n",
              "1   0.038188                  0.980373  0.059228              0.978290\n",
              "2   0.009823                  0.983374  0.021720              0.982630\n",
              "3  -0.013040                  0.984524 -0.004192              0.984531\n",
              "4  -0.032906                  0.985851 -0.025188              0.985633\n",
              "5  -0.051579                  0.986338 -0.043943              0.986282\n",
              "6  -0.068338                  0.986244 -0.061947              0.986913\n",
              "7  -0.083996                  0.986481 -0.079241              0.987416\n",
              "8  -0.100734                  0.986952 -0.096072              0.987940\n",
              "9  -0.116686                  0.987181 -0.112737              0.988374\n",
              "10 -0.132440                  0.987230 -0.128996              0.988645\n",
              "11 -0.148205                  0.987496 -0.145323              0.989019"
            ]
          },
          "execution_count": 127,
          "metadata": {},
          "output_type": "execute_result"
        }
      ],
      "source": [
        "hist = pd.DataFrame(history.history)\n",
        "hist"
      ]
    },
    {
      "cell_type": "code",
      "execution_count": 128,
      "metadata": {},
      "outputs": [
        {
          "data": {
            "text/plain": [
              "(<Figure size 720x360 with 2 Axes>,\n",
              " array([<AxesSubplot:title={'center':'Loss'}, xlabel='Epochs', ylabel='Loss'>,\n",
              "        <AxesSubplot:title={'center':'CRF viterbi Accuracy'}, xlabel='Epochs', ylabel='CRF viterbi Accuracy'>],\n",
              "       dtype=object))"
            ]
          },
          "execution_count": 128,
          "metadata": {},
          "output_type": "execute_result"
        },
        {
          "data": {
            "image/png": "[encoded data removed]",
            "text/plain": [
              "<Figure size 720x360 with 2 Axes>"
            ]
          },
          "metadata": {
            "needs_background": "light"
          },
          "output_type": "display_data"
        }
      ],
      "source": [
        "plot_history(history.history)"
      ]
    },
    {
      "cell_type": "markdown",
      "metadata": {},
      "source": [
        "## Model: Prediction for test data"
      ]
    },
    {
      "cell_type": "code",
      "execution_count": 129,
      "metadata": {
        "id": "riUHrz0JFq4g"
      },
      "outputs": [
        {
          "name": "stdout",
          "output_type": "stream",
          "text": [
            "5099/5099 [==============================] - 8s 2ms/step\n"
          ]
        }
      ],
      "source": [
        "# Predict output for test data\n",
        "test_pred = model.predict(X_te, verbose=1)\n",
        "# Index as key and tag as value\n",
        "idx2tag = {i: w for w, i in tags2index.items()}\n",
        "# Function to convert indexed tags to corresponding actual tags\n",
        "def pred2label(pred):\n",
        "    out = []\n",
        "    for pred_i in pred:\n",
        "        out_i = []\n",
        "        for p in pred_i:\n",
        "            p_i = np.argmax(p)\n",
        "            out_i.append(idx2tag[p_i].replace(\"PADword\", \"O\"))\n",
        "        out.append(out_i)\n",
        "    return out\n",
        "\n",
        "pred_labels = pred2label(test_pred)\n",
        "test_labels = pred2label(y_te)"
      ]
    },
    {
      "cell_type": "code",
      "execution_count": 130,
      "metadata": {},
      "outputs": [
        {
          "name": "stdout",
          "output_type": "stream",
          "text": [
            "Accuracy:  0.9877073936065895\n"
          ]
        }
      ],
      "source": [
        "print(\"Accuracy: \", accuracy_score(test_labels, pred_labels))"
      ]
    },
    {
      "cell_type": "code",
      "execution_count": 132,
      "metadata": {
        "id": "WvZWBkd6Fq4h"
      },
      "outputs": [
        {
          "name": "stdout",
          "output_type": "stream",
          "text": [
            "F1-score: 73.4%\n"
          ]
        }
      ],
      "source": [
        "print(\"F1-score: {:.1%}\".format(f1_score(test_labels, pred_labels)))"
      ]
    },
    {
      "cell_type": "code",
      "execution_count": 133,
      "metadata": {
        "id": "zGfzpwAhFq4h"
      },
      "outputs": [
        {
          "name": "stderr",
          "output_type": "stream",
          "text": [
            "/Applications/anaconda3/envs/tf1/lib/python3.7/site-packages/seqeval/metrics/v1.py:57: UndefinedMetricWarning: Precision and F-score are ill-defined and being set to 0.0 in labels with no predicted samples. Use `zero_division` parameter to control this behavior.\n",
            "  _warn_prf(average, modifier, msg_start, len(result))\n"
          ]
        },
        {
          "name": "stdout",
          "output_type": "stream",
          "text": [
            "                    precision    recall  f1-score   support\n",
            "\n",
            "         LOC+B-LOC       0.29      0.06      0.11        31\n",
            "    LOC+B-LOCderiv       0.60      0.36      0.45        42\n",
            "         LOC+B-PER       0.00      0.00      0.00        15\n",
            "    LOC+B-PERderiv       0.00      0.00      0.00         1\n",
            "     LOC+B-PERpart       0.00      0.00      0.00         1\n",
            "         LOC+I-LOC       0.00      0.00      0.00         2\n",
            "             LOC+O       0.78      0.84      0.81      1710\n",
            "        LOCderiv+O       0.86      0.85      0.85       561\n",
            "         LOCpart+O       0.30      0.03      0.05       109\n",
            "         ORG+B-LOC       0.68      0.69      0.68       140\n",
            "    ORG+B-LOCderiv       0.62      0.68      0.65        81\n",
            "     ORG+B-LOCpart       0.00      0.00      0.00         4\n",
            "         ORG+B-ORG       0.00      0.00      0.00        10\n",
            "    ORG+B-ORGderiv       0.00      0.00      0.00         1\n",
            "         ORG+B-PER       0.56      0.38      0.45        24\n",
            "    ORG+B-PERderiv       0.00      0.00      0.00         3\n",
            "     ORG+B-PERpart       0.00      0.00      0.00         3\n",
            "         ORG+I-LOC       0.50      0.17      0.25         6\n",
            "    ORG+I-LOCderiv       0.00      0.00      0.00         1\n",
            "         ORG+I-ORG       0.00      0.00      0.00         2\n",
            "         ORG+I-PER       0.71      0.71      0.71         7\n",
            "             ORG+O       0.72      0.65      0.68      1152\n",
            "        ORGderiv+O       0.00      0.00      0.00         8\n",
            "ORGpart+B-LOCderiv       0.00      0.00      0.00         1\n",
            "         ORGpart+O       0.49      0.17      0.25       172\n",
            "         OTH+B-LOC       0.38      0.29      0.32        21\n",
            "    OTH+B-LOCderiv       0.62      0.16      0.25        32\n",
            "     OTH+B-LOCpart       0.00      0.00      0.00         1\n",
            "         OTH+B-ORG       0.92      0.37      0.52        30\n",
            "         OTH+B-OTH       0.00      0.00      0.00         7\n",
            "     OTH+B-OTHpart       0.00      0.00      0.00         1\n",
            "         OTH+B-PER       0.50      0.24      0.33        41\n",
            "         OTH+I-LOC       0.00      0.00      0.00         1\n",
            "         OTH+I-ORG       0.00      0.00      0.00         6\n",
            "         OTH+I-OTH       0.00      0.00      0.00         4\n",
            "         OTH+I-PER       0.50      0.38      0.43         8\n",
            "             OTH+O       0.65      0.44      0.52       724\n",
            "        OTHderiv+O       0.71      0.31      0.43        39\n",
            "         OTHpart+O       0.00      0.00      0.00        42\n",
            "         PER+B-LOC       0.75      0.60      0.67        15\n",
            "     PER+B-ORGpart       0.00      0.00      0.00         1\n",
            "             PER+O       0.88      0.88      0.88      1639\n",
            "        PERderiv+O       0.00      0.00      0.00        11\n",
            "         PERpart+O       0.00      0.00      0.00        44\n",
            "\n",
            "         micro avg       0.78      0.69      0.73      6754\n",
            "         macro avg       0.30      0.21      0.23      6754\n",
            "      weighted avg       0.74      0.69      0.71      6754\n",
            "\n"
          ]
        }
      ],
      "source": [
        "print(classification_report(test_labels, pred_labels))"
      ]
    },
    {
      "cell_type": "markdown",
      "metadata": {},
      "source": [
        "# This code wont work under fasttext since we are not able to convert the embeddings back into words"
      ]
    },
    {
      "cell_type": "code",
      "execution_count": null,
      "metadata": {
        "id": "Db1SVIHTFq4h"
      },
      "outputs": [],
      "source": [
        "# Output for random test input\n",
        "# Wont work with fasttext! Vector Embeddings cannot be converted to old word\n",
        "i = 40\n",
        "print(ft_model.(X_te[i][i]))\n",
        "\n",
        "p = model.predict(np.array([X_te[i]]))\n",
        "p = np.argmax(p, axis=-1)\n",
        "true = np.argmax(y_te[i], -1)\n",
        "\n",
        "    \n",
        "x = PrettyTable()\n",
        "x.field_names = [\"Word\", \"Actual Tag\", \"Predicted Tag\"]\n",
        "\n",
        "for w, t, pred in zip(X_te[i], true, p[0]):\n",
        "    if w != 0:\n",
        "        # x.add_row([words[w-1], tags[t], tags[pred]])\n",
        "        x.add_row([words[w], tags[t], tags[pred]])\n",
        "        \n",
        "print(x)"
      ]
    },
    {
      "cell_type": "markdown",
      "metadata": {
        "id": "knTrRwFXFq4i"
      },
      "source": [
        "### Visualising in spacy"
      ]
    },
    {
      "cell_type": "code",
      "execution_count": null,
      "metadata": {
        "id": "mJWJRrGxFq4j"
      },
      "outputs": [],
      "source": [
        "sen = ''\n",
        "for s in sentences_df_test[40]:\n",
        "  sen += s[0] + ' '\n",
        "sen"
      ]
    },
    {
      "cell_type": "code",
      "execution_count": null,
      "metadata": {
        "id": "PO7HbDGAFq4j"
      },
      "outputs": [],
      "source": [
        "import spacy\n",
        "from spacy import displacy\n",
        "nlp = spacy.load('de_core_news_sm')\n",
        "text = nlp(sen)\n",
        "displacy.render(text, style = 'ent', jupyter=True)"
      ]
    },
    {
      "cell_type": "code",
      "execution_count": null,
      "metadata": {},
      "outputs": [],
      "source": [
        "# Query sentence other than test input\n",
        "test_sentence = [\"Berlin\", \"ist\", \"die\", \"Hauptstadt\", \"von\", \"Deutschland\", \"und\", \"Bayern\", \"München\", \"ist\", \"ein\", \"deutscher\", \"Fußballclub\"]"
      ]
    },
    {
      "cell_type": "code",
      "execution_count": null,
      "metadata": {},
      "outputs": [],
      "source": [
        "x_test_sent = pad_sequences(sequences=[[words2index.get(w, 0) for w in test_sentence]], padding=\"post\", value=0, maxlen=max_len)"
      ]
    },
    {
      "cell_type": "code",
      "execution_count": null,
      "metadata": {},
      "outputs": [],
      "source": [
        "# Output tags for query input\n",
        "p = model.predict(np.array([x_test_sent[0]]))\n",
        "p = np.argmax(p, axis=-1)\n",
        "\n",
        "x = PrettyTable()\n",
        "x.field_names = [\"Word\", \"Predicted Tag\"]\n",
        "\n",
        "for w, pred in zip(test_sentence, p[0]):\n",
        "    x.add_row([w, tags[pred]])\n",
        "        \n",
        "print(x)"
      ]
    },
    {
      "cell_type": "markdown",
      "metadata": {
        "id": "9ErNNwbyFq4j"
      },
      "source": []
    }
  ],
  "metadata": {
    "colab": {
      "provenance": []
    },
    "kernelspec": {
      "display_name": "Python 3.7.12 ('tf1')",
      "language": "python",
      "name": "python3"
    },
    "language_info": {
      "codemirror_mode": {
        "name": "ipython",
        "version": 3
      },
      "file_extension": ".py",
      "mimetype": "text/x-python",
      "name": "python",
      "nbconvert_exporter": "python",
      "pygments_lexer": "ipython3",
      "version": "3.7.12"
    },
    "orig_nbformat": 4,
    "vscode": {
      "interpreter": {
        "hash": "5f00ccb35c83db57f0873b7e4c6d0443b7dd556c1014aadc907ccea477ab2cc9"
      }
    }
  },
  "nbformat": 4,
  "nbformat_minor": 0
}
