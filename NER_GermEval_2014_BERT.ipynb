{
  "cells": [
    {
      "cell_type": "code",
      "execution_count": 9,
      "metadata": {
        "colab": {
          "base_uri": "https://localhost:8080/"
        },
        "gather": {
          "logged": 1664902512984
        },
        "id": "zjAmFZ58Gwn6",
        "outputId": "65e9d1ca-6e10-4f6f-e89f-712228221c63"
      },
      "outputs": [],
      "source": [
        "azure = False\n",
        "colab = False\n",
        "\n",
        "if azure or colab:\n",
        "    !pip install transformers\n",
        "    !pip install prettytable\n",
        "    !pip install tensorflow==2.10\n",
        "    !pip install plot_keras_history\n",
        "    !pip install pydot\n",
        "    !pip install graphviz\n",
        "    !pip install seqeval"
      ]
    },
    {
      "cell_type": "markdown",
      "metadata": {},
      "source": [
        "## Library imports"
      ]
    },
    {
      "cell_type": "code",
      "execution_count": 1,
      "metadata": {
        "colab": {
          "base_uri": "https://localhost:8080/",
          "height": 158,
          "referenced_widgets": [
            "99408cf6a59b498b8fc056b5feecb57d",
            "50f430fa793b4ae983521b8cd9593fb6",
            "2975d71de50a4b84b8128500470e4d40",
            "b1eab855d56c4f1bab2e8ee5bc6a89d5",
            "6cc953dd94704b529471d5d91a093827",
            "d657215fb8444a0ba02bc161ad8ed547",
            "2e0b658d7d224ca4ac1ba6978257822e",
            "bfeb35e88fa1465995b8e0d6f1dddc98",
            "3e07adb6a51e4248bd6406aea900a5c3",
            "6c65ec02e5cb4420a92466ec88176a6a",
            "78cb53ee8dbb46c2be60c18f7727f607"
          ]
        },
        "gather": {
          "logged": 1664902846382
        },
        "id": "UkG__L2Z2Jav",
        "outputId": "cf4a8f66-55b9-4f50-c52c-51d5db703996"
      },
      "outputs": [
        {
          "name": "stderr",
          "output_type": "stream",
          "text": [
            "2023-05-03 17:03:05.852828: I tensorflow/core/platform/cpu_feature_guard.cc:193] This TensorFlow binary is optimized with oneAPI Deep Neural Network Library (oneDNN) to use the following CPU instructions in performance-critical operations:  AVX2 FMA\n",
            "To enable them in other operations, rebuild TensorFlow with the appropriate compiler flags.\n",
            "2023-05-03 17:03:12.982619: E tensorflow/stream_executor/cuda/cuda_blas.cc:2981] Unable to register cuBLAS factory: Attempting to register factory for plugin cuBLAS when one has already been registered\n",
            "2023-05-03 17:03:21.267244: W tensorflow/stream_executor/platform/default/dso_loader.cc:64] Could not load dynamic library 'libnvinfer.so.7'; dlerror: libnvinfer.so.7: cannot open shared object file: No such file or directory\n",
            "2023-05-03 17:03:21.267366: W tensorflow/stream_executor/platform/default/dso_loader.cc:64] Could not load dynamic library 'libnvinfer_plugin.so.7'; dlerror: libnvinfer_plugin.so.7: cannot open shared object file: No such file or directory\n",
            "2023-05-03 17:03:21.267379: W tensorflow/compiler/tf2tensorrt/utils/py_utils.cc:38] TF-TRT Warning: Cannot dlopen some TensorRT libraries. If you would like to use Nvidia GPU with TensorRT, please make sure the missing libraries mentioned above are installed properly.\n"
          ]
        },
        {
          "name": "stdout",
          "output_type": "stream",
          "text": [
            "tf: 2.10.0\n",
            "transformers: 4.16.0\n"
          ]
        }
      ],
      "source": [
        "import warnings\n",
        "warnings.filterwarnings(\"ignore\")\n",
        "import pandas as pd\n",
        "import csv\n",
        "\n",
        "import matplotlib.pyplot as plt\n",
        "%matplotlib inline\n",
        "\n",
        "from prettytable import PrettyTable\n",
        "\n",
        "import os\n",
        "import re\n",
        "import json\n",
        "import string\n",
        "import numpy as np\n",
        "import pandas as pd\n",
        "import tensorflow as tf\n",
        "import transformers\n",
        "from tensorflow import keras\n",
        "from keras.utils import plot_model\n",
        "from tensorflow.keras import layers\n",
        "from sklearn import preprocessing\n",
        "from tokenizers import BertWordPieceTokenizer\n",
        "from transformers import BertTokenizer, TFBertModel, BertConfig\n",
        "\n",
        "import datetime\n",
        "\n",
        "from seqeval.metrics import f1_score, classification_report, accuracy_score\n",
        "from plot_keras_history import plot_history\n",
        "# from tensorboardcolab import TensorBoardColab, TensorBoardColabCallback\n",
        "import os\n",
        "print(\"tf: \" + tf.__version__)\n",
        "print(\"transformers: \" + transformers.__version__)"
      ]
    },
    {
      "cell_type": "markdown",
      "metadata": {
        "nteract": {
          "transient": {
            "deleting": false
          }
        }
      },
      "source": [
        "Check if GPU is running"
      ]
    },
    {
      "cell_type": "code",
      "execution_count": 2,
      "metadata": {
        "gather": {
          "logged": 1664902516841
        },
        "jupyter": {
          "outputs_hidden": false,
          "source_hidden": false
        },
        "nteract": {
          "transient": {
            "deleting": false
          }
        }
      },
      "outputs": [
        {
          "data": {
            "text/plain": [
              "[PhysicalDevice(name='/physical_device:GPU:0', device_type='GPU')]"
            ]
          },
          "execution_count": 2,
          "metadata": {},
          "output_type": "execute_result"
        }
      ],
      "source": [
        "tf.config.list_physical_devices('GPU')"
      ]
    },
    {
      "cell_type": "markdown",
      "metadata": {
        "id": "L8wthcNo2Ja4"
      },
      "source": [
        "## Data: Import"
      ]
    },
    {
      "cell_type": "code",
      "execution_count": null,
      "metadata": {
        "colab": {
          "base_uri": "https://localhost:8080/"
        },
        "gather": {
          "logged": 1664902516983
        },
        "id": "tUe-YHgM2HIw",
        "outputId": "1705d91d-c0c7-4d3b-dccb-e9629c1b299a"
      },
      "outputs": [],
      "source": [
        "# For Google Colab only\n",
        "if colab:\n",
        "    !git clone https://github.com/mapriess/GermEval_2014_NER_DEMO.git"
      ]
    },
    {
      "cell_type": "code",
      "execution_count": 10,
      "metadata": {
        "gather": {
          "logged": 1664902517121
        },
        "id": "e7r13MB-2Ja5"
      },
      "outputs": [],
      "source": [
        "pathColab = ''\n",
        "if colab:\n",
        "  pathColab = \"GermEval_2014_NER_DEMO/\"\n",
        "\n",
        "dataPath_train = pathColab + \"Data/NER-de-train.tsv\"\n",
        "dataPath_val = pathColab + \"Data/NER-de-dev.tsv\"\n",
        "dataPath_test = pathColab + \"Data/NER-de-test.tsv\"\n",
        "dataPath_all = pathColab + \"Data/NER-de-all.tsv\"\n",
        "\n",
        "max_len = 50\n",
        "configuration = BertConfig()"
      ]
    },
    {
      "cell_type": "code",
      "execution_count": 5,
      "metadata": {
        "gather": {
          "logged": 1664902517268
        },
        "id": "dksS6zjB2HIx"
      },
      "outputs": [],
      "source": [
        "#\n",
        "# Parser for GermEval 2014 Dataset\n",
        "#\n",
        "# Input: Tab-separated file, one token per row, two levels of annotation\n",
        "# Token    Tag_Level1     Tag_Level2\n",
        "# \n",
        "# Output: Pandas dataframe (columns: Sentence #, Token, TagComb)\n",
        "#\n",
        "def parser(path):\n",
        "    cols = ['Sentence #','Word', 'Tag_Level1', 'Tag_Level2']\n",
        "    df = pd.read_csv(path, sep='\\t', encoding=\"utf8\", quoting=3)\n",
        "\n",
        "    # Set columns\n",
        "    cols = ['Sentence #','Word', 'Tag_Level1', 'Tag_Level2']\n",
        "    df.set_axis(labels=cols, axis='columns', inplace=True)\n",
        "\n",
        "    # Correct sentence number according to source entries (#)\n",
        "    # TODO: Find more efficient way to further speed up the parsing\n",
        "    sent_id = 1\n",
        "    for index, row in df.iterrows():\n",
        "        if (row['Sentence #'] == '#'):\n",
        "            sent_id += 1\n",
        "            continue\n",
        "        row['Sentence #'] = \"Sentence: \" + str(sent_id)\n",
        "\n",
        "    # Delete rows starting with '#'\n",
        "    df.drop( df[df['Sentence #'] == '#'].index, inplace=True )\n",
        "\n",
        "    # Conventional flat named‐entity‐recognition models could be used without any modification once the labels of different levels were joined together into a single level (Agrawal et al. (2022)).\n",
        "    df['TagComb'] = df['Tag_Level1'] + \"+\" + df['Tag_Level2']\n",
        "    df.drop(columns=['Tag_Level1','Tag_Level2'], inplace=True)\n",
        "\n",
        "    return df"
      ]
    },
    {
      "cell_type": "code",
      "execution_count": 16,
      "metadata": {
        "gather": {
          "logged": 1664902580283
        },
        "id": "eWDzSQ8r2HIy"
      },
      "outputs": [],
      "source": [
        "# Data split will be done later since we need to do the label encoding on the whole data set first\n",
        "df = parser(dataPath_all)"
      ]
    },
    {
      "cell_type": "markdown",
      "metadata": {},
      "source": [
        "## Data: Preparation"
      ]
    },
    {
      "cell_type": "code",
      "execution_count": 17,
      "metadata": {
        "gather": {
          "logged": 1664902580442
        },
        "id": "iA0VQ8WH2JbE"
      },
      "outputs": [],
      "source": [
        "# References\n",
        "# https://keras.io/examples/nlp/text_extraction_with_bert/\n",
        "# https://huggingface.co/docs/transformers/glossary\n",
        "\n",
        "# Get the sentences\n",
        "def process_csv(df):\n",
        "    enc_tag = preprocessing.LabelEncoder() # encode the labels\n",
        "    #all_tags_with_bert_special_tokens_as_tag = list(set(df[\"TagComb\"].tolist() + [\"CLS\", \"SEP\", \"PAD\"])) \n",
        "    all_tags_with_bert_special_tokens_as_tag = list(set(df[\"TagComb\"].tolist() + [\"PAD\"])) \n",
        "    enc_tag.fit_transform(all_tags_with_bert_special_tokens_as_tag)\n",
        "    df[\"TagCombEncoded\"] = enc_tag.transform(df[\"TagComb\"]) # encode the current labels and return them\n",
        "    print(enc_tag.classes_)\n",
        "    sentences = df.groupby(\"Sentence #\")[\"Word\"].apply(list).values # list with list of words of the same sentence\n",
        "    tag = df.groupby(\"Sentence #\")[\"TagCombEncoded\"].apply(list).values # list with list of encoded tags of the same sentence\n",
        "    return sentences, tag, enc_tag\n",
        "\n",
        "# Prepare the inputs for feeding into model\n",
        "def create_inputs_targets(df):\n",
        "    dataset_dict = {\n",
        "        \"input_ids\": [],\n",
        "        \"attention_mask\": [],\n",
        "        \"tags\": []\n",
        "    }\n",
        "    sentences, tags, tag_encoder = process_csv(df)\n",
        "    \n",
        "    for sentence, tag in zip(sentences, tags):\n",
        "        input_ids = []\n",
        "        target_tags = []\n",
        "        for idx, word in enumerate(sentence):\n",
        "            #ids = tokenizer.encode(word, add_special_tokens=False)\n",
        "            ids = tokenizer.encode(str(word), add_special_tokens=False) # Otherwise \"TypeError: TextInputSequence must be str\"\n",
        "            input_ids.extend(ids.ids)\n",
        "            num_tokens = len(ids)\n",
        "            target_tags.extend([tag[idx]] * num_tokens)\n",
        "                    \n",
        "        # Pad truncate\n",
        "        input_ids = input_ids[:max_len - 2]\n",
        "        target_tags = target_tags[:max_len - 2]\n",
        "\n",
        "        # Add [CLS] and [SEP]\n",
        "        input_ids = input_ids\n",
        "        target_tags = target_tags\n",
        "        \n",
        "        # Adding attention mask for non-padded input\n",
        "        attention_mask = [1] * len(input_ids)\n",
        "        \n",
        "        # Making all the input embeddings same length by padding\n",
        "        padding_len = max_len - len(input_ids)\n",
        "        input_ids = input_ids + ([0] * padding_len)\n",
        "        attention_mask = attention_mask + ([0] * padding_len)\n",
        "        target_tags = target_tags + (list(tag_encoder.transform([\"PAD\"])) * padding_len)\n",
        "        \n",
        "        dataset_dict[\"input_ids\"].append(input_ids)\n",
        "        dataset_dict[\"attention_mask\"].append(attention_mask)\n",
        "        dataset_dict[\"tags\"].append(target_tags)\n",
        "        assert len(target_tags) == max_len, f'{len(input_ids)}, {len(target_tags)}'\n",
        "                \n",
        "    for key in dataset_dict:\n",
        "        dataset_dict[key] = np.array(dataset_dict[key])\n",
        "\n",
        "    # Creating array of input embeddings\n",
        "    x = [\n",
        "        dataset_dict[\"input_ids\"],\n",
        "        dataset_dict[\"attention_mask\"],\n",
        "    ]\n",
        "    y = dataset_dict[\"tags\"]\n",
        "    \n",
        "    return x, y, tag_encoder\n"
      ]
    },
    {
      "cell_type": "code",
      "execution_count": 18,
      "metadata": {
        "gather": {
          "logged": 1664902581221
        },
        "jupyter": {
          "outputs_hidden": false,
          "source_hidden": false
        },
        "nteract": {
          "transient": {
            "deleting": false
          }
        }
      },
      "outputs": [],
      "source": [
        "# Create an Array with respective sentences to observe them easier\n",
        "# = list with list of words of the same sentence\n",
        "sentences = df.groupby(\"Sentence #\")[\"Word\"].apply(list)"
      ]
    },
    {
      "cell_type": "markdown",
      "metadata": {
        "id": "0m9fKoIGHS10"
      },
      "source": [
        "## BERT: Tokenizer"
      ]
    },
    {
      "cell_type": "code",
      "execution_count": 25,
      "metadata": {
        "gather": {
          "logged": 1664902584503
        },
        "id": "jiMa8rsR2Jbq"
      },
      "outputs": [],
      "source": [
        "# Reference: https://keras.io/examples/nlp/text_extraction_with_bert/\n",
        "# Save the slow pretrained tokenizer\n",
        "slow_tokenizer = BertTokenizer.from_pretrained(\"bert-base-multilingual-uncased\") # need to use the multilingual bert\n",
        "save_path = \"./bert-base-multilingual-uncased-tokenizer/\"\n",
        "if not os.path.exists(save_path):\n",
        "    os.makedirs(save_path)\n",
        "slow_tokenizer.save_pretrained(save_path)\n",
        "\n",
        "# Load the fast tokenizer from saved file\n",
        "tokenizer = BertWordPieceTokenizer(\"./bert-base-multilingual-uncased-tokenizer/vocab.txt\", lowercase=True)"
      ]
    },
    {
      "cell_type": "markdown",
      "metadata": {
        "id": "h_hy1QMgDFZq"
      },
      "source": [
        "## BERT: Load model"
      ]
    },
    {
      "cell_type": "markdown",
      "metadata": {
        "id": "ZdtQLILlcGav"
      },
      "source": [
        "![image.png](data:image/png;base64,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)"
      ]
    },
    {
      "cell_type": "markdown",
      "metadata": {
        "id": "saWuUlwKcy6Y"
      },
      "source": [
        "Above image illustrates fine tuning of BERT for NER task.\n",
        "Source: https://arxiv.org/pdf/1810.04805.pdf"
      ]
    },
    {
      "cell_type": "code",
      "execution_count": 84,
      "metadata": {
        "gather": {
          "logged": 1664902584687
        },
        "jupyter": {
          "outputs_hidden": false,
          "source_hidden": false
        },
        "nteract": {
          "transient": {
            "deleting": false
          }
        }
      },
      "outputs": [
        {
          "name": "stdout",
          "output_type": "stream",
          "text": [
            "['B-LOC+O' 'B-ORG+O' 'B-PER+O' 'I-PER+O' 'O+O' 'PAD']\n",
            "[list(['Schartau', 'sagte', 'dem', '\"', 'Tagesspiegel', '\"', 'vom', 'Freitag', ',', 'Fischer', 'sei', '\"', 'in', 'einer', 'Weise', 'aufgetreten', ',', 'die', 'alles', 'andere', 'als', 'überzeugend', 'war', '\"', '.'])\n",
            " list(['Firmengründer', 'Wolf', 'Peter', 'Bree', 'arbeitete', 'Anfang', 'der', 'siebziger', 'Jahre', 'als', 'Möbelvertreter', ',', 'als', 'er', 'einen', 'fliegenden', 'Händler', 'aus', 'dem', 'Libanon', 'traf', '.'])]\n",
            "[list([2, 4, 4, 4, 1, 4, 4, 4, 4, 2, 4, 4, 4, 4, 4, 4, 4, 4, 4, 4, 4, 4, 4, 4, 4])\n",
            " list([4, 2, 3, 3, 4, 4, 4, 4, 4, 4, 4, 4, 4, 4, 4, 4, 4, 4, 4, 0, 4, 4])]\n",
            "['B-LOC+O' 'B-ORG+O' 'B-PER+O' 'I-PER+O' 'O+O' 'PAD']\n",
            "============\n",
            "['Schartau', 'sagte', 'dem', '\"', 'Tagesspiegel', '\"', 'vom', 'Freitag', ',', 'Fischer', 'sei', '\"', 'in', 'einer', 'Weise', 'aufgetreten', ',', 'die', 'alles', 'andere', 'als', 'überzeugend', 'war', '\"', '.']\n",
            "[2, 4, 4, 4, 1, 4, 4, 4, 4, 2, 4, 4, 4, 4, 4, 4, 4, 4, 4, 4, 4, 4, 4, 4, 4]\n",
            "['B-PER+O' 'O+O' 'O+O' 'O+O' 'B-ORG+O' 'O+O' 'O+O' 'O+O' 'O+O' 'B-PER+O'\n",
            " 'O+O' 'O+O' 'O+O' 'O+O' 'O+O' 'O+O' 'O+O' 'O+O' 'O+O' 'O+O' 'O+O' 'O+O'\n",
            " 'O+O' 'O+O' 'O+O']\n",
            "0 Schartau\n",
            "['sc', '##hart', '##au'] [16427, 28438, 11521] 3\n",
            "============\n",
            "1 sagte\n",
            "['sagte'] [69394] 1\n",
            "============\n",
            "2 dem\n",
            "['dem'] [10188] 1\n",
            "============\n",
            "3 \"\n",
            "['\"'] [107] 1\n",
            "============\n",
            "4 Tagesspiegel\n",
            "['tages', '##sp', '##ieg', '##el'] [81381, 65998, 44321, 10624] 4\n",
            "============\n",
            "5 \"\n",
            "['\"'] [107] 1\n",
            "============\n",
            "6 vom\n",
            "['vom'] [11106] 1\n",
            "============\n",
            "7 Freitag\n",
            "['frei', '##tag'] [31208, 27667] 2\n",
            "============\n",
            "8 ,\n",
            "[','] [117] 1\n",
            "============\n",
            "9 Fischer\n",
            "['fischer'] [19180] 1\n",
            "============\n",
            "10 sei\n",
            "['sei'] [13741] 1\n",
            "============\n",
            "11 \"\n",
            "['\"'] [107] 1\n",
            "============\n",
            "12 in\n",
            "['in'] [10104] 1\n",
            "============\n",
            "13 einer\n",
            "['einer'] [10673] 1\n",
            "============\n",
            "14 Weise\n",
            "['weise'] [33412] 1\n",
            "============\n",
            "15 aufgetreten\n",
            "['auf', '##get', '##reten'] [10350, 14993, 35894] 3\n",
            "============\n",
            "16 ,\n",
            "[','] [117] 1\n",
            "============\n",
            "17 die\n",
            "['die'] [10121] 1\n",
            "============\n",
            "18 alles\n",
            "['alles'] [21785] 1\n",
            "============\n",
            "19 andere\n",
            "['andere'] [12137] 1\n",
            "============\n",
            "20 als\n",
            "['als'] [10233] 1\n",
            "============\n",
            "21 überzeugend\n",
            "['uber', '##zeugen', '##d'] [10859, 50599, 10163] 3\n",
            "============\n",
            "22 war\n",
            "['war'] [10313] 1\n",
            "============\n",
            "23 \"\n",
            "['\"'] [107] 1\n",
            "============\n",
            "24 .\n",
            "['.'] [119] 1\n",
            "============\n",
            "[16427, 28438, 11521, 69394, 10188, 107, 81381, 65998, 44321, 10624, 107, 11106, 31208, 27667, 117, 19180, 13741, 107, 10104, 10673, 33412, 10350, 14993, 35894, 117, 10121, 21785, 12137, 10233, 10859, 50599, 10163, 10313, 107, 119]\n",
            "[2, 2, 2, 4, 4, 4, 1, 1, 1, 1, 4, 4, 4, 4, 4, 2, 4, 4, 4, 4, 4, 4, 4, 4, 4, 4, 4, 4, 4, 4, 4, 4, 4, 4, 4]\n",
            "============\n",
            "['Firmengründer', 'Wolf', 'Peter', 'Bree', 'arbeitete', 'Anfang', 'der', 'siebziger', 'Jahre', 'als', 'Möbelvertreter', ',', 'als', 'er', 'einen', 'fliegenden', 'Händler', 'aus', 'dem', 'Libanon', 'traf', '.']\n",
            "[4, 2, 3, 3, 4, 4, 4, 4, 4, 4, 4, 4, 4, 4, 4, 4, 4, 4, 4, 0, 4, 4]\n",
            "['O+O' 'B-PER+O' 'I-PER+O' 'I-PER+O' 'O+O' 'O+O' 'O+O' 'O+O' 'O+O' 'O+O'\n",
            " 'O+O' 'O+O' 'O+O' 'O+O' 'O+O' 'O+O' 'O+O' 'O+O' 'O+O' 'B-LOC+O' 'O+O'\n",
            " 'O+O']\n",
            "0 Firmengründer\n",
            "['firme', '##ng', '##runde', '##r'] [26881, 10422, 30339, 10131] 4\n",
            "============\n",
            "1 Wolf\n",
            "['wolf'] [17274] 1\n",
            "============\n",
            "2 Peter\n",
            "['peter'] [11047] 1\n",
            "============\n",
            "3 Bree\n",
            "['br', '##ee'] [18710, 12168] 2\n",
            "============\n",
            "4 arbeitete\n",
            "['arbeitete'] [18034] 1\n",
            "============\n",
            "5 Anfang\n",
            "['anfang'] [17939] 1\n",
            "============\n",
            "6 der\n",
            "['der'] [10118] 1\n",
            "============\n",
            "7 siebziger\n",
            "['sie', '##b', '##ziger'] [10271, 10417, 88035] 3\n",
            "============\n",
            "8 Jahre\n",
            "['jahre'] [11709] 1\n",
            "============\n",
            "9 als\n",
            "['als'] [10233] 1\n",
            "============\n",
            "10 Möbelvertreter\n",
            "['mob', '##el', '##vert', '##reter'] [63689, 10624, 28032, 72946] 4\n",
            "============\n",
            "11 ,\n",
            "[','] [117] 1\n",
            "============\n",
            "12 als\n",
            "['als'] [10233] 1\n",
            "============\n",
            "13 er\n",
            "['er'] [10162] 1\n",
            "============\n",
            "14 einen\n",
            "['einen'] [11004] 1\n",
            "============\n",
            "15 fliegenden\n",
            "['fl', '##iegen', '##den'] [19341, 46411, 10683] 3\n",
            "============\n",
            "16 Händler\n",
            "['handler'] [53082] 1\n",
            "============\n",
            "17 aus\n",
            "['aus'] [10470] 1\n",
            "============\n",
            "18 dem\n",
            "['dem'] [10188] 1\n",
            "============\n",
            "19 Libanon\n",
            "['libanon'] [47411] 1\n",
            "============\n",
            "20 traf\n",
            "['traf'] [53102] 1\n",
            "============\n",
            "21 .\n",
            "['.'] [119] 1\n",
            "============\n",
            "[26881, 10422, 30339, 10131, 17274, 11047, 18710, 12168, 18034, 17939, 10118, 10271, 10417, 88035, 11709, 10233, 63689, 10624, 28032, 72946, 117, 10233, 10162, 11004, 19341, 46411, 10683, 53082, 10470, 10188, 47411, 53102, 119]\n",
            "[4, 4, 4, 4, 2, 3, 3, 3, 4, 4, 4, 4, 4, 4, 4, 4, 4, 4, 4, 4, 4, 4, 4, 4, 4, 4, 4, 4, 4, 4, 0, 4, 4]\n",
            "============\n"
          ]
        }
      ],
      "source": [
        "# TEST methods process_csv(df) and create_inputs_targets(df) \n",
        "sentencesT, tagsT, tag_encoderT = process_csv(df[:47])\n",
        "print(sentencesT)\n",
        "print(tagsT)\n",
        "print(tag_encoderT.classes_)\n",
        "print('============')\n",
        "for sentence, tag in zip(sentencesT, tagsT):\n",
        "    input_ids = []\n",
        "    target_tags = []\n",
        "    print(sentence)\n",
        "    print(tag)\n",
        "    print(tag_encoderT.inverse_transform(tag))\n",
        "    for idx, word in enumerate(sentence):\n",
        "        print(idx, word)\n",
        "        ids = tokenizer.encode(str(word), add_special_tokens=False)\n",
        "        print(ids.tokens, ids.ids, len(ids))\n",
        "        input_ids.extend(ids.ids)\n",
        "        num_tokens = len(ids)\n",
        "        target_tags.extend([tag[idx]] * num_tokens)\n",
        "        print('============')\n",
        "    print(input_ids)\n",
        "    print(target_tags)\n",
        "    print('============')"
      ]
    },
    {
      "cell_type": "code",
      "execution_count": 53,
      "metadata": {
        "colab": {
          "base_uri": "https://localhost:8080/",
          "height": 232
        },
        "gather": {
          "logged": 1664902597045
        },
        "id": "5ggVdzCnYTaK",
        "outputId": "88cfa212-c3bc-458d-a742-5272f298ee67"
      },
      "outputs": [
        {
          "name": "stdout",
          "output_type": "stream",
          "text": [
            "['B-LOC+B-LOC' 'B-LOC+B-LOCderiv' 'B-LOC+B-LOCpart' 'B-LOC+B-ORG'\n",
            " 'B-LOC+B-PER' 'B-LOC+B-PERderiv' 'B-LOC+O' 'B-LOCderiv+O' 'B-LOCpart+O'\n",
            " 'B-ORG+B-LOC' 'B-ORG+B-LOCderiv' 'B-ORG+B-LOCpart' 'B-ORG+B-ORG'\n",
            " 'B-ORG+B-ORGderiv' 'B-ORG+B-ORGpart' 'B-ORG+B-OTH' 'B-ORG+B-OTHderiv'\n",
            " 'B-ORG+B-PER' 'B-ORG+B-PERderiv' 'B-ORG+B-PERpart' 'B-ORG+O'\n",
            " 'B-ORGderiv+O' 'B-ORGpart+B-LOC' 'B-ORGpart+B-LOCderiv' 'B-ORGpart+B-ORG'\n",
            " 'B-ORGpart+B-PER' 'B-ORGpart+O' 'B-OTH+B-LOC' 'B-OTH+B-LOCderiv'\n",
            " 'B-OTH+B-LOCpart' 'B-OTH+B-ORG' 'B-OTH+B-ORGpart' 'B-OTH+B-OTH'\n",
            " 'B-OTH+B-OTHpart' 'B-OTH+B-PER' 'B-OTH+B-PERderiv' 'B-OTH+B-PERpart'\n",
            " 'B-OTH+O' 'B-OTHderiv+O' 'B-OTHpart+B-ORG' 'B-OTHpart+B-OTH'\n",
            " 'B-OTHpart+O' 'B-PER+B-LOC' 'B-PER+B-ORGpart' 'B-PER+B-PER' 'B-PER+O'\n",
            " 'B-PERderiv+O' 'B-PERpart+B-PERderiv' 'B-PERpart+O' 'I-LOC+B-LOC'\n",
            " 'I-LOC+B-LOCderiv' 'I-LOC+B-LOCpart' 'I-LOC+B-PER' 'I-LOC+B-PERderiv'\n",
            " 'I-LOC+B-PERpart' 'I-LOC+I-LOC' 'I-LOC+I-PER' 'I-LOC+O' 'I-LOCderiv+O'\n",
            " 'I-LOCpart+O' 'I-ORG+B-LOC' 'I-ORG+B-LOCderiv' 'I-ORG+B-LOCpart'\n",
            " 'I-ORG+B-ORG' 'I-ORG+B-ORGderiv' 'I-ORG+B-ORGpart' 'I-ORG+B-OTH'\n",
            " 'I-ORG+B-PER' 'I-ORG+B-PERderiv' 'I-ORG+B-PERpart' 'I-ORG+I-LOC'\n",
            " 'I-ORG+I-LOCderiv' 'I-ORG+I-ORG' 'I-ORG+I-OTH' 'I-ORG+I-PER' 'I-ORG+O'\n",
            " 'I-ORGderiv+O' 'I-ORGpart+B-LOC' 'I-ORGpart+B-LOCpart' 'I-ORGpart+O'\n",
            " 'I-OTH+B-LOC' 'I-OTH+B-LOCderiv' 'I-OTH+B-LOCpart' 'I-OTH+B-ORG'\n",
            " 'I-OTH+B-ORGpart' 'I-OTH+B-OTH' 'I-OTH+B-OTHderiv' 'I-OTH+B-OTHpart'\n",
            " 'I-OTH+B-PER' 'I-OTH+B-PERderiv' 'I-OTH+B-PERpart' 'I-OTH+I-LOC'\n",
            " 'I-OTH+I-ORG' 'I-OTH+I-OTH' 'I-OTH+I-PER' 'I-OTH+O' 'I-OTHderiv+O'\n",
            " 'I-OTHpart+O' 'I-PER+B-LOC' 'I-PER+B-LOCderiv' 'I-PER+B-LOCpart'\n",
            " 'I-PER+B-ORG' 'I-PER+B-OTH' 'I-PER+B-PER' 'I-PER+I-PER' 'I-PER+O'\n",
            " 'I-PERderiv+O' 'I-PERpart+O' 'O+I-PER' 'O+O' 'PAD']\n"
          ]
        }
      ],
      "source": [
        "x_full, y_full, tag_encoder_full = create_inputs_targets(df)\n",
        "\n",
        "tag_number_pad = list(tag_encoder_full.transform([\"PAD\"]))[0]\n",
        "\n",
        "loss_object = tf.keras.losses.SparseCategoricalCrossentropy(\n",
        "    from_logits=False, reduction=tf.keras.losses.Reduction.SUM\n",
        ")\n",
        "\n",
        "from keras.utils.generic_utils import get_custom_objects\n",
        "\n",
        "# Ignoring loss that is calculated due to padded targets\n",
        "def masked_ce_loss(real, pred):\n",
        "    mask = tf.math.logical_not(tf.math.equal(real, tag_number_pad)) # created boolean array to check if a token should be looked after or not\n",
        "    loss_ = loss_object(real, pred)\n",
        "\n",
        "    mask = tf.cast(mask, dtype=loss_.dtype)\n",
        "    loss_ *= mask\n",
        "\n",
        "    return tf.reduce_mean(loss_)\n",
        "\n",
        "def create_model(num_tags):\n",
        "    # BERT Base model\n",
        "    encoder = TFBertModel.from_pretrained(\"bert-base-multilingual-uncased\")\n",
        "    # NER Model\n",
        "    # Instantiate Keras tensors\n",
        "    input_ids = layers.Input(shape=(max_len,), dtype=tf.int32)\n",
        "    attention_mask = layers.Input(shape=(max_len,), dtype=tf.int32)\n",
        "    # TFBertmodel\n",
        "    # https://keras.io/examples/nlp/text_extraction_with_bert/\n",
        "    embedding = encoder.bert(input_ids, attention_mask=attention_mask)[0]\n",
        "    # Add dropout layer\n",
        "    embedding = layers.Dropout(0.5)(embedding)\n",
        "    # Add softmax layer for classifying\n",
        "    tag_logits = layers.Dense(num_tags+1, activation='softmax')(embedding)\n",
        "    \n",
        "    model = keras.Model(\n",
        "        inputs=[input_ids, attention_mask],\n",
        "        outputs=[tag_logits],\n",
        "    )\n",
        "    optimizer = keras.optimizers.Adam(lr=3e-5)\n",
        "    model.compile(optimizer=optimizer, loss=masked_ce_loss, metrics=['accuracy'])\n",
        "    return model\n"
      ]
    },
    {
      "cell_type": "code",
      "execution_count": 54,
      "metadata": {
        "colab": {
          "base_uri": "https://localhost:8080/"
        },
        "collapsed": false,
        "gather": {
          "logged": 1664902605610
        },
        "id": "HUAFGKT6hGz0",
        "outputId": "00b6c589-3a15-4589-e1f8-6ce757380992"
      },
      "outputs": [
        {
          "name": "stderr",
          "output_type": "stream",
          "text": [
            "2023-05-03 17:53:51.162221: I tensorflow/core/platform/cpu_feature_guard.cc:193] This TensorFlow binary is optimized with oneAPI Deep Neural Network Library (oneDNN) to use the following CPU instructions in performance-critical operations:  AVX2 FMA\n",
            "To enable them in other operations, rebuild TensorFlow with the appropriate compiler flags.\n",
            "2023-05-03 17:54:01.822268: I tensorflow/core/common_runtime/gpu/gpu_device.cc:1616] Created device /job:localhost/replica:0/task:0/device:GPU:0 with 10787 MB memory:  -> device: 0, name: Tesla K80, pci bus id: 0001:00:00.0, compute capability: 3.7\n",
            "Some layers from the model checkpoint at bert-base-multilingual-uncased were not used when initializing TFBertModel: ['mlm___cls', 'nsp___cls']\n",
            "- This IS expected if you are initializing TFBertModel from the checkpoint of a model trained on another task or with another architecture (e.g. initializing a BertForSequenceClassification model from a BertForPreTraining model).\n",
            "- This IS NOT expected if you are initializing TFBertModel from the checkpoint of a model that you expect to be exactly identical (initializing a BertForSequenceClassification model from a BertForSequenceClassification model).\n",
            "All the layers of TFBertModel were initialized from the model checkpoint at bert-base-multilingual-uncased.\n",
            "If your task is similar to the task the model of the checkpoint was trained on, you can already use TFBertModel for predictions without further training.\n"
          ]
        },
        {
          "name": "stdout",
          "output_type": "stream",
          "text": [
            "Model: \"model\"\n",
            "__________________________________________________________________________________________________\n",
            " Layer (type)                   Output Shape         Param #     Connected to                     \n",
            "==================================================================================================\n",
            " input_1 (InputLayer)           [(None, 50)]         0           []                               \n",
            "                                                                                                  \n",
            " input_2 (InputLayer)           [(None, 50)]         0           []                               \n",
            "                                                                                                  \n",
            " bert (TFBertMainLayer)         TFBaseModelOutputWi  167356416   ['input_1[0][0]',                \n",
            "                                thPoolingAndCrossAt               'input_2[0][0]']                \n",
            "                                tentions(last_hidde                                               \n",
            "                                n_state=(None, 50,                                                \n",
            "                                768),                                                             \n",
            "                                 pooler_output=(Non                                               \n",
            "                                e, 768),                                                          \n",
            "                                 past_key_values=No                                               \n",
            "                                ne, hidden_states=N                                               \n",
            "                                one, attentions=Non                                               \n",
            "                                e, cross_attentions                                               \n",
            "                                =None)                                                            \n",
            "                                                                                                  \n",
            " dropout_37 (Dropout)           (None, 50, 768)      0           ['bert[0][0]']                   \n",
            "                                                                                                  \n",
            " dense (Dense)                  (None, 50, 112)      86128       ['dropout_37[0][0]']             \n",
            "                                                                                                  \n",
            "==================================================================================================\n",
            "Total params: 167,442,544\n",
            "Trainable params: 167,442,544\n",
            "Non-trainable params: 0\n",
            "__________________________________________________________________________________________________\n"
          ]
        }
      ],
      "source": [
        "# Reference: https://keras.io/examples/nlp/text_extraction_with_bert/\n",
        "\n",
        "#num_tags = len(list(set(df[\"TagComb\"].tolist() + [\"CLS\", \"SEP\", \"PAD\"])))\n",
        "num_tags = len(list(set(df[\"TagComb\"].tolist() + [\"PAD\"])))\n",
        "tpu = None\n",
        "use_tpu = None\n",
        "try:\n",
        "    tpu = tf.distribute.cluster_resolver.TPUClusterResolver()\n",
        "    use_tpu = True\n",
        "except:\n",
        "    use_tpu = False\n",
        "\n",
        "if use_tpu:\n",
        "    # Create distribution strategy\n",
        "    tf.config.experimental_connect_to_cluster(tpu)\n",
        "    tf.tpu.experimental.initialize_tpu_system(tpu)\n",
        "    strategy = tf.distribute.experimental.TPUStrategy(tpu)\n",
        "\n",
        "    # Create model\n",
        "    with strategy.scope():\n",
        "        model = create_model(num_tags)\n",
        "else:\n",
        "    model = create_model(num_tags)\n",
        "    \n",
        "model.summary()"
      ]
    },
    {
      "cell_type": "code",
      "execution_count": 60,
      "metadata": {
        "gather": {
          "logged": 1664902749076
        },
        "jupyter": {
          "outputs_hidden": false,
          "source_hidden": false
        },
        "nteract": {
          "transient": {
            "deleting": false
          }
        }
      },
      "outputs": [],
      "source": [
        "# Somehow does not work on MS Azure\n",
        "# plot_model(model,'model.png',show_shapes= True)"
      ]
    },
    {
      "cell_type": "markdown",
      "metadata": {
        "id": "hl7OxzTsDIyC"
      },
      "source": [
        "# BERT: Train Model"
      ]
    },
    {
      "cell_type": "code",
      "execution_count": 61,
      "metadata": {
        "gather": {
          "logged": 1664658488988
        },
        "jupyter": {
          "outputs_hidden": false,
          "source_hidden": false
        },
        "nteract": {
          "transient": {
            "deleting": false
          }
        }
      },
      "outputs": [
        {
          "name": "stdout",
          "output_type": "stream",
          "text": [
            "['B-ORG+B-OTHderiv']\n",
            "['B-ORG+B-PER']\n"
          ]
        }
      ],
      "source": [
        "print(tag_encoder_full.inverse_transform([16]))\n",
        "print(tag_encoder_full.inverse_transform([17]))"
      ]
    },
    {
      "cell_type": "code",
      "execution_count": 69,
      "metadata": {},
      "outputs": [
        {
          "name": "stdout",
          "output_type": "stream",
          "text": [
            "2 31300 50\n"
          ]
        }
      ],
      "source": [
        "print(len(x_full), len(x_full[0]), len(x_full[0][0]))"
      ]
    },
    {
      "cell_type": "code",
      "execution_count": 70,
      "metadata": {
        "gather": {
          "logged": 1664658494892
        },
        "jupyter": {
          "outputs_hidden": false,
          "source_hidden": false
        },
        "nteract": {
          "transient": {
            "deleting": false
          }
        }
      },
      "outputs": [],
      "source": [
        "# Convert Array into Numpy array, since they are nicer to work with \n",
        "x_full = np.array(x_full)\n",
        "y_full = np.array(y_full)"
      ]
    },
    {
      "cell_type": "code",
      "execution_count": 73,
      "metadata": {
        "gather": {
          "logged": 1664658497953
        }
      },
      "outputs": [
        {
          "name": "stdout",
          "output_type": "stream",
          "text": [
            "(2, 31300, 50)\n",
            "(31300, 50)\n"
          ]
        }
      ],
      "source": [
        "print(x_full.shape)\n",
        "print(y_full.shape)"
      ]
    },
    {
      "cell_type": "code",
      "execution_count": 90,
      "metadata": {},
      "outputs": [
        {
          "data": {
            "text/plain": [
              "(array([16427, 28438, 11521, 69394, 10188,   107, 81381, 65998, 44321,\n",
              "        10624,   107, 11106, 31208, 27667,   117, 19180, 13741,   107,\n",
              "        10104, 10673, 33412, 10350, 14993, 35894,   117, 10121, 21785,\n",
              "        12137, 10233, 10859, 50599, 10163, 10313,   107,   119,     0,\n",
              "            0,     0,     0,     0,     0,     0,     0,     0,     0,\n",
              "            0,     0,     0,     0,     0]),\n",
              " 'schartau sagte dem \" tagesspiegel \" vom freitag, fischer sei \" in einer weise aufgetreten, die alles andere als uberzeugend war \".')"
            ]
          },
          "execution_count": 90,
          "metadata": {},
          "output_type": "execute_result"
        }
      ],
      "source": [
        "# (Encoded + Decoded) initial input embedding for first sentence\n",
        "x_full[0][0], tokenizer.decode(x_full[0][0])"
      ]
    },
    {
      "cell_type": "code",
      "execution_count": 92,
      "metadata": {},
      "outputs": [
        {
          "data": {
            "text/plain": [
              "array([1, 1, 1, 1, 1, 1, 1, 1, 1, 1, 1, 1, 1, 1, 1, 1, 1, 1, 1, 1, 1, 1,\n",
              "       1, 1, 1, 1, 1, 1, 1, 1, 1, 1, 1, 1, 1, 0, 0, 0, 0, 0, 0, 0, 0, 0,\n",
              "       0, 0, 0, 0, 0, 0])"
            ]
          },
          "execution_count": 92,
          "metadata": {},
          "output_type": "execute_result"
        }
      ],
      "source": [
        "# Initial attention mask for first sentence (should be filled with 1 and 0)\n",
        "x_full[1][0]"
      ]
    },
    {
      "cell_type": "code",
      "execution_count": 88,
      "metadata": {},
      "outputs": [
        {
          "data": {
            "text/plain": [
              "(array([ 45,  45,  45, 109, 109, 109,  20,  20,  20,  20, 109, 109, 109,\n",
              "        109, 109,  45, 109, 109, 109, 109, 109, 109, 109, 109, 109, 109,\n",
              "        109, 109, 109, 109, 109, 109, 109, 109, 109, 110, 110, 110, 110,\n",
              "        110, 110, 110, 110, 110, 110, 110, 110, 110, 110, 110]),\n",
              " array(['B-PER+O', 'B-PER+O', 'B-PER+O', 'O+O', 'O+O', 'O+O', 'B-ORG+O',\n",
              "        'B-ORG+O', 'B-ORG+O', 'B-ORG+O', 'O+O', 'O+O', 'O+O', 'O+O', 'O+O',\n",
              "        'B-PER+O', 'O+O', 'O+O', 'O+O', 'O+O', 'O+O', 'O+O', 'O+O', 'O+O',\n",
              "        'O+O', 'O+O', 'O+O', 'O+O', 'O+O', 'O+O', 'O+O', 'O+O', 'O+O',\n",
              "        'O+O', 'O+O', 'PAD', 'PAD', 'PAD', 'PAD', 'PAD', 'PAD', 'PAD',\n",
              "        'PAD', 'PAD', 'PAD', 'PAD', 'PAD', 'PAD', 'PAD', 'PAD'],\n",
              "       dtype='<U20'))"
            ]
          },
          "execution_count": 88,
          "metadata": {},
          "output_type": "execute_result"
        }
      ],
      "source": [
        "# (Encoded + Decoded) tags for first sentence\n",
        "y_full[0], tag_encoder_full.inverse_transform(y_full[0])"
      ]
    },
    {
      "cell_type": "code",
      "execution_count": 64,
      "metadata": {
        "gather": {
          "logged": 1664658500336
        },
        "jupyter": {
          "outputs_hidden": false,
          "source_hidden": false
        },
        "nteract": {
          "transient": {
            "deleting": false
          }
        }
      },
      "outputs": [],
      "source": [
        "x_train, y_train, tag_encoder_tr = x_full[:, :24000, :], y_full[:24000, :], tag_encoder_full\n",
        "x_val, y_val, tag_encoder_val = x_full[:, 24000:26200, :], y_full[24000:26200, :], tag_encoder_full\n",
        "x_te, y_te, tag_encoder_te = x_full[:, 26200:, :], y_full[26200:, :], tag_encoder_full"
      ]
    },
    {
      "cell_type": "code",
      "execution_count": 65,
      "metadata": {
        "colab": {
          "base_uri": "https://localhost:8080/"
        },
        "collapsed": false,
        "gather": {
          "logged": 1664659580655
        },
        "id": "nHjsG8dzkRfh",
        "outputId": "94c47595-7623-4612-9a4c-b739d9e145d9"
      },
      "outputs": [
        {
          "name": "stdout",
          "output_type": "stream",
          "text": [
            "Epoch 1/3\n",
            "WARNING:tensorflow:Gradients do not exist for variables ['tf_bert_model/bert/pooler/dense/kernel:0', 'tf_bert_model/bert/pooler/dense/bias:0'] when minimizing the loss. If you're using `model.compile()`, did you forget to provide a `loss` argument?\n",
            "WARNING:tensorflow:Gradients do not exist for variables ['tf_bert_model/bert/pooler/dense/kernel:0', 'tf_bert_model/bert/pooler/dense/bias:0'] when minimizing the loss. If you're using `model.compile()`, did you forget to provide a `loss` argument?\n",
            "375/375 [==============================] - 483s 1s/step - loss: 386.9198 - accuracy: 0.9498 - val_loss: 175.4436 - val_accuracy: 0.9756\n",
            "Epoch 2/3\n",
            "375/375 [==============================] - 471s 1s/step - loss: 128.6478 - accuracy: 0.9808 - val_loss: 168.3868 - val_accuracy: 0.9777\n",
            "Epoch 3/3\n",
            "375/375 [==============================] - 471s 1s/step - loss: 88.9716 - accuracy: 0.9864 - val_loss: 170.2559 - val_accuracy: 0.9785\n"
          ]
        }
      ],
      "source": [
        "# https://stackoverflow.com/questions/47843265/how-can-i-get-a-keras-models-history-after-loading-it-from-a-file-in-python\n",
        "# Keras hasn't implemented the possibility of loading the history directly from a loaded model. Instead we have to set it up in advance.\n",
        "from tensorflow.keras.callbacks import CSVLogger\n",
        "from tensorflow.keras.backend import clear_session\n",
        "\n",
        "clear_session()\n",
        "\n",
        "csv_logger = CSVLogger('training.log', separator=',', append=False)\n",
        "\n",
        "bs = 64 if use_tpu else 16\n",
        "\n",
        "history = model.fit(\n",
        "    [x_train[0], x_train[1]],\n",
        "    y_train,\n",
        "    epochs=3,\n",
        "    verbose=1,\n",
        "    batch_size=64,\n",
        "    validation_data=([x_val[0], x_val[1]], y_val),\n",
        "    callbacks=[csv_logger]\n",
        "    # validation_split=0.1\n",
        ")"
      ]
    },
    {
      "cell_type": "code",
      "execution_count": 67,
      "metadata": {
        "gather": {
          "logged": 1664661791350
        },
        "jupyter": {
          "outputs_hidden": false,
          "source_hidden": false
        },
        "nteract": {
          "transient": {
            "deleting": false
          }
        }
      },
      "outputs": [
        {
          "name": "stderr",
          "output_type": "stream",
          "text": [
            "WARNING:absl:Found untraced functions such as embeddings_layer_call_fn, embeddings_layer_call_and_return_conditional_losses, encoder_layer_call_fn, encoder_layer_call_and_return_conditional_losses, pooler_layer_call_fn while saving (showing 5 of 420). These functions will not be directly callable after loading.\n"
          ]
        },
        {
          "name": "stdout",
          "output_type": "stream",
          "text": [
            "INFO:tensorflow:Assets written to: ./saved_model/final-model-perfection/assets\n"
          ]
        },
        {
          "name": "stderr",
          "output_type": "stream",
          "text": [
            "INFO:tensorflow:Assets written to: ./saved_model/final-model-perfection/assets\n"
          ]
        }
      ],
      "source": [
        "# save model\n",
        "#model.save(\"./saved_model/final-model-perfection\")"
      ]
    },
    {
      "cell_type": "code",
      "execution_count": 66,
      "metadata": {
        "gather": {
          "logged": 1664648565897
        },
        "jupyter": {
          "outputs_hidden": false,
          "source_hidden": false
        },
        "nteract": {
          "transient": {
            "deleting": false
          }
        }
      },
      "outputs": [],
      "source": [
        "# Load model + history if required\n",
        "# model = keras.models.load_model(\"./saved_model/three_epochs_gpu_16bs_multilanguage\", custom_objects={\"masked_ce_loss\": masked_ce_loss}) #works but not enough ram\n",
        "# log_data = pd.read_csv('training.log', sep=',', engine='python')"
      ]
    },
    {
      "cell_type": "code",
      "execution_count": 68,
      "metadata": {
        "gather": {
          "logged": 1664661794665
        },
        "jupyter": {
          "outputs_hidden": false,
          "source_hidden": false
        },
        "nteract": {
          "transient": {
            "deleting": false
          }
        }
      },
      "outputs": [
        {
          "data": {
            "text/plain": [
              "Index(['loss', 'accuracy', 'val_loss', 'val_accuracy'], dtype='object')"
            ]
          },
          "execution_count": 68,
          "metadata": {},
          "output_type": "execute_result"
        }
      ],
      "source": [
        "training_result = pd.DataFrame(history.history)\n",
        "training_result.columns"
      ]
    },
    {
      "cell_type": "code",
      "execution_count": 69,
      "metadata": {
        "gather": {
          "logged": 1664661797853
        }
      },
      "outputs": [
        {
          "data": {
            "text/plain": [
              "(<Figure size 1000x500 with 2 Axes>,\n",
              " array([<matplotlib.axes._subplots.AxesSubplot object at 0x7ff842da0370>,\n",
              "        <matplotlib.axes._subplots.AxesSubplot object at 0x7ff8bc10dcd0>],\n",
              "       dtype=object))"
            ]
          },
          "execution_count": 69,
          "metadata": {},
          "output_type": "execute_result"
        },
        {
          "data": {
            "image/png": "[encoded data removed]",
            "text/plain": [
              "<Figure size 1000x500 with 2 Axes>"
            ]
          },
          "metadata": {},
          "output_type": "display_data"
        }
      ],
      "source": [
        "plot_history(history.history)"
      ]
    },
    {
      "cell_type": "markdown",
      "metadata": {
        "id": "H_CCj8GbDTc1"
      },
      "source": [
        "# BERT: Prediction for test data"
      ]
    },
    {
      "cell_type": "code",
      "execution_count": 70,
      "metadata": {
        "gather": {
          "logged": 1664661913380
        },
        "jupyter": {
          "outputs_hidden": false,
          "source_hidden": false
        },
        "nteract": {
          "transient": {
            "deleting": false
          }
        }
      },
      "outputs": [
        {
          "name": "stdout",
          "output_type": "stream",
          "text": [
            "160/160 [==============================] - 35s 198ms/step\n"
          ]
        },
        {
          "data": {
            "text/plain": [
              "(5100, 50, 112)"
            ]
          },
          "execution_count": 70,
          "metadata": {},
          "output_type": "execute_result"
        }
      ],
      "source": [
        "y_pred = model.predict([x_te[0], x_te[1]])\n",
        "y_pred.shape"
      ]
    },
    {
      "cell_type": "code",
      "execution_count": 71,
      "metadata": {
        "gather": {
          "logged": 1664661916707
        },
        "jupyter": {
          "outputs_hidden": false,
          "source_hidden": false
        },
        "nteract": {
          "transient": {
            "deleting": false
          }
        }
      },
      "outputs": [],
      "source": [
        "# Convert numpy arrays back into python lists, since seqeval can only work with nested lists\n",
        "y_pred_labels_tag = np.argmax(y_pred, 2)\n",
        "y_pred_labels = [tag_encoder_full.inverse_transform(sentence).tolist() for sentence in y_pred_labels_tag]\n",
        "y_te_labels = [tag_encoder_full.inverse_transform(sentence).tolist() for sentence in y_te]"
      ]
    },
    {
      "cell_type": "code",
      "execution_count": 78,
      "metadata": {},
      "outputs": [
        {
          "name": "stdout",
          "output_type": "stream",
          "text": [
            "                precision    recall  f1-score   support\n",
            "\n",
            "            AD       1.00      1.00      1.00      5100\n",
            "     LOC+B-LOC       0.00      0.00      0.00        35\n",
            "LOC+B-LOCderiv       0.52      0.51      0.51        67\n",
            "     LOC+B-PER       0.00      0.00      0.00         8\n",
            " LOC+B-PERpart       0.00      0.00      0.00         1\n",
            "     LOC+I-LOC       0.00      0.00      0.00         3\n",
            "     LOC+I-PER       0.00      0.00      0.00         1\n",
            "         LOC+O       0.88      0.88      0.88      3227\n",
            "    LOCderiv+O       0.91      0.83      0.87      1149\n",
            "     LOCpart+O       0.89      0.67      0.77       464\n",
            "     ORG+B-LOC       0.65      0.74      0.69       148\n",
            "ORG+B-LOCderiv       0.50      0.85      0.63       131\n",
            " ORG+B-LOCpart       0.00      0.00      0.00         4\n",
            "     ORG+B-ORG       0.00      0.00      0.00        35\n",
            "ORG+B-ORGderiv       0.00      0.00      0.00         3\n",
            " ORG+B-ORGpart       0.00      0.00      0.00         5\n",
            "     ORG+B-OTH       0.00      0.00      0.00        14\n",
            "ORG+B-OTHderiv       0.00      0.00      0.00         5\n",
            "     ORG+B-PER       0.73      0.41      0.52        81\n",
            "ORG+B-PERderiv       0.00      0.00      0.00         2\n",
            " ORG+B-PERpart       0.83      0.62      0.71         8\n",
            "     ORG+I-LOC       0.75      0.38      0.50         8\n",
            "     ORG+I-ORG       0.00      0.00      0.00         4\n",
            "     ORG+I-OTH       0.00      0.00      0.00         1\n",
            "     ORG+I-PER       0.35      0.64      0.45        11\n",
            "         ORG+O       0.74      0.74      0.74      1988\n",
            "    ORGderiv+O       0.00      0.00      0.00        20\n",
            "     ORGpart+O       0.79      0.83      0.81       741\n",
            "     OTH+B-LOC       0.21      0.18      0.20        22\n",
            "OTH+B-LOCderiv       0.38      0.39      0.38        23\n",
            "     OTH+B-ORG       0.35      0.25      0.29        36\n",
            " OTH+B-ORGpart       0.00      0.00      0.00         3\n",
            "     OTH+B-OTH       0.00      0.00      0.00         6\n",
            "OTH+B-OTHderiv       0.00      0.00      0.00         1\n",
            "     OTH+B-PER       0.57      0.28      0.38        46\n",
            " OTH+B-PERpart       0.00      0.00      0.00         2\n",
            "     OTH+I-ORG       0.00      0.00      0.00         3\n",
            "     OTH+I-OTH       0.00      0.00      0.00         2\n",
            "     OTH+I-PER       0.67      0.36      0.47        11\n",
            "         OTH+O       0.65      0.62      0.63      1062\n",
            "    OTHderiv+O       0.46      0.64      0.53        80\n",
            "     OTHpart+O       0.30      0.35      0.33       151\n",
            "     PER+B-LOC       0.55      0.55      0.55        20\n",
            "     PER+B-PER       0.00      0.00      0.00         1\n",
            "     PER+I-PER       0.00      0.00      0.00         1\n",
            "         PER+O       0.90      0.91      0.91      2604\n",
            "    PERderiv+O       0.00      0.00      0.00        31\n",
            "     PERpart+O       0.47      0.65      0.55       161\n",
            "\n",
            "     micro avg       0.86      0.85      0.85     17530\n",
            "     macro avg       0.31      0.30      0.30     17530\n",
            "  weighted avg       0.85      0.85      0.85     17530\n",
            "\n"
          ]
        }
      ],
      "source": [
        "print(classification_report(y_te_labels, y_pred_labels))"
      ]
    },
    {
      "cell_type": "code",
      "execution_count": 72,
      "metadata": {
        "gather": {
          "logged": 1664661940045
        },
        "jupyter": {
          "outputs_hidden": false,
          "source_hidden": false
        },
        "nteract": {
          "transient": {
            "deleting": false
          }
        }
      },
      "outputs": [
        {
          "name": "stdout",
          "output_type": "stream",
          "text": [
            "f1_score: 0.8543655913978495\n"
          ]
        }
      ],
      "source": [
        "print(\"f1_score: \" + f1_score(y_te_labels, y_pred_labels).astype(str))"
      ]
    },
    {
      "cell_type": "code",
      "execution_count": 73,
      "metadata": {
        "gather": {
          "logged": 1664661943029
        },
        "jupyter": {
          "outputs_hidden": false,
          "source_hidden": false
        },
        "nteract": {
          "transient": {
            "deleting": false
          }
        }
      },
      "outputs": [
        {
          "name": "stdout",
          "output_type": "stream",
          "text": [
            "accuracy: 0.9837137254901961\n"
          ]
        }
      ],
      "source": [
        "print(\"accuracy: \" + str(accuracy_score(y_te_labels, y_pred_labels)))"
      ]
    },
    {
      "cell_type": "markdown",
      "metadata": {},
      "source": [
        "# BERT: Prediction on existing data sample"
      ]
    },
    {
      "cell_type": "code",
      "execution_count": 74,
      "metadata": {
        "gather": {
          "logged": 1664655531280
        },
        "jupyter": {
          "outputs_hidden": false,
          "source_hidden": false
        },
        "nteract": {
          "transient": {
            "deleting": false
          }
        }
      },
      "outputs": [
        {
          "data": {
            "text/plain": [
              "['sc', '##hart', '##au']"
            ]
          },
          "execution_count": 74,
          "metadata": {},
          "output_type": "execute_result"
        }
      ],
      "source": [
        "# Get Tokens of Bert and compare the tags\n",
        "tokenizer.encode(\"Schartau\", add_special_tokens=False).tokens"
      ]
    },
    {
      "cell_type": "code",
      "execution_count": 75,
      "metadata": {
        "collapsed": false,
        "gather": {
          "logged": 1664665592782
        }
      },
      "outputs": [
        {
          "name": "stdout",
          "output_type": "stream",
          "text": [
            "1/1 [==============================] - 0s 56ms/step\n",
            "+----------+------------+---------------+\n",
            "|   Word   | Actual Tag | Predicted Tag |\n",
            "+----------+------------+---------------+\n",
            "|    sc    |  B-PER+O   |    B-PER+O    |\n",
            "|  ##hart  |  B-PER+O   |    B-PER+O    |\n",
            "|   ##au   |  B-PER+O   |    B-PER+O    |\n",
            "|  sagte   |    O+O     |      O+O      |\n",
            "|   dem    |    O+O     |      O+O      |\n",
            "|    \"     |    O+O     |      O+O      |\n",
            "|  tages   |  B-ORG+O   |    B-ORG+O    |\n",
            "|   ##sp   |  B-ORG+O   |    B-ORG+O    |\n",
            "|  ##ieg   |  B-ORG+O   |    B-ORG+O    |\n",
            "|   ##el   |  B-ORG+O   |    B-ORG+O    |\n",
            "|    \"     |    O+O     |      O+O      |\n",
            "|   vom    |    O+O     |      O+O      |\n",
            "|   frei   |    O+O     |      O+O      |\n",
            "|  ##tag   |    O+O     |      O+O      |\n",
            "|    ,     |    O+O     |      O+O      |\n",
            "| fischer  |  B-PER+O   |    B-PER+O    |\n",
            "|   sei    |    O+O     |      O+O      |\n",
            "|    \"     |    O+O     |      O+O      |\n",
            "|    in    |    O+O     |      O+O      |\n",
            "|  einer   |    O+O     |      O+O      |\n",
            "|  weise   |    O+O     |      O+O      |\n",
            "|   auf    |    O+O     |      O+O      |\n",
            "|  ##get   |    O+O     |      O+O      |\n",
            "| ##reten  |    O+O     |      O+O      |\n",
            "|    ,     |    O+O     |      O+O      |\n",
            "|   die    |    O+O     |      O+O      |\n",
            "|  alles   |    O+O     |      O+O      |\n",
            "|  andere  |    O+O     |      O+O      |\n",
            "|   als    |    O+O     |      O+O      |\n",
            "|   uber   |    O+O     |      O+O      |\n",
            "| ##zeugen |    O+O     |      O+O      |\n",
            "|   ##d    |    O+O     |      O+O      |\n",
            "|   war    |    O+O     |      O+O      |\n",
            "|    \"     |    O+O     |      O+O      |\n",
            "|    .     |    O+O     |      O+O      |\n",
            "+----------+------------+---------------+\n"
          ]
        }
      ],
      "source": [
        "# Define data sample to predict\n",
        "i = 0\n",
        "\n",
        "y_act = y_train[i]\n",
        "sent = sentences[i]\n",
        "\n",
        "tokens = []\n",
        "for word in sent:\n",
        "    tokens.extend(tokenizer.encode(word, add_special_tokens=False).tokens)\n",
        "sentLen = len(tokens)\n",
        "\n",
        "# Make prediction\n",
        "y_pred = model.predict([x_train[0][i:i+1] , x_train[1][i:i+1] ])\n",
        "y_pred = np.argmax(y_pred, 2)\n",
        "\n",
        "# Inverse transform: encoded tags => real name tags\n",
        "# Ignore paddings \n",
        "y_pred = [tag_encoder_full.inverse_transform(label).tolist() for label in y_pred][0][:sentLen]\n",
        "y_act = [tag_encoder_full.inverse_transform(label).tolist() for label in y_act.reshape(1,-1)][0][:sentLen]\n",
        "\n",
        "# print(sent)\n",
        "# print(y_pred)\n",
        "# print(y_act)\n",
        "\n",
        "x = PrettyTable()\n",
        "x.field_names = [\"Word\", \"Actual Tag\", \"Predicted Tag\"]\n",
        "\n",
        "for token, act, pred in zip(tokens, y_act, y_pred):\n",
        "        x.add_row([token, act, pred])\n",
        "        \n",
        "print(x)"
      ]
    },
    {
      "cell_type": "markdown",
      "metadata": {},
      "source": [
        "# BERT: Prediction on arbitrary text input"
      ]
    },
    {
      "cell_type": "code",
      "execution_count": 76,
      "metadata": {
        "gather": {
          "logged": 1664664772801
        },
        "id": "-T8ImlHfDTtF"
      },
      "outputs": [],
      "source": [
        "# Prepare test inputs to feed into model\n",
        "def create_test_input_from_text(test_text):\n",
        "    dataset_dict = {\n",
        "        \"input_ids\": [],\n",
        "        \"token_type_ids\": [],\n",
        "        \"attention_mask\": []\n",
        "    }\n",
        "\n",
        "    input_ids = []\n",
        "    for idx, word in enumerate(test_text.split()):\n",
        "        ids = tokenizer.encode(word, add_special_tokens=False)\n",
        "        #print(ids)\n",
        "        input_ids.extend(ids.ids)\n",
        "        num_tokens = len(ids)\n",
        "                    \n",
        "    # Pad and create attention masks.\n",
        "    # Skip if truncation is needed\n",
        "    input_ids = input_ids[:max_len - 2]\n",
        "\n",
        "    #input_ids = [101] + input_ids + [102]\n",
        "    input_ids = input_ids\n",
        "\n",
        "    n_tokens = len(input_ids)\n",
        "    attention_mask = [1] * len(input_ids)\n",
        "    padding_len = max_len - len(input_ids)\n",
        "\n",
        "    input_ids = input_ids + ([0] * padding_len)\n",
        "    attention_mask = attention_mask + ([0] * padding_len)\n",
        "    \n",
        "    dataset_dict[\"input_ids\"].append(input_ids)\n",
        "    dataset_dict[\"attention_mask\"].append(attention_mask)\n",
        "        \n",
        "    for key in dataset_dict:\n",
        "        dataset_dict[key] = np.array(dataset_dict[key])\n",
        "\n",
        "    x = [\n",
        "        dataset_dict[\"input_ids\"],\n",
        "        dataset_dict[\"attention_mask\"],\n",
        "    ]\n",
        "    return dataset_dict, x, n_tokens"
      ]
    },
    {
      "cell_type": "code",
      "execution_count": 84,
      "metadata": {
        "gather": {
          "logged": 1664665719875
        },
        "jupyter": {
          "outputs_hidden": false,
          "source_hidden": false
        },
        "nteract": {
          "transient": {
            "deleting": false
          }
        }
      },
      "outputs": [
        {
          "name": "stdout",
          "output_type": "stream",
          "text": [
            "1/1 [==============================] - 0s 54ms/step\n",
            "+-------------+---------------+\n",
            "|     Word    | Predicted Tag |\n",
            "+-------------+---------------+\n",
            "|     lutz    |    B-PER+O    |\n",
            "|    bloch    |    I-PER+O    |\n",
            "|   ##berger  |    I-PER+O    |\n",
            "|     hat     |      O+O      |\n",
            "|      im     |      O+O      |\n",
            "|    schaus   |    B-ORG+O    |\n",
            "|    ##piel   |    B-ORG+O    |\n",
            "|    ##haus   |    B-ORG+O    |\n",
            "|    zurich   |  I-ORG+B-LOC  |\n",
            "|     ein     |      O+O      |\n",
            "|     vom     |      O+O      |\n",
            "|   akademie  |    B-ORG+O    |\n",
            "|   theater   |    I-ORG+O    |\n",
            "|    bayern   |  I-ORG+B-LOC  |\n",
            "|   munchen   |  I-ORG+B-LOC  |\n",
            "| geschrieben |      O+O      |\n",
            "|     ##es    |      O+O      |\n",
            "|  orchester  |      O+O      |\n",
            "|  aufgefuhrt |      O+O      |\n",
            "|      .      |      O+O      |\n",
            "+-------------+---------------+\n"
          ]
        }
      ],
      "source": [
        "# test input sentence\n",
        "test_inputs = \"Lutz Blochberger hat im Schauspielhaus Zürich ein vom Akademie Theater Bayern München geschriebenes Orchester aufgeführt.\"\n",
        "#test_inputs = \"Die Deutschen leben in Deutschland.\"\n",
        "#test_inputs = \"Die Deutschen lieben Bayern München.\"\n",
        "#test_inputs = \"Italien muss wieder dahin zurückkehren, zuerst seine nationalen Interessen zu verteidigen, sagte Meloni in Mailand.\"\n",
        "#test_inputs = \"Es war der erste Besuch von Lambrecht in der Ukraine seit Kriegsbeginn.\"\n",
        "#test_inputs = \"Berlin ist die Hauptstadt von Deutschland und Bayern München ist ein deutscher Fußballclub\"\n",
        "#test_inputs = \"Studierende nehmen heute an der Ringvorlesung der Dualen Hochschule Schleswig-Holstein in Kiel teil. Thema der heutigen Veranstaltung ist Named Entity Recognition (NLP).\"\n",
        "\n",
        "dataset, x_test, n_tokens = create_test_input_from_text(test_inputs)\n",
        "\n",
        "pred_test = model.predict(x_test)\n",
        "y_pred = np.argmax(pred_test,2)  \n",
        "\n",
        "# create dictionary of tag and its index\n",
        "#le_dict = dict(zip(tag_encoder_full.transform(tag_encoder_full.classes_), tag_encoder_full.classes_))\n",
        "#y_pred = [le_dict.get(_, '[pad]') for _ in y_pred[0][:n_tokens]]\n",
        "\n",
        "y_pred = [tag_encoder_full.inverse_transform(label).tolist() for label in y_pred][0][:n_tokens]\n",
        "tokens = tokenizer.encode(test_inputs, add_special_tokens=False).tokens\n",
        "\n",
        "x = PrettyTable()\n",
        "x.field_names = [\"Word\", \"Predicted Tag\"]\n",
        "\n",
        "for token, pred in zip(tokens, y_pred):\n",
        "        x.add_row([token, pred])\n",
        "        \n",
        "print(x)"
      ]
    },
    {
      "cell_type": "code",
      "execution_count": null,
      "metadata": {},
      "outputs": [],
      "source": []
    }
  ],
  "metadata": {
    "accelerator": "TPU",
    "colab": {
      "collapsed_sections": [],
      "name": "NER_on_GMB_Corpus-BERT (TF Keras).ipynb",
      "provenance": []
    },
    "kernel_info": {
      "name": "python38-azureml"
    },
    "kernelspec": {
      "display_name": "Python 3.8 - AzureML",
      "language": "python",
      "name": "python38-azureml"
    },
    "language_info": {
      "codemirror_mode": {
        "name": "ipython",
        "version": 3
      },
      "file_extension": ".py",
      "mimetype": "text/x-python",
      "name": "python",
      "nbconvert_exporter": "python",
      "pygments_lexer": "ipython3",
      "version": "3.8.5"
    },
    "microsoft": {
      "host": {
        "AzureML": {
          "notebookHasBeenCompleted": true
        }
      }
    },
    "nteract": {
      "version": "nteract-front-end@1.0.0"
    },
    "vscode": {
      "interpreter": {
        "hash": "5f00ccb35c83db57f0873b7e4c6d0443b7dd556c1014aadc907ccea477ab2cc9"
      }
    },
    "widgets": {
      "application/vnd.jupyter.widget-state+json": {
        "2975d71de50a4b84b8128500470e4d40": {
          "model_module": "@jupyter-widgets/controls",
          "model_module_version": "1.5.0",
          "model_name": "FloatProgressModel",
          "state": {
            "_dom_classes": [],
            "_model_module": "@jupyter-widgets/controls",
            "_model_module_version": "1.5.0",
            "_model_name": "FloatProgressModel",
            "_view_count": null,
            "_view_module": "@jupyter-widgets/controls",
            "_view_module_version": "1.5.0",
            "_view_name": "ProgressView",
            "bar_style": "success",
            "description": "",
            "description_tooltip": null,
            "layout": "IPY_MODEL_bfeb35e88fa1465995b8e0d6f1dddc98",
            "max": 1,
            "min": 0,
            "orientation": "horizontal",
            "style": "IPY_MODEL_3e07adb6a51e4248bd6406aea900a5c3",
            "value": 0
          }
        },
        "2e0b658d7d224ca4ac1ba6978257822e": {
          "model_module": "@jupyter-widgets/controls",
          "model_module_version": "1.5.0",
          "model_name": "DescriptionStyleModel",
          "state": {
            "_model_module": "@jupyter-widgets/controls",
            "_model_module_version": "1.5.0",
            "_model_name": "DescriptionStyleModel",
            "_view_count": null,
            "_view_module": "@jupyter-widgets/base",
            "_view_module_version": "1.2.0",
            "_view_name": "StyleView",
            "description_width": ""
          }
        },
        "3e07adb6a51e4248bd6406aea900a5c3": {
          "model_module": "@jupyter-widgets/controls",
          "model_module_version": "1.5.0",
          "model_name": "ProgressStyleModel",
          "state": {
            "_model_module": "@jupyter-widgets/controls",
            "_model_module_version": "1.5.0",
            "_model_name": "ProgressStyleModel",
            "_view_count": null,
            "_view_module": "@jupyter-widgets/base",
            "_view_module_version": "1.2.0",
            "_view_name": "StyleView",
            "bar_color": null,
            "description_width": ""
          }
        },
        "50f430fa793b4ae983521b8cd9593fb6": {
          "model_module": "@jupyter-widgets/controls",
          "model_module_version": "1.5.0",
          "model_name": "HTMLModel",
          "state": {
            "_dom_classes": [],
            "_model_module": "@jupyter-widgets/controls",
            "_model_module_version": "1.5.0",
            "_model_name": "HTMLModel",
            "_view_count": null,
            "_view_module": "@jupyter-widgets/controls",
            "_view_module_version": "1.5.0",
            "_view_name": "HTMLView",
            "description": "",
            "description_tooltip": null,
            "layout": "IPY_MODEL_d657215fb8444a0ba02bc161ad8ed547",
            "placeholder": "​",
            "style": "IPY_MODEL_2e0b658d7d224ca4ac1ba6978257822e",
            "value": ""
          }
        },
        "6c65ec02e5cb4420a92466ec88176a6a": {
          "model_module": "@jupyter-widgets/base",
          "model_module_version": "1.2.0",
          "model_name": "LayoutModel",
          "state": {
            "_model_module": "@jupyter-widgets/base",
            "_model_module_version": "1.2.0",
            "_model_name": "LayoutModel",
            "_view_count": null,
            "_view_module": "@jupyter-widgets/base",
            "_view_module_version": "1.2.0",
            "_view_name": "LayoutView",
            "align_content": null,
            "align_items": null,
            "align_self": null,
            "border": null,
            "bottom": null,
            "display": null,
            "flex": null,
            "flex_flow": null,
            "grid_area": null,
            "grid_auto_columns": null,
            "grid_auto_flow": null,
            "grid_auto_rows": null,
            "grid_column": null,
            "grid_gap": null,
            "grid_row": null,
            "grid_template_areas": null,
            "grid_template_columns": null,
            "grid_template_rows": null,
            "height": null,
            "justify_content": null,
            "justify_items": null,
            "left": null,
            "margin": null,
            "max_height": null,
            "max_width": null,
            "min_height": null,
            "min_width": null,
            "object_fit": null,
            "object_position": null,
            "order": null,
            "overflow": null,
            "overflow_x": null,
            "overflow_y": null,
            "padding": null,
            "right": null,
            "top": null,
            "visibility": null,
            "width": null
          }
        },
        "6cc953dd94704b529471d5d91a093827": {
          "model_module": "@jupyter-widgets/base",
          "model_module_version": "1.2.0",
          "model_name": "LayoutModel",
          "state": {
            "_model_module": "@jupyter-widgets/base",
            "_model_module_version": "1.2.0",
            "_model_name": "LayoutModel",
            "_view_count": null,
            "_view_module": "@jupyter-widgets/base",
            "_view_module_version": "1.2.0",
            "_view_name": "LayoutView",
            "align_content": null,
            "align_items": null,
            "align_self": null,
            "border": null,
            "bottom": null,
            "display": null,
            "flex": null,
            "flex_flow": null,
            "grid_area": null,
            "grid_auto_columns": null,
            "grid_auto_flow": null,
            "grid_auto_rows": null,
            "grid_column": null,
            "grid_gap": null,
            "grid_row": null,
            "grid_template_areas": null,
            "grid_template_columns": null,
            "grid_template_rows": null,
            "height": null,
            "justify_content": null,
            "justify_items": null,
            "left": null,
            "margin": null,
            "max_height": null,
            "max_width": null,
            "min_height": null,
            "min_width": null,
            "object_fit": null,
            "object_position": null,
            "order": null,
            "overflow": null,
            "overflow_x": null,
            "overflow_y": null,
            "padding": null,
            "right": null,
            "top": null,
            "visibility": null,
            "width": null
          }
        },
        "78cb53ee8dbb46c2be60c18f7727f607": {
          "model_module": "@jupyter-widgets/controls",
          "model_module_version": "1.5.0",
          "model_name": "DescriptionStyleModel",
          "state": {
            "_model_module": "@jupyter-widgets/controls",
            "_model_module_version": "1.5.0",
            "_model_name": "DescriptionStyleModel",
            "_view_count": null,
            "_view_module": "@jupyter-widgets/base",
            "_view_module_version": "1.2.0",
            "_view_name": "StyleView",
            "description_width": ""
          }
        },
        "99408cf6a59b498b8fc056b5feecb57d": {
          "model_module": "@jupyter-widgets/controls",
          "model_module_version": "1.5.0",
          "model_name": "HBoxModel",
          "state": {
            "_dom_classes": [],
            "_model_module": "@jupyter-widgets/controls",
            "_model_module_version": "1.5.0",
            "_model_name": "HBoxModel",
            "_view_count": null,
            "_view_module": "@jupyter-widgets/controls",
            "_view_module_version": "1.5.0",
            "_view_name": "HBoxView",
            "box_style": "",
            "children": [
              "IPY_MODEL_50f430fa793b4ae983521b8cd9593fb6",
              "IPY_MODEL_2975d71de50a4b84b8128500470e4d40",
              "IPY_MODEL_b1eab855d56c4f1bab2e8ee5bc6a89d5"
            ],
            "layout": "IPY_MODEL_6cc953dd94704b529471d5d91a093827"
          }
        },
        "b1eab855d56c4f1bab2e8ee5bc6a89d5": {
          "model_module": "@jupyter-widgets/controls",
          "model_module_version": "1.5.0",
          "model_name": "HTMLModel",
          "state": {
            "_dom_classes": [],
            "_model_module": "@jupyter-widgets/controls",
            "_model_module_version": "1.5.0",
            "_model_name": "HTMLModel",
            "_view_count": null,
            "_view_module": "@jupyter-widgets/controls",
            "_view_module_version": "1.5.0",
            "_view_name": "HTMLView",
            "description": "",
            "description_tooltip": null,
            "layout": "IPY_MODEL_6c65ec02e5cb4420a92466ec88176a6a",
            "placeholder": "​",
            "style": "IPY_MODEL_78cb53ee8dbb46c2be60c18f7727f607",
            "value": " 0/0 [00:00&lt;?, ?it/s]"
          }
        },
        "bfeb35e88fa1465995b8e0d6f1dddc98": {
          "model_module": "@jupyter-widgets/base",
          "model_module_version": "1.2.0",
          "model_name": "LayoutModel",
          "state": {
            "_model_module": "@jupyter-widgets/base",
            "_model_module_version": "1.2.0",
            "_model_name": "LayoutModel",
            "_view_count": null,
            "_view_module": "@jupyter-widgets/base",
            "_view_module_version": "1.2.0",
            "_view_name": "LayoutView",
            "align_content": null,
            "align_items": null,
            "align_self": null,
            "border": null,
            "bottom": null,
            "display": null,
            "flex": null,
            "flex_flow": null,
            "grid_area": null,
            "grid_auto_columns": null,
            "grid_auto_flow": null,
            "grid_auto_rows": null,
            "grid_column": null,
            "grid_gap": null,
            "grid_row": null,
            "grid_template_areas": null,
            "grid_template_columns": null,
            "grid_template_rows": null,
            "height": null,
            "justify_content": null,
            "justify_items": null,
            "left": null,
            "margin": null,
            "max_height": null,
            "max_width": null,
            "min_height": null,
            "min_width": null,
            "object_fit": null,
            "object_position": null,
            "order": null,
            "overflow": null,
            "overflow_x": null,
            "overflow_y": null,
            "padding": null,
            "right": null,
            "top": null,
            "visibility": null,
            "width": "20px"
          }
        },
        "d657215fb8444a0ba02bc161ad8ed547": {
          "model_module": "@jupyter-widgets/base",
          "model_module_version": "1.2.0",
          "model_name": "LayoutModel",
          "state": {
            "_model_module": "@jupyter-widgets/base",
            "_model_module_version": "1.2.0",
            "_model_name": "LayoutModel",
            "_view_count": null,
            "_view_module": "@jupyter-widgets/base",
            "_view_module_version": "1.2.0",
            "_view_name": "LayoutView",
            "align_content": null,
            "align_items": null,
            "align_self": null,
            "border": null,
            "bottom": null,
            "display": null,
            "flex": null,
            "flex_flow": null,
            "grid_area": null,
            "grid_auto_columns": null,
            "grid_auto_flow": null,
            "grid_auto_rows": null,
            "grid_column": null,
            "grid_gap": null,
            "grid_row": null,
            "grid_template_areas": null,
            "grid_template_columns": null,
            "grid_template_rows": null,
            "height": null,
            "justify_content": null,
            "justify_items": null,
            "left": null,
            "margin": null,
            "max_height": null,
            "max_width": null,
            "min_height": null,
            "min_width": null,
            "object_fit": null,
            "object_position": null,
            "order": null,
            "overflow": null,
            "overflow_x": null,
            "overflow_y": null,
            "padding": null,
            "right": null,
            "top": null,
            "visibility": null,
            "width": null
          }
        }
      }
    }
  },
  "nbformat": 4,
  "nbformat_minor": 0
}
