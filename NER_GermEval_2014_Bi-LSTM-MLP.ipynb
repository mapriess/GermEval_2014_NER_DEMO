{
  "cells": [
    {
      "cell_type": "markdown",
      "metadata": {},
      "source": [
        "## Library imports"
      ]
    },
    {
      "cell_type": "code",
      "execution_count": null,
      "metadata": {},
      "outputs": [],
      "source": [
        "azure = False\n",
        "colab = False\n",
        "\n",
        "if azure or colab:\n",
        "    !pip install seqeval\n",
        "    !pip install git+https://www.github.com/keras-team/keras-contrib.git\n",
        "    !pip install plot_keras_history"
      ]
    },
    {
      "cell_type": "code",
      "execution_count": 93,
      "metadata": {},
      "outputs": [],
      "source": [
        "import pandas as pd\n",
        "import numpy as np\n",
        "import matplotlib.pyplot as plt\n",
        "plt.style.use(\"ggplot\")\n",
        "import seaborn as sns\n",
        "\n",
        "import tensorflow as tf\n",
        "import keras\n",
        "\n",
        "from tensorflow.keras.preprocessing.sequence import pad_sequences\n",
        "from tensorflow.keras.utils import to_categorical, plot_model\n",
        "\n",
        "from seqeval.metrics import precision_score, recall_score, f1_score, classification_report, accuracy_score\n",
        "\n",
        "from tensorflow.keras import Model, Input\n",
        "from tensorflow.keras.layers import LSTM, Embedding, Dense, TimeDistributed, Dropout, Bidirectional, InputLayer\n",
        "from tensorflow.keras import optimizers\n",
        "from keras_contrib.layers import CRF\n",
        "from keras_contrib import losses\n",
        "from keras_contrib import metrics\n",
        "from plot_keras_history import plot_history\n",
        "\n",
        "from prettytable import PrettyTable"
      ]
    },
    {
      "cell_type": "code",
      "execution_count": 49,
      "metadata": {},
      "outputs": [
        {
          "name": "stdout",
          "output_type": "stream",
          "text": [
            "tensorflow\n"
          ]
        }
      ],
      "source": [
        "print(keras.backend.backend())"
      ]
    },
    {
      "cell_type": "code",
      "execution_count": 51,
      "metadata": {
        "colab": {
          "base_uri": "https://localhost:8080/"
        },
        "id": "ixUTRy34F8is",
        "outputId": "0c0239fd-9f89-4cd9-95e7-7474e6b8caf1"
      },
      "outputs": [],
      "source": [
        "# For Google Colab only\n",
        "if colab:\n",
        "    !git clone https://github.com/mapriess/GermEval_2014_NER_DEMO.git"
      ]
    },
    {
      "cell_type": "markdown",
      "metadata": {},
      "source": [
        "## Data: Import"
      ]
    },
    {
      "cell_type": "code",
      "execution_count": 52,
      "metadata": {
        "id": "IO3OkL_2Fq4I"
      },
      "outputs": [],
      "source": [
        "#\n",
        "# Parser for GermEval 2014 Dataset\n",
        "#\n",
        "# Input: Tab-separated file, one token per row, two levels of annotation\n",
        "# Token    Tag_Level1     Tag_Level2\n",
        "# \n",
        "# Output: Pandas dataframe (columns: Sentence #, Token, TagComb)\n",
        "#\n",
        "def parser(path):\n",
        "    cols = ['Sentence #','Word', 'Tag_Level1', 'Tag_Level2']\n",
        "    df = pd.read_csv(path, sep='\\t', encoding=\"utf8\", quoting=3)\n",
        "\n",
        "    # Set columns\n",
        "    cols = ['Sentence #','Word', 'Tag_Level1', 'Tag_Level2']\n",
        "    df.set_axis(labels=cols, axis='columns', inplace=True)\n",
        "\n",
        "    # Correct sentence number according to source entries (#)\n",
        "    # TODO: Find more efficient way to further speed up the parsing\n",
        "    sent_id = 1\n",
        "    for index, row in df.iterrows():\n",
        "        if (row['Sentence #'] == '#'):\n",
        "            sent_id += 1\n",
        "            continue\n",
        "        row['Sentence #'] = \"Sentence: \" + str(sent_id)\n",
        "\n",
        "    # Delete rows starting with '#'\n",
        "    df.drop( df[df['Sentence #'] == '#'].index, inplace=True )\n",
        "\n",
        "    # Conventional flat named‐entity‐recognition models could be used without any modification once the labels of different levels were joined together into a single level (Agrawal et al. (2022)).\n",
        "    df['TagComb'] = df['Tag_Level1'] + \"+\" + df['Tag_Level2']\n",
        "    df.drop(columns=['Tag_Level1','Tag_Level2'], inplace=True)\n",
        "\n",
        "    return df"
      ]
    },
    {
      "cell_type": "code",
      "execution_count": 53,
      "metadata": {
        "id": "-CzzWQ4fFq4J"
      },
      "outputs": [],
      "source": [
        "pathColab = ''\n",
        "if colab:\n",
        "  pathColab = \"GermEval_2014_NER_DEMO/\"\n",
        "\n",
        "df_train = parser(pathColab + \"Data/NER-de-train.tsv\")\n",
        "df_val = parser(pathColab + \"Data/NER-de-dev.tsv\")\n",
        "df_test = parser(pathColab + \"Data/NER-de-test.tsv\")\n",
        "df = parser(pathColab + \"Data/NER-de-all.tsv\") # TODO: Can also be achieved through concatenation of DFs"
      ]
    },
    {
      "cell_type": "markdown",
      "metadata": {},
      "source": [
        "## Data: Inspection"
      ]
    },
    {
      "cell_type": "code",
      "execution_count": 54,
      "metadata": {
        "colab": {
          "base_uri": "https://localhost:8080/"
        },
        "id": "uq4HkgqZFq4K",
        "outputId": "9eb3c736-b06a-4c91-aed2-ced847c5558f"
      },
      "outputs": [
        {
          "name": "stdout",
          "output_type": "stream",
          "text": [
            "(452853, 3) (41653, 3) (96499, 3) (591005, 3)\n"
          ]
        }
      ],
      "source": [
        "print(df_train.shape,df_val.shape,df_test.shape,df.shape)"
      ]
    },
    {
      "cell_type": "code",
      "execution_count": 55,
      "metadata": {},
      "outputs": [
        {
          "name": "stdout",
          "output_type": "stream",
          "text": [
            "<class 'pandas.core.frame.DataFrame'>\n",
            "Int64Index: 591005 entries, 0 to 622303\n",
            "Data columns (total 3 columns):\n",
            " #   Column      Non-Null Count   Dtype \n",
            "---  ------      --------------   ----- \n",
            " 0   Sentence #  591005 non-null  object\n",
            " 1   Word        590999 non-null  object\n",
            " 2   TagComb     591005 non-null  object\n",
            "dtypes: object(3)\n",
            "memory usage: 18.0+ MB\n",
            "None\n"
          ]
        }
      ],
      "source": [
        "# DF overview\n",
        "print(df.info())"
      ]
    },
    {
      "cell_type": "code",
      "execution_count": 56,
      "metadata": {},
      "outputs": [
        {
          "data": {
            "text/plain": [
              "<AxesSubplot:>"
            ]
          },
          "execution_count": 56,
          "metadata": {},
          "output_type": "execute_result"
        },
        {
          "data": {
            "image/png": "[encoded data removed]",
            "text/plain": [
              "<Figure size 2160x360 with 1 Axes>"
            ]
          },
          "metadata": {},
          "output_type": "display_data"
        }
      ],
      "source": [
        "# NER tag distribution\n",
        "df[df[\"TagComb\"]!=\"O+O\"][\"TagComb\"].value_counts().plot(kind=\"bar\", figsize=(30,5))"
      ]
    },
    {
      "cell_type": "code",
      "execution_count": 57,
      "metadata": {},
      "outputs": [
        {
          "data": {
            "text/html": [
              "<div>\n",
              "<style scoped>\n",
              "    .dataframe tbody tr th:only-of-type {\n",
              "        vertical-align: middle;\n",
              "    }\n",
              "\n",
              "    .dataframe tbody tr th {\n",
              "        vertical-align: top;\n",
              "    }\n",
              "\n",
              "    .dataframe thead th {\n",
              "        text-align: right;\n",
              "    }\n",
              "</style>\n",
              "<table border=\"1\" class=\"dataframe\">\n",
              "  <thead>\n",
              "    <tr style=\"text-align: right;\">\n",
              "      <th></th>\n",
              "      <th>Sentence #</th>\n",
              "      <th>Word</th>\n",
              "      <th>TagComb</th>\n",
              "    </tr>\n",
              "  </thead>\n",
              "  <tbody>\n",
              "    <tr>\n",
              "      <th>36901</th>\n",
              "      <td>Sentence: 1865</td>\n",
              "      <td>England</td>\n",
              "      <td>I-OTH+I-LOC</td>\n",
              "    </tr>\n",
              "    <tr>\n",
              "      <th>69076</th>\n",
              "      <td>Sentence: 3496</td>\n",
              "      <td>Lorenzo</td>\n",
              "      <td>I-OTH+I-LOC</td>\n",
              "    </tr>\n",
              "    <tr>\n",
              "      <th>72454</th>\n",
              "      <td>Sentence: 3667</td>\n",
              "      <td>.</td>\n",
              "      <td>I-OTH+I-LOC</td>\n",
              "    </tr>\n",
              "    <tr>\n",
              "      <th>72455</th>\n",
              "      <td>Sentence: 3667</td>\n",
              "      <td>Hedwigskirche</td>\n",
              "      <td>I-OTH+I-LOC</td>\n",
              "    </tr>\n",
              "    <tr>\n",
              "      <th>222580</th>\n",
              "      <td>Sentence: 11234</td>\n",
              "      <td>Oranienburg</td>\n",
              "      <td>I-OTH+I-LOC</td>\n",
              "    </tr>\n",
              "    <tr>\n",
              "      <th>265093</th>\n",
              "      <td>Sentence: 13389</td>\n",
              "      <td>Meeres</td>\n",
              "      <td>I-OTH+I-LOC</td>\n",
              "    </tr>\n",
              "    <tr>\n",
              "      <th>337843</th>\n",
              "      <td>Sentence: 17035</td>\n",
              "      <td>Big</td>\n",
              "      <td>I-OTH+I-LOC</td>\n",
              "    </tr>\n",
              "    <tr>\n",
              "      <th>337844</th>\n",
              "      <td>Sentence: 17035</td>\n",
              "      <td>Horn</td>\n",
              "      <td>I-OTH+I-LOC</td>\n",
              "    </tr>\n",
              "    <tr>\n",
              "      <th>347724</th>\n",
              "      <td>Sentence: 17500</td>\n",
              "      <td>Charlie</td>\n",
              "      <td>I-OTH+I-LOC</td>\n",
              "    </tr>\n",
              "    <tr>\n",
              "      <th>356374</th>\n",
              "      <td>Sentence: 17933</td>\n",
              "      <td>Nam</td>\n",
              "      <td>I-OTH+I-LOC</td>\n",
              "    </tr>\n",
              "    <tr>\n",
              "      <th>382822</th>\n",
              "      <td>Sentence: 19251</td>\n",
              "      <td>Brücke</td>\n",
              "      <td>I-OTH+I-LOC</td>\n",
              "    </tr>\n",
              "    <tr>\n",
              "      <th>400951</th>\n",
              "      <td>Sentence: 20163</td>\n",
              "      <td>York</td>\n",
              "      <td>I-OTH+I-LOC</td>\n",
              "    </tr>\n",
              "    <tr>\n",
              "      <th>400959</th>\n",
              "      <td>Sentence: 20163</td>\n",
              "      <td>Francisco</td>\n",
              "      <td>I-OTH+I-LOC</td>\n",
              "    </tr>\n",
              "    <tr>\n",
              "      <th>413752</th>\n",
              "      <td>Sentence: 20806</td>\n",
              "      <td>Staaten</td>\n",
              "      <td>I-OTH+I-LOC</td>\n",
              "    </tr>\n",
              "    <tr>\n",
              "      <th>455635</th>\n",
              "      <td>Sentence: 22919</td>\n",
              "      <td>Hills</td>\n",
              "      <td>I-OTH+I-LOC</td>\n",
              "    </tr>\n",
              "    <tr>\n",
              "      <th>465612</th>\n",
              "      <td>Sentence: 23423</td>\n",
              "      <td>Höhenrückens</td>\n",
              "      <td>I-OTH+I-LOC</td>\n",
              "    </tr>\n",
              "    <tr>\n",
              "      <th>497028</th>\n",
              "      <td>Sentence: 25022</td>\n",
              "      <td>Vegas</td>\n",
              "      <td>I-OTH+I-LOC</td>\n",
              "    </tr>\n",
              "    <tr>\n",
              "      <th>562665</th>\n",
              "      <td>Sentence: 28321</td>\n",
              "      <td>America</td>\n",
              "      <td>I-OTH+I-LOC</td>\n",
              "    </tr>\n",
              "  </tbody>\n",
              "</table>\n",
              "</div>"
            ],
            "text/plain": [
              "             Sentence #           Word      TagComb\n",
              "36901    Sentence: 1865        England  I-OTH+I-LOC\n",
              "69076    Sentence: 3496        Lorenzo  I-OTH+I-LOC\n",
              "72454    Sentence: 3667              .  I-OTH+I-LOC\n",
              "72455    Sentence: 3667  Hedwigskirche  I-OTH+I-LOC\n",
              "222580  Sentence: 11234    Oranienburg  I-OTH+I-LOC\n",
              "265093  Sentence: 13389         Meeres  I-OTH+I-LOC\n",
              "337843  Sentence: 17035            Big  I-OTH+I-LOC\n",
              "337844  Sentence: 17035           Horn  I-OTH+I-LOC\n",
              "347724  Sentence: 17500        Charlie  I-OTH+I-LOC\n",
              "356374  Sentence: 17933            Nam  I-OTH+I-LOC\n",
              "382822  Sentence: 19251         Brücke  I-OTH+I-LOC\n",
              "400951  Sentence: 20163           York  I-OTH+I-LOC\n",
              "400959  Sentence: 20163      Francisco  I-OTH+I-LOC\n",
              "413752  Sentence: 20806        Staaten  I-OTH+I-LOC\n",
              "455635  Sentence: 22919          Hills  I-OTH+I-LOC\n",
              "465612  Sentence: 23423   Höhenrückens  I-OTH+I-LOC\n",
              "497028  Sentence: 25022          Vegas  I-OTH+I-LOC\n",
              "562665  Sentence: 28321        America  I-OTH+I-LOC"
            ]
          },
          "execution_count": 57,
          "metadata": {},
          "output_type": "execute_result"
        }
      ],
      "source": [
        "# Occurrence of combined tag \"I-OTH+I-LOC\"\n",
        "df[df[\"TagComb\"]==\"I-OTH+I-LOC\"]"
      ]
    },
    {
      "cell_type": "code",
      "execution_count": 58,
      "metadata": {
        "colab": {
          "base_uri": "https://localhost:8080/"
        },
        "id": "u8bFPdWlFq4L",
        "outputId": "19bb9ae1-5087-41f9-cffe-17db71280ae9"
      },
      "outputs": [
        {
          "data": {
            "text/plain": [
              "O+O                     535985\n",
              "B-LOC+O                  10522\n",
              "B-PER+O                  10022\n",
              "B-ORG+O                   5939\n",
              "I-PER+O                   5710\n",
              "                         ...  \n",
              "B-ORGpart+B-LOCderiv         1\n",
              "I-OTH+B-OTHpart              1\n",
              "B-OTHpart+B-OTH              1\n",
              "B-ORGpart+B-LOC              1\n",
              "I-PER+B-ORG                  1\n",
              "Name: TagComb, Length: 110, dtype: int64"
            ]
          },
          "execution_count": 58,
          "metadata": {},
          "output_type": "execute_result"
        }
      ],
      "source": [
        "# NER tag distribution\n",
        "df['TagComb'].value_counts()"
      ]
    },
    {
      "cell_type": "code",
      "execution_count": 59,
      "metadata": {
        "colab": {
          "base_uri": "https://localhost:8080/"
        },
        "id": "hshfAIXdFq4M",
        "outputId": "efedfa08-c6a6-4046-b2c0-af7f4855a8ed"
      },
      "outputs": [
        {
          "data": {
            "text/plain": [
              "Sentence: 15371    56\n",
              "Sentence: 5900     52\n",
              "Sentence: 19927    51\n",
              "Sentence: 31063    51\n",
              "Sentence: 22048    50\n",
              "                   ..\n",
              "Sentence: 4620      4\n",
              "Sentence: 9816      4\n",
              "Sentence: 900       3\n",
              "Sentence: 16982     3\n",
              "Sentence: 15419     3\n",
              "Name: Sentence #, Length: 31300, dtype: int64"
            ]
          },
          "execution_count": 59,
          "metadata": {},
          "output_type": "execute_result"
        }
      ],
      "source": [
        "# Sentence length distribution\n",
        "df['Sentence #'].value_counts()"
      ]
    },
    {
      "cell_type": "code",
      "execution_count": 60,
      "metadata": {
        "colab": {
          "base_uri": "https://localhost:8080/"
        },
        "id": "nhi5z9YXFq4M",
        "outputId": "24686685-1f9a-408a-fa66-bcc87a8b6c4b"
      },
      "outputs": [
        {
          "name": "stdout",
          "output_type": "stream",
          "text": [
            "Number of unique words in dataset: 89946\n"
          ]
        }
      ],
      "source": [
        "# List of unique words\n",
        "words = list(set(df['Word'].values))\n",
        "words.append('PADword') # later used for creating input vectors of fixed length (padding)\n",
        "n_words = len(words)\n",
        "print(\"Number of unique words in dataset:\", n_words)"
      ]
    },
    {
      "cell_type": "code",
      "execution_count": 61,
      "metadata": {
        "colab": {
          "base_uri": "https://localhost:8080/"
        },
        "id": "A0AgrTIjFq4N",
        "outputId": "ee83fb01-cd85-40d4-de3a-90d63525b121"
      },
      "outputs": [
        {
          "name": "stdout",
          "output_type": "stream",
          "text": [
            "Number of unique tags in dataset: 110\n"
          ]
        }
      ],
      "source": [
        "# List of unique (combined) tokens\n",
        "tags = list(set(df[\"TagComb\"].values))\n",
        "n_tags = len(tags)\n",
        "print(\"Number of unique tags in dataset:\", n_tags)"
      ]
    },
    {
      "cell_type": "code",
      "execution_count": 62,
      "metadata": {},
      "outputs": [
        {
          "data": {
            "text/plain": [
              "Sentence #    0\n",
              "Word          6\n",
              "TagComb       0\n",
              "dtype: int64"
            ]
          },
          "execution_count": 62,
          "metadata": {},
          "output_type": "execute_result"
        }
      ],
      "source": [
        "# Check null elements\n",
        "df.isnull().sum(axis = 0)"
      ]
    },
    {
      "cell_type": "markdown",
      "metadata": {
        "id": "68uFc_66Fq4O"
      },
      "source": [
        "**Conclusion:**\n",
        "\n",
        "We have 31300 sentences in our training dataset, 89946 different words and 110 different named entities (Tags)."
      ]
    },
    {
      "cell_type": "markdown",
      "metadata": {},
      "source": [
        "## Data: Preparation"
      ]
    },
    {
      "cell_type": "code",
      "execution_count": 63,
      "metadata": {
        "id": "KwJNROkAFq4P"
      },
      "outputs": [],
      "source": [
        "#\n",
        "# Input: Pandas dataframe (columns: Sentence #, Token, TagComb)\n",
        "# Output: list of tuples [(word, named entity tag), ...]\n",
        "#\n",
        "def createSentenceList(df):\n",
        "    agg_func = lambda s: [(w, t) for w, t in zip(s[\"Word\"].values.tolist(),s[\"TagComb\"].values.tolist())]\n",
        "    grouped = df.groupby(\"Sentence #\").apply(agg_func)\n",
        "    sentences = [s for s in grouped] \n",
        "    return sentences"
      ]
    },
    {
      "cell_type": "code",
      "execution_count": 64,
      "metadata": {
        "colab": {
          "base_uri": "https://localhost:8080/"
        },
        "id": "LA717SIHFq4R",
        "outputId": "52131714-7e17-4bff-f938-d9b7c301eacf"
      },
      "outputs": [
        {
          "name": "stdout",
          "output_type": "stream",
          "text": [
            "# sentences complete dataset:  31300\n",
            "# sentences train dataset:  24000\n",
            "# sentences val dataset:  2200\n",
            "# sentences test dataset:  5100\n"
          ]
        }
      ],
      "source": [
        "sentences_df = createSentenceList(df)\n",
        "sentences_df_train = createSentenceList(df_train)\n",
        "sentences_df_val = createSentenceList(df_val)\n",
        "sentences_df_test = createSentenceList(df_test)\n",
        "\n",
        "print(\"# sentences complete dataset: \", len(sentences_df))\n",
        "print(\"# sentences train dataset: \", len(sentences_df_train))\n",
        "print(\"# sentences val dataset: \", len(sentences_df_val))\n",
        "print(\"# sentences test dataset: \", len(sentences_df_test))"
      ]
    },
    {
      "cell_type": "code",
      "execution_count": 65,
      "metadata": {
        "colab": {
          "base_uri": "https://localhost:8080/"
        },
        "id": "EPzN-1UdFq4S",
        "outputId": "1ca64b0e-9e34-434c-d6f6-0fb100577d98"
      },
      "outputs": [
        {
          "name": "stdout",
          "output_type": "stream",
          "text": [
            "Train: [('Schartau', 'B-PER+O'), ('sagte', 'O+O'), ('dem', 'O+O'), ('\"', 'O+O'), ('Tagesspiegel', 'B-ORG+O'), ('\"', 'O+O'), ('vom', 'O+O'), ('Freitag', 'O+O'), (',', 'O+O'), ('Fischer', 'B-PER+O'), ('sei', 'O+O'), ('\"', 'O+O'), ('in', 'O+O'), ('einer', 'O+O'), ('Weise', 'O+O'), ('aufgetreten', 'O+O'), (',', 'O+O'), ('die', 'O+O'), ('alles', 'O+O'), ('andere', 'O+O'), ('als', 'O+O'), ('überzeugend', 'O+O'), ('war', 'O+O'), ('\"', 'O+O'), ('.', 'O+O')]\n",
            "\n",
            "Val: [('Gleich', 'O+O'), ('darauf', 'O+O'), ('entwirft', 'O+O'), ('er', 'O+O'), ('seine', 'O+O'), ('Selbstdarstellung', 'O+O'), ('\"', 'O+O'), ('Ecce', 'B-OTH+O'), ('homo', 'I-OTH+O'), ('\"', 'O+O'), ('in', 'O+O'), ('enger', 'O+O'), ('Auseinandersetzung', 'O+O'), ('mit', 'O+O'), ('diesem', 'O+O'), ('Bild', 'O+O'), ('Jesu', 'B-PER+O'), ('.', 'O+O')]\n",
            "\n",
            "Test: [('1951', 'O+O'), ('bis', 'O+O'), ('1953', 'O+O'), ('wurde', 'O+O'), ('der', 'O+O'), ('nördliche', 'O+O'), ('Teil', 'O+O'), ('als', 'O+O'), ('Jugendburg', 'O+O'), ('des', 'O+O'), ('Kolpingwerkes', 'B-OTH+O'), ('gebaut', 'O+O'), ('.', 'O+O')]\n"
          ]
        }
      ],
      "source": [
        "# Get first sentence\n",
        "print( \"Train: \" + str(sentences_df_train[0]) + \"\\n\" )\n",
        "print( \"Val: \" + str(sentences_df_val[0]) + \"\\n\" )\n",
        "print( \"Test: \" + str(sentences_df_test[0]))"
      ]
    },
    {
      "cell_type": "code",
      "execution_count": 66,
      "metadata": {
        "colab": {
          "base_uri": "https://localhost:8080/"
        },
        "id": "jY_uMlhJFq4S",
        "outputId": "7cf8260e-1a49-4faa-823d-363b0cf29927"
      },
      "outputs": [
        {
          "name": "stdout",
          "output_type": "stream",
          "text": [
            "Biggest sentence has 56 words\n"
          ]
        }
      ],
      "source": [
        "# Determine largest sentence\n",
        "largest_sen = max(len(sen) for sen in sentences_df)\n",
        "print('Biggest sentence has {} words'.format(largest_sen))"
      ]
    },
    {
      "cell_type": "code",
      "execution_count": 67,
      "metadata": {
        "colab": {
          "base_uri": "https://localhost:8080/",
          "height": 265
        },
        "id": "qsagcwQPFq4T",
        "outputId": "94eaf15d-6bc9-4327-e51b-8f6d695d5dd7"
      },
      "outputs": [
        {
          "data": {
            "image/png": "[encoded data removed]",
            "text/plain": [
              "<Figure size 432x288 with 1 Axes>"
            ]
          },
          "metadata": {
            "needs_background": "light"
          },
          "output_type": "display_data"
        }
      ],
      "source": [
        "# Histogram of length of sentences\n",
        "%matplotlib inline\n",
        "plt.hist([len(sen) for sen in sentences_df], bins= 50)\n",
        "plt.title(\"Histogram of length of sentences\")\n",
        "plt.show()"
      ]
    },
    {
      "cell_type": "markdown",
      "metadata": {
        "id": "wGXHcFqKFq4T"
      },
      "source": [
        "**Conclusion:**\n",
        "\n",
        "The longest sentence has 56 words in it and we can see that almost all of the sentences have less than 50 words in them."
      ]
    },
    {
      "cell_type": "code",
      "execution_count": 68,
      "metadata": {
        "colab": {
          "base_uri": "https://localhost:8080/"
        },
        "id": "u6mEP5q1Fq4U",
        "outputId": "d7197df8-c85d-412d-84f9-2c49a8edea71"
      },
      "outputs": [
        {
          "name": "stdout",
          "output_type": "stream",
          "text": [
            "77166\n",
            "94\n"
          ]
        }
      ],
      "source": [
        "# Assigning index to all unique words and tags\n",
        "words2index = {w:i for i,w in enumerate(words)}\n",
        "tags2index = {t:i for i,t in enumerate(tags)}\n",
        "\n",
        "# Print index for exemplary word and tag\n",
        "print(words2index['Tagesspiegel'])\n",
        "print(tags2index['B-LOC+B-PER'])"
      ]
    },
    {
      "cell_type": "code",
      "execution_count": 69,
      "metadata": {
        "colab": {
          "base_uri": "https://localhost:8080/",
          "height": 204
        },
        "id": "B9yjHnhTFq4U",
        "outputId": "0a1b7f2c-d974-413b-c90a-b09e268e3ff3"
      },
      "outputs": [
        {
          "data": {
            "text/html": [
              "<div>\n",
              "<style scoped>\n",
              "    .dataframe tbody tr th:only-of-type {\n",
              "        vertical-align: middle;\n",
              "    }\n",
              "\n",
              "    .dataframe tbody tr th {\n",
              "        vertical-align: top;\n",
              "    }\n",
              "\n",
              "    .dataframe thead th {\n",
              "        text-align: right;\n",
              "    }\n",
              "</style>\n",
              "<table border=\"1\" class=\"dataframe\">\n",
              "  <thead>\n",
              "    <tr style=\"text-align: right;\">\n",
              "      <th></th>\n",
              "      <th>Sentence #</th>\n",
              "      <th>Word</th>\n",
              "      <th>TagComb</th>\n",
              "      <th>Word_idx</th>\n",
              "      <th>Tag_idx</th>\n",
              "    </tr>\n",
              "  </thead>\n",
              "  <tbody>\n",
              "    <tr>\n",
              "      <th>0</th>\n",
              "      <td>Sentence: 1</td>\n",
              "      <td>Schartau</td>\n",
              "      <td>B-PER+O</td>\n",
              "      <td>43658</td>\n",
              "      <td>67</td>\n",
              "    </tr>\n",
              "    <tr>\n",
              "      <th>1</th>\n",
              "      <td>Sentence: 1</td>\n",
              "      <td>sagte</td>\n",
              "      <td>O+O</td>\n",
              "      <td>6959</td>\n",
              "      <td>78</td>\n",
              "    </tr>\n",
              "    <tr>\n",
              "      <th>2</th>\n",
              "      <td>Sentence: 1</td>\n",
              "      <td>dem</td>\n",
              "      <td>O+O</td>\n",
              "      <td>23949</td>\n",
              "      <td>78</td>\n",
              "    </tr>\n",
              "    <tr>\n",
              "      <th>3</th>\n",
              "      <td>Sentence: 1</td>\n",
              "      <td>\"</td>\n",
              "      <td>O+O</td>\n",
              "      <td>565</td>\n",
              "      <td>78</td>\n",
              "    </tr>\n",
              "    <tr>\n",
              "      <th>4</th>\n",
              "      <td>Sentence: 1</td>\n",
              "      <td>Tagesspiegel</td>\n",
              "      <td>B-ORG+O</td>\n",
              "      <td>77166</td>\n",
              "      <td>69</td>\n",
              "    </tr>\n",
              "  </tbody>\n",
              "</table>\n",
              "</div>"
            ],
            "text/plain": [
              "    Sentence #          Word  TagComb  Word_idx  Tag_idx\n",
              "0  Sentence: 1      Schartau  B-PER+O     43658       67\n",
              "1  Sentence: 1         sagte      O+O      6959       78\n",
              "2  Sentence: 1           dem      O+O     23949       78\n",
              "3  Sentence: 1             \"      O+O       565       78\n",
              "4  Sentence: 1  Tagesspiegel  B-ORG+O     77166       69"
            ]
          },
          "execution_count": 69,
          "metadata": {},
          "output_type": "execute_result"
        }
      ],
      "source": [
        "# Visualise words to index and vice versa mappings\n",
        "df['Word_idx'] = df['Word'].map(words2index)\n",
        "df['Tag_idx'] = df['TagComb'].map(tags2index)\n",
        "df.head()"
      ]
    },
    {
      "cell_type": "markdown",
      "metadata": {},
      "source": [
        "### Apply simple index embedding of shape (#sent, max_len) for x values"
      ]
    },
    {
      "cell_type": "code",
      "execution_count": 70,
      "metadata": {},
      "outputs": [
        {
          "name": "stdout",
          "output_type": "stream",
          "text": [
            "Shapes: (24000, 50), (2200, 50), (5100, 50)\n",
            "Train: [43658  6959 23949   565 77166   565  6855 69883 58082 23012  9013   565\n",
            " 40347 22360 11853 36201 58082 58193  2412 60338 50930 42633 68334   565\n",
            "  9683     0     0     0     0     0     0     0     0     0     0     0\n",
            "     0     0     0     0     0     0     0     0     0     0     0     0\n",
            "     0     0]\n",
            "\n",
            "Val: [49304 45542 27486 26802 84972 57892   565 63844 44890   565 40347 21329\n",
            "  9529 19971 34091  6277 18909  9683     0     0     0     0     0     0\n",
            "     0     0     0     0     0     0     0     0     0     0     0     0\n",
            "     0     0     0     0     0     0     0     0     0     0     0     0\n",
            "     0     0]\n",
            "\n",
            "Test: [89938 67001 58663 87787 18719 83195 74601 50930 29569 55122 60286 69275\n",
            "  9683     0     0     0     0     0     0     0     0     0     0     0\n",
            "     0     0     0     0     0     0     0     0     0     0     0     0\n",
            "     0     0     0     0     0     0     0     0     0     0     0     0\n",
            "     0     0]\n"
          ]
        }
      ],
      "source": [
        "# Convert words to indices defining input vector x of shape (#sent, max_len) with max_len = 50 in this case\n",
        "# Here, the index of words are used as embeddings and afterwards the keras embedding layer to create dense vector representations\n",
        "max_len = 50\n",
        "\n",
        "X_tr = [[words2index[w[0]] for w in s] for s in sentences_df_train]\n",
        "X_val = [[words2index[w[0]] for w in s] for s in sentences_df_val]\n",
        "X_te = [[words2index[w[0]] for w in s] for s in sentences_df_test]\n",
        "\n",
        "# Padding sentences to make the length of all sentences same\n",
        "X_tr = pad_sequences(maxlen=max_len, sequences=X_tr, padding=\"post\", value=0)\n",
        "X_val = pad_sequences(maxlen=max_len, sequences=X_val, padding=\"post\", value=0)\n",
        "X_te = pad_sequences(maxlen=max_len, sequences=X_te, padding=\"post\", value=0)\n",
        "\n",
        "# Check first data samples\n",
        "print(\"Shapes: \" + str(X_tr.shape) + \", \" + str(X_val.shape) + \", \" + str(X_te.shape))\n",
        "print(\"Train: \" + str(X_tr[0]) + \"\\n\")\n",
        "print(\"Val: \" + str(X_val[0]) + \"\\n\")\n",
        "print(\"Test: \" + str(X_te[0]))"
      ]
    },
    {
      "cell_type": "markdown",
      "metadata": {},
      "source": [
        "### Apply index embeddings (+ categorical transformation) of shape (#sent, max_len, #tags) for y values"
      ]
    },
    {
      "cell_type": "code",
      "execution_count": 82,
      "metadata": {
        "colab": {
          "base_uri": "https://localhost:8080/"
        },
        "id": "VmMg-jPwFq4W",
        "outputId": "a4496136-ef5b-4b59-a9b5-046dd1f2c9d1"
      },
      "outputs": [
        {
          "name": "stdout",
          "output_type": "stream",
          "text": [
            "Train: [[0. 0. 0. ... 0. 0. 0.]\n",
            " [0. 0. 0. ... 0. 0. 0.]\n",
            " [0. 0. 0. ... 0. 0. 0.]\n",
            " ...\n",
            " [0. 0. 0. ... 0. 0. 0.]\n",
            " [0. 0. 0. ... 0. 0. 0.]\n",
            " [0. 0. 0. ... 0. 0. 0.]]\n",
            "\n",
            "Val: [[0. 0. 0. ... 0. 0. 0.]\n",
            " [0. 0. 0. ... 0. 0. 0.]\n",
            " [0. 0. 0. ... 0. 0. 0.]\n",
            " ...\n",
            " [0. 0. 0. ... 0. 0. 0.]\n",
            " [0. 0. 0. ... 0. 0. 0.]\n",
            " [0. 0. 0. ... 0. 0. 0.]]\n",
            "\n",
            "Test: [[0. 0. 0. ... 0. 0. 0.]\n",
            " [0. 0. 0. ... 0. 0. 0.]\n",
            " [0. 0. 0. ... 0. 0. 0.]\n",
            " ...\n",
            " [0. 0. 0. ... 0. 0. 0.]\n",
            " [0. 0. 0. ... 0. 0. 0.]\n",
            " [0. 0. 0. ... 0. 0. 0.]]\n"
          ]
        }
      ],
      "source": [
        "# Convert tags to indices defining input vector y of shape (#sent, max_len, #tags) with max_len = 50 in this case\n",
        "y_tr = [[tags2index[w[1]] for w in s] for s in sentences_df_train]\n",
        "y_val = [[tags2index[w[1]] for w in s] for s in sentences_df_val]\n",
        "y_te = [[tags2index[w[1]] for w in s] for s in sentences_df_test]\n",
        "\n",
        "# Padding tags to match length of sentence\n",
        "y_tr = pad_sequences(maxlen=max_len, sequences=y_tr, padding=\"post\", value=tags2index[\"O+O\"])\n",
        "y_val = pad_sequences(maxlen=max_len, sequences=y_val, padding=\"post\", value=tags2index[\"O+O\"])\n",
        "y_te = pad_sequences(maxlen=max_len, sequences=y_te, padding=\"post\", value=tags2index[\"O+O\"])\n",
        "\n",
        "# Make y categorical (#sentences, max_len, #tags)\n",
        "y_tr = [to_categorical(i, num_classes=n_tags) for i in y_tr]\n",
        "y_val = [to_categorical(i, num_classes=n_tags) for i in y_val]\n",
        "y_te = [to_categorical(i, num_classes=n_tags) for i in y_te]\n",
        "\n",
        "# Check first data samples\n",
        "print(\"Train: \" + str(y_tr[0]) + \"\\n\")\n",
        "print(\"Val: \" + str(y_val[0]) + \"\\n\")\n",
        "print(\"Test: \" + str(y_te[0]))"
      ]
    },
    {
      "cell_type": "markdown",
      "metadata": {},
      "source": [
        "## Model: Defining architecture"
      ]
    },
    {
      "cell_type": "code",
      "execution_count": 30,
      "metadata": {
        "colab": {
          "base_uri": "https://localhost:8080/"
        },
        "id": "RhRakwLgFq4a",
        "outputId": "8cd13e4f-039d-4034-d6c8-3634d57dbd71"
      },
      "outputs": [
        {
          "name": "stdout",
          "output_type": "stream",
          "text": [
            "WARNING:tensorflow:From /Applications/anaconda3/envs/tf1/lib/python3.7/site-packages/tensorflow_core/python/ops/resource_variable_ops.py:1630: calling BaseResourceVariable.__init__ (from tensorflow.python.ops.resource_variable_ops) with constraint is deprecated and will be removed in a future version.\n",
            "Instructions for updating:\n",
            "If using Keras pass *_constraint arguments to layers.\n"
          ]
        }
      ],
      "source": [
        "MAX_SENTENCE    = max_len\n",
        "TAG_COUNT       = n_tags\n",
        "WORD_COUNT      = n_words + 1 # size of the vocabulary\n",
        "DENSE_EMBEDDING = 50\n",
        "LSTM_UNITS      = 50\n",
        "LSTM_DROPOUT    = 0.1\n",
        "DENSE_UNITS     = 50\n",
        "\n",
        "tf.compat.v1.set_random_seed(32)\n",
        "\n",
        "# Using keras Model approach\n",
        "# input = Input(shape=(MAX_SENTENCE,))\n",
        "# model = Embedding(input_dim=WORD_COUNT, output_dim=DENSE_EMBEDDING, input_length=MAX_SENTENCE)(input)\n",
        "# model = Bidirectional(LSTM(units=LSTM_UNITS, return_sequences=True, recurrent_dropout=LSTM_DROPOUT))(model)\n",
        "# out = TimeDistributed(Dense(TAG_COUNT, activation=\"softmax\"))(model)\n",
        "# model = Model(input, out)\n",
        "\n",
        "# Using keras Sequential approach\n",
        "model = keras.Sequential()\n",
        "model.add(InputLayer(input_shape=(X_tr[0].shape)))\n",
        "model.add(Embedding(input_dim=WORD_COUNT, output_dim=DENSE_EMBEDDING, input_length=MAX_SENTENCE))\n",
        "model.add(Bidirectional(LSTM(units=LSTM_UNITS, return_sequences=True, recurrent_dropout=LSTM_DROPOUT)))\n",
        "model.add(TimeDistributed(Dense(TAG_COUNT, activation=\"softmax\")))"
      ]
    },
    {
      "cell_type": "code",
      "execution_count": 31,
      "metadata": {
        "id": "FWKMjkhuFq4b"
      },
      "outputs": [],
      "source": [
        "opt = optimizers.Adam(lr=0.001)\n",
        "# opt = optimizers.RMSprop(lr=0.001)\n",
        "\n",
        "model.compile(optimizer=opt, loss=\"categorical_crossentropy\", metrics=[\"accuracy\"])"
      ]
    },
    {
      "cell_type": "code",
      "execution_count": 32,
      "metadata": {
        "colab": {
          "base_uri": "https://localhost:8080/"
        },
        "id": "aaX3k3DxFq4c",
        "outputId": "56345ad2-82f2-46cb-cbf5-ade4f8f3540d"
      },
      "outputs": [
        {
          "name": "stdout",
          "output_type": "stream",
          "text": [
            "Model: \"sequential_1\"\n",
            "_________________________________________________________________\n",
            "Layer (type)                 Output Shape              Param #   \n",
            "=================================================================\n",
            "embedding_1 (Embedding)      (None, 50, 50)            4497350   \n",
            "_________________________________________________________________\n",
            "bidirectional_1 (Bidirection (None, 50, 100)           40400     \n",
            "_________________________________________________________________\n",
            "time_distributed_1 (TimeDist (None, 50, 110)           11110     \n",
            "=================================================================\n",
            "Total params: 4,548,860\n",
            "Trainable params: 4,548,860\n",
            "Non-trainable params: 0\n",
            "_________________________________________________________________\n"
          ]
        }
      ],
      "source": [
        "model.summary()"
      ]
    },
    {
      "cell_type": "code",
      "execution_count": 36,
      "metadata": {
        "colab": {
          "base_uri": "https://localhost:8080/",
          "height": 644
        },
        "id": "cxiC59ObFq4e",
        "outputId": "6a0e546d-f602-481a-9d53-e0643506f2f6"
      },
      "outputs": [
        {
          "data": {
            "image/png": "[encoded data removed]",
            "text/plain": [
              "<IPython.core.display.Image object>"
            ]
          },
          "execution_count": 36,
          "metadata": {},
          "output_type": "execute_result"
        }
      ],
      "source": [
        "plot_model(model,'model.png',show_shapes= True)"
      ]
    },
    {
      "cell_type": "markdown",
      "metadata": {},
      "source": [
        "## Model: Training + Validation"
      ]
    },
    {
      "cell_type": "code",
      "execution_count": 37,
      "metadata": {
        "id": "TWN1bD1aFq4f"
      },
      "outputs": [
        {
          "name": "stdout",
          "output_type": "stream",
          "text": [
            "WARNING:tensorflow:From /Applications/anaconda3/envs/tf1/lib/python3.7/site-packages/tensorflow_core/python/ops/math_grad.py:1424: where (from tensorflow.python.ops.array_ops) is deprecated and will be removed in a future version.\n",
            "Instructions for updating:\n",
            "Use tf.where in 2.0, which has the same broadcast rule as np.where\n",
            "WARNING:tensorflow:From /Applications/anaconda3/envs/tf1/lib/python3.7/site-packages/keras/backend/tensorflow_backend.py:422: The name tf.global_variables is deprecated. Please use tf.compat.v1.global_variables instead.\n",
            "\n",
            "Train on 24000 samples, validate on 2200 samples\n",
            "Epoch 1/5\n",
            "24000/24000 [==============================] - 73s 3ms/step - loss: 0.3214 - accuracy: 0.9631 - val_loss: 0.1484 - val_accuracy: 0.9655\n",
            "Epoch 2/5\n",
            "24000/24000 [==============================] - 71s 3ms/step - loss: 0.1153 - accuracy: 0.9705 - val_loss: 0.1231 - val_accuracy: 0.9709\n",
            "Epoch 3/5\n",
            "24000/24000 [==============================] - 67s 3ms/step - loss: 0.0795 - accuracy: 0.9792 - val_loss: 0.1105 - val_accuracy: 0.9754\n",
            "Epoch 4/5\n",
            "24000/24000 [==============================] - 72s 3ms/step - loss: 0.0555 - accuracy: 0.9862 - val_loss: 0.1090 - val_accuracy: 0.9768\n",
            "Epoch 5/5\n",
            "24000/24000 [==============================] - 69s 3ms/step - loss: 0.0374 - accuracy: 0.9908 - val_loss: 0.1074 - val_accuracy: 0.9777\n"
          ]
        }
      ],
      "source": [
        "BATCH_SIZE = 32\n",
        "EPOCHS = 5\n",
        "\n",
        "history = model.fit(X_tr, np.array(y_tr), validation_data=(X_val, np.array(y_val)), batch_size=BATCH_SIZE, epochs=EPOCHS, verbose=1)"
      ]
    },
    {
      "cell_type": "code",
      "execution_count": 38,
      "metadata": {},
      "outputs": [
        {
          "data": {
            "text/html": [
              "<div>\n",
              "<style scoped>\n",
              "    .dataframe tbody tr th:only-of-type {\n",
              "        vertical-align: middle;\n",
              "    }\n",
              "\n",
              "    .dataframe tbody tr th {\n",
              "        vertical-align: top;\n",
              "    }\n",
              "\n",
              "    .dataframe thead th {\n",
              "        text-align: right;\n",
              "    }\n",
              "</style>\n",
              "<table border=\"1\" class=\"dataframe\">\n",
              "  <thead>\n",
              "    <tr style=\"text-align: right;\">\n",
              "      <th></th>\n",
              "      <th>val_loss</th>\n",
              "      <th>val_accuracy</th>\n",
              "      <th>loss</th>\n",
              "      <th>accuracy</th>\n",
              "    </tr>\n",
              "  </thead>\n",
              "  <tbody>\n",
              "    <tr>\n",
              "      <th>0</th>\n",
              "      <td>0.148357</td>\n",
              "      <td>0.965518</td>\n",
              "      <td>0.321401</td>\n",
              "      <td>0.963148</td>\n",
              "    </tr>\n",
              "    <tr>\n",
              "      <th>1</th>\n",
              "      <td>0.123064</td>\n",
              "      <td>0.970873</td>\n",
              "      <td>0.115254</td>\n",
              "      <td>0.970463</td>\n",
              "    </tr>\n",
              "    <tr>\n",
              "      <th>2</th>\n",
              "      <td>0.110482</td>\n",
              "      <td>0.975364</td>\n",
              "      <td>0.079514</td>\n",
              "      <td>0.979235</td>\n",
              "    </tr>\n",
              "    <tr>\n",
              "      <th>3</th>\n",
              "      <td>0.108983</td>\n",
              "      <td>0.976827</td>\n",
              "      <td>0.055505</td>\n",
              "      <td>0.986178</td>\n",
              "    </tr>\n",
              "    <tr>\n",
              "      <th>4</th>\n",
              "      <td>0.107384</td>\n",
              "      <td>0.977655</td>\n",
              "      <td>0.037351</td>\n",
              "      <td>0.990758</td>\n",
              "    </tr>\n",
              "  </tbody>\n",
              "</table>\n",
              "</div>"
            ],
            "text/plain": [
              "   val_loss  val_accuracy      loss  accuracy\n",
              "0  0.148357      0.965518  0.321401  0.963148\n",
              "1  0.123064      0.970873  0.115254  0.970463\n",
              "2  0.110482      0.975364  0.079514  0.979235\n",
              "3  0.108983      0.976827  0.055505  0.986178\n",
              "4  0.107384      0.977655  0.037351  0.990758"
            ]
          },
          "execution_count": 38,
          "metadata": {},
          "output_type": "execute_result"
        }
      ],
      "source": [
        "hist = pd.DataFrame(history.history)\n",
        "hist"
      ]
    },
    {
      "cell_type": "code",
      "execution_count": 39,
      "metadata": {},
      "outputs": [
        {
          "data": {
            "text/plain": [
              "(<Figure size 720x360 with 2 Axes>,\n",
              " array([<AxesSubplot:title={'center':'Loss'}, xlabel='Epochs', ylabel='Loss'>,\n",
              "        <AxesSubplot:title={'center':'Accuracy'}, xlabel='Epochs', ylabel='Accuracy'>],\n",
              "       dtype=object))"
            ]
          },
          "execution_count": 39,
          "metadata": {},
          "output_type": "execute_result"
        },
        {
          "data": {
            "image/png": "[encoded data removed]",
            "text/plain": [
              "<Figure size 720x360 with 2 Axes>"
            ]
          },
          "metadata": {
            "needs_background": "light"
          },
          "output_type": "display_data"
        }
      ],
      "source": [
        "plot_history(history.history)"
      ]
    },
    {
      "cell_type": "markdown",
      "metadata": {},
      "source": [
        "## Model: Prediction for test data"
      ]
    },
    {
      "cell_type": "code",
      "execution_count": 40,
      "metadata": {
        "id": "riUHrz0JFq4g"
      },
      "outputs": [
        {
          "name": "stdout",
          "output_type": "stream",
          "text": [
            "5100/5100 [==============================] - 2s 410us/step\n"
          ]
        }
      ],
      "source": [
        "# Predict output for test data\n",
        "test_pred = model.predict(X_te, verbose=1)\n",
        "# Index as key and tag as value\n",
        "idx2tag = {i: w for w, i in tags2index.items()}\n",
        "# Function to convert indexed tags to corresponding actual tags\n",
        "def pred2label(pred):\n",
        "    out = []\n",
        "    for pred_i in pred:\n",
        "        out_i = []\n",
        "        for p in pred_i:\n",
        "            p_i = np.argmax(p)\n",
        "            out_i.append(idx2tag[p_i].replace(\"PADword\", \"O\"))\n",
        "        out.append(out_i)\n",
        "    return out\n",
        "\n",
        "pred_labels = pred2label(test_pred)\n",
        "test_labels = pred2label(y_te)"
      ]
    },
    {
      "cell_type": "code",
      "execution_count": 41,
      "metadata": {},
      "outputs": [
        {
          "name": "stdout",
          "output_type": "stream",
          "text": [
            "Accuracy:  0.9775843137254902\n"
          ]
        }
      ],
      "source": [
        "print(\"Accuracy: \", accuracy_score(test_labels, pred_labels))"
      ]
    },
    {
      "cell_type": "code",
      "execution_count": 42,
      "metadata": {
        "id": "WvZWBkd6Fq4h"
      },
      "outputs": [
        {
          "name": "stderr",
          "output_type": "stream",
          "text": [
            "/Applications/anaconda3/envs/tf1/lib/python3.7/site-packages/seqeval/metrics/sequence_labeling.py:171: UserWarning: O+O seems not to be NE tag.\n",
            "  warnings.warn('{} seems not to be NE tag.'.format(chunk))\n",
            "/Applications/anaconda3/envs/tf1/lib/python3.7/site-packages/seqeval/metrics/sequence_labeling.py:171: UserWarning: O+I-PER seems not to be NE tag.\n",
            "  warnings.warn('{} seems not to be NE tag.'.format(chunk))\n"
          ]
        },
        {
          "name": "stdout",
          "output_type": "stream",
          "text": [
            "F1-score: 49.8%\n"
          ]
        }
      ],
      "source": [
        "print(\"F1-score: {:.1%}\".format(f1_score(test_labels, pred_labels)))"
      ]
    },
    {
      "cell_type": "code",
      "execution_count": 43,
      "metadata": {
        "id": "zGfzpwAhFq4h"
      },
      "outputs": [
        {
          "name": "stderr",
          "output_type": "stream",
          "text": [
            "/Applications/anaconda3/envs/tf1/lib/python3.7/site-packages/seqeval/metrics/v1.py:57: UndefinedMetricWarning: Precision and F-score are ill-defined and being set to 0.0 in labels with no predicted samples. Use `zero_division` parameter to control this behavior.\n",
            "  _warn_prf(average, modifier, msg_start, len(result))\n"
          ]
        },
        {
          "name": "stdout",
          "output_type": "stream",
          "text": [
            "                    precision    recall  f1-score   support\n",
            "\n",
            "         LOC+B-LOC       0.00      0.00      0.00        31\n",
            "    LOC+B-LOCderiv       0.00      0.00      0.00        42\n",
            "         LOC+B-PER       0.00      0.00      0.00        15\n",
            "    LOC+B-PERderiv       0.00      0.00      0.00         1\n",
            "     LOC+B-PERpart       0.00      0.00      0.00         1\n",
            "         LOC+I-LOC       0.00      0.00      0.00         2\n",
            "             LOC+O       0.73      0.51      0.60      1710\n",
            "        LOCderiv+O       0.81      0.71      0.76       561\n",
            "         LOCpart+O       0.00      0.00      0.00       109\n",
            "         ORG+B-LOC       0.53      0.31      0.39       140\n",
            "    ORG+B-LOCderiv       0.60      0.48      0.53        81\n",
            "     ORG+B-LOCpart       0.00      0.00      0.00         4\n",
            "         ORG+B-ORG       0.00      0.00      0.00        10\n",
            "    ORG+B-ORGderiv       0.00      0.00      0.00         1\n",
            "         ORG+B-PER       0.00      0.00      0.00        24\n",
            "    ORG+B-PERderiv       0.00      0.00      0.00         3\n",
            "     ORG+B-PERpart       0.00      0.00      0.00         3\n",
            "         ORG+I-LOC       0.00      0.00      0.00         6\n",
            "    ORG+I-LOCderiv       0.00      0.00      0.00         1\n",
            "         ORG+I-ORG       0.00      0.00      0.00         2\n",
            "         ORG+I-PER       0.00      0.00      0.00         7\n",
            "             ORG+O       0.44      0.41      0.42      1152\n",
            "        ORGderiv+O       0.00      0.00      0.00         8\n",
            "ORGpart+B-LOCderiv       0.00      0.00      0.00         1\n",
            "         ORGpart+O       0.00      0.00      0.00       172\n",
            "         OTH+B-LOC       0.00      0.00      0.00        21\n",
            "    OTH+B-LOCderiv       0.00      0.00      0.00        32\n",
            "     OTH+B-LOCpart       0.00      0.00      0.00         1\n",
            "         OTH+B-ORG       0.00      0.00      0.00        30\n",
            "         OTH+B-OTH       0.00      0.00      0.00         7\n",
            "     OTH+B-OTHpart       0.00      0.00      0.00         1\n",
            "         OTH+B-PER       0.00      0.00      0.00        41\n",
            "         OTH+I-LOC       0.00      0.00      0.00         1\n",
            "         OTH+I-ORG       0.00      0.00      0.00         6\n",
            "         OTH+I-OTH       0.00      0.00      0.00         4\n",
            "         OTH+I-PER       0.00      0.00      0.00         8\n",
            "             OTH+O       0.27      0.34      0.30       724\n",
            "        OTHderiv+O       1.00      0.03      0.05        39\n",
            "         OTHpart+O       0.00      0.00      0.00        42\n",
            "         PER+B-LOC       0.00      0.00      0.00        15\n",
            "     PER+B-ORGpart       0.00      0.00      0.00         1\n",
            "             PER+O       0.74      0.51      0.61      1639\n",
            "        PERderiv+O       0.00      0.00      0.00        11\n",
            "         PERpart+O       0.00      0.00      0.00        44\n",
            "\n",
            "         micro avg       0.59      0.43      0.50      6754\n",
            "         macro avg       0.12      0.07      0.08      6754\n",
            "      weighted avg       0.56      0.43      0.48      6754\n",
            "\n"
          ]
        }
      ],
      "source": [
        "print(classification_report(test_labels, pred_labels))"
      ]
    },
    {
      "cell_type": "markdown",
      "metadata": {},
      "source": [
        "## Model: Output for random test input"
      ]
    },
    {
      "cell_type": "code",
      "execution_count": 44,
      "metadata": {
        "id": "Db1SVIHTFq4h"
      },
      "outputs": [
        {
          "name": "stdout",
          "output_type": "stream",
          "text": [
            "+----------------------+-------------+---------------+\n",
            "|         Word         |  Actual Tag | Predicted Tag |\n",
            "+----------------------+-------------+---------------+\n",
            "|         Sie          |     O+O     |      O+O      |\n",
            "|      überzeugte      |     O+O     |      O+O      |\n",
            "|         als          |     O+O     |      O+O      |\n",
            "|  Psychiatrie-Ärztin  |     O+O     |      O+O      |\n",
            "|          Dr          |     O+O     |      O+O      |\n",
            "|          .           |     O+O     |      O+O      |\n",
            "|      Hildegard       |   B-PER+O   |    B-PER+O    |\n",
            "|      Heinemann       |   I-PER+O   |    I-PER+O    |\n",
            "|          im          |     O+O     |      O+O      |\n",
            "|         Rolf         | B-PERpart+O |    B-PER+O    |\n",
            "|    Hochhuth-Stück    | I-PERpart+O |    I-PER+O    |\n",
            "|         Heil         |   B-OTH+O   |    I-PER+O    |\n",
            "|        Hitler        | I-OTH+B-PER |    I-PER+O    |\n",
            "|        unter         |     O+O     |      O+O      |\n",
            "|         der          |     O+O     |      O+O      |\n",
            "|        Regie         |     O+O     |      O+O      |\n",
            "|         von          |     O+O     |      O+O      |\n",
            "|         Lutz         |   B-PER+O   |    B-PER+O    |\n",
            "|     Blochberger      |   I-PER+O   |    I-PER+O    |\n",
            "|          im          |     O+O     |      O+O      |\n",
            "|       Akademie       |   B-ORG+O   |      O+O      |\n",
            "|       Theater        |   I-ORG+O   |    I-ORG+O    |\n",
            "|          in          |     O+O     |      O+O      |\n",
            "|        Berlin        |   B-LOC+O   |    B-LOC+O    |\n",
            "|         und          |     O+O     |      O+O      |\n",
            "|         als          |     O+O     |      O+O      |\n",
            "| Maria/Maschinenmaria |   B-PER+O   |      O+O      |\n",
            "|          in          |     O+O     |      O+O      |\n",
            "|      METROPOLIS      |   B-OTH+O   |      O+O      |\n",
            "|          am          |     O+O     |      O+O      |\n",
            "|    Schauspielhaus    |   B-ORG+O   |    B-OTH+O    |\n",
            "|        Zürich        | I-ORG+B-LOC |    B-LOC+O    |\n",
            "|          .           |     O+O     |      O+O      |\n",
            "+----------------------+-------------+---------------+\n"
          ]
        }
      ],
      "source": [
        "i = 40\n",
        "p = model.predict(np.array([X_te[i]]))\n",
        "p = np.argmax(p, axis=-1)\n",
        "true = np.argmax(y_te[i], -1)\n",
        "    \n",
        "x = PrettyTable()\n",
        "x.field_names = [\"Word\", \"Actual Tag\", \"Predicted Tag\"]\n",
        "\n",
        "for w, t, pred in zip(X_te[i], true, p[0]):\n",
        "    if w != 0:\n",
        "        # x.add_row([words[w-1], tags[t], tags[pred]])\n",
        "        x.add_row([words[w], tags[t], tags[pred]])\n",
        "        \n",
        "print(x)"
      ]
    },
    {
      "cell_type": "markdown",
      "metadata": {},
      "source": [
        "## Visualising in spacy"
      ]
    },
    {
      "cell_type": "code",
      "execution_count": 117,
      "metadata": {},
      "outputs": [
        {
          "data": {
            "text/plain": [
              "'Sie überzeugte als Psychiatrie-Ärztin Dr . Hildegard Heinemann im Rolf Hochhuth-Stück Heil Hitler unter der Regie von Lutz Blochberger im Akademie Theater in Berlin und als Maria/Maschinenmaria in METROPOLIS am Schauspielhaus Zürich . '"
            ]
          },
          "execution_count": 117,
          "metadata": {},
          "output_type": "execute_result"
        }
      ],
      "source": [
        "sen = ''\n",
        "for s in sentences_df_test[40]:\n",
        "  sen += s[0] + ' '\n",
        "sen"
      ]
    },
    {
      "cell_type": "code",
      "execution_count": 118,
      "metadata": {},
      "outputs": [
        {
          "data": {
            "text/html": [
              "<span class=\"tex2jax_ignore\"><div class=\"entities\" style=\"line-height: 2.5; direction: ltr\">Sie überzeugte als \n",
              "<mark class=\"entity\" style=\"background: #ddd; padding: 0.45em 0.6em; margin: 0 0.25em; line-height: 1; border-radius: 0.35em;\">\n",
              "    Psychiatrie-Ärztin Dr\n",
              "    <span style=\"font-size: 0.8em; font-weight: bold; line-height: 1; border-radius: 0.35em; text-transform: uppercase; vertical-align: middle; margin-left: 0.5rem\">MISC</span>\n",
              "</mark>\n",
              " . \n",
              "<mark class=\"entity\" style=\"background: #ddd; padding: 0.45em 0.6em; margin: 0 0.25em; line-height: 1; border-radius: 0.35em;\">\n",
              "    Hildegard Heinemann\n",
              "    <span style=\"font-size: 0.8em; font-weight: bold; line-height: 1; border-radius: 0.35em; text-transform: uppercase; vertical-align: middle; margin-left: 0.5rem\">PER</span>\n",
              "</mark>\n",
              " im \n",
              "<mark class=\"entity\" style=\"background: #ddd; padding: 0.45em 0.6em; margin: 0 0.25em; line-height: 1; border-radius: 0.35em;\">\n",
              "    Rolf Hochhuth-Stück\n",
              "    <span style=\"font-size: 0.8em; font-weight: bold; line-height: 1; border-radius: 0.35em; text-transform: uppercase; vertical-align: middle; margin-left: 0.5rem\">PER</span>\n",
              "</mark>\n",
              " \n",
              "<mark class=\"entity\" style=\"background: #ddd; padding: 0.45em 0.6em; margin: 0 0.25em; line-height: 1; border-radius: 0.35em;\">\n",
              "    Heil Hitler\n",
              "    <span style=\"font-size: 0.8em; font-weight: bold; line-height: 1; border-radius: 0.35em; text-transform: uppercase; vertical-align: middle; margin-left: 0.5rem\">PER</span>\n",
              "</mark>\n",
              " unter der Regie von \n",
              "<mark class=\"entity\" style=\"background: #ddd; padding: 0.45em 0.6em; margin: 0 0.25em; line-height: 1; border-radius: 0.35em;\">\n",
              "    Lutz Blochberger\n",
              "    <span style=\"font-size: 0.8em; font-weight: bold; line-height: 1; border-radius: 0.35em; text-transform: uppercase; vertical-align: middle; margin-left: 0.5rem\">PER</span>\n",
              "</mark>\n",
              " im \n",
              "<mark class=\"entity\" style=\"background: #ff9561; padding: 0.45em 0.6em; margin: 0 0.25em; line-height: 1; border-radius: 0.35em;\">\n",
              "    Akademie Theater\n",
              "    <span style=\"font-size: 0.8em; font-weight: bold; line-height: 1; border-radius: 0.35em; text-transform: uppercase; vertical-align: middle; margin-left: 0.5rem\">LOC</span>\n",
              "</mark>\n",
              " in \n",
              "<mark class=\"entity\" style=\"background: #ff9561; padding: 0.45em 0.6em; margin: 0 0.25em; line-height: 1; border-radius: 0.35em;\">\n",
              "    Berlin\n",
              "    <span style=\"font-size: 0.8em; font-weight: bold; line-height: 1; border-radius: 0.35em; text-transform: uppercase; vertical-align: middle; margin-left: 0.5rem\">LOC</span>\n",
              "</mark>\n",
              " und als \n",
              "<mark class=\"entity\" style=\"background: #ddd; padding: 0.45em 0.6em; margin: 0 0.25em; line-height: 1; border-radius: 0.35em;\">\n",
              "    Maria\n",
              "    <span style=\"font-size: 0.8em; font-weight: bold; line-height: 1; border-radius: 0.35em; text-transform: uppercase; vertical-align: middle; margin-left: 0.5rem\">PER</span>\n",
              "</mark>\n",
              "/Maschinenmaria in \n",
              "<mark class=\"entity\" style=\"background: #ddd; padding: 0.45em 0.6em; margin: 0 0.25em; line-height: 1; border-radius: 0.35em;\">\n",
              "    METROPOLIS\n",
              "    <span style=\"font-size: 0.8em; font-weight: bold; line-height: 1; border-radius: 0.35em; text-transform: uppercase; vertical-align: middle; margin-left: 0.5rem\">MISC</span>\n",
              "</mark>\n",
              " am \n",
              "<mark class=\"entity\" style=\"background: #ff9561; padding: 0.45em 0.6em; margin: 0 0.25em; line-height: 1; border-radius: 0.35em;\">\n",
              "    Schauspielhaus Zürich\n",
              "    <span style=\"font-size: 0.8em; font-weight: bold; line-height: 1; border-radius: 0.35em; text-transform: uppercase; vertical-align: middle; margin-left: 0.5rem\">LOC</span>\n",
              "</mark>\n",
              " . </div></span>"
            ],
            "text/plain": [
              "<IPython.core.display.HTML object>"
            ]
          },
          "metadata": {},
          "output_type": "display_data"
        }
      ],
      "source": [
        "import spacy\n",
        "from spacy import displacy\n",
        "nlp = spacy.load('de_core_news_sm')\n",
        "text = nlp(sen)\n",
        "displacy.render(text, style = 'ent', jupyter=True)"
      ]
    },
    {
      "cell_type": "markdown",
      "metadata": {},
      "source": [
        "## Model: Test arbitrary query sentence not part of test data"
      ]
    },
    {
      "cell_type": "code",
      "execution_count": 45,
      "metadata": {},
      "outputs": [],
      "source": [
        "test_sentence = [\"Berlin\", \"ist\", \"die\", \"Hauptstadt\", \"von\", \"Deutschland\", \"und\", \"Bayern\", \"München\", \"ist\", \"ein\", \"deutscher\", \"Fußballclub\"]"
      ]
    },
    {
      "cell_type": "code",
      "execution_count": 46,
      "metadata": {},
      "outputs": [],
      "source": [
        "x_test_sent = pad_sequences(sequences=[[words2index.get(w, 0) for w in test_sentence]], padding=\"post\", value=0, maxlen=max_len)"
      ]
    },
    {
      "cell_type": "code",
      "execution_count": 47,
      "metadata": {},
      "outputs": [
        {
          "name": "stdout",
          "output_type": "stream",
          "text": [
            "+-------------+---------------+\n",
            "|     Word    | Predicted Tag |\n",
            "+-------------+---------------+\n",
            "|    Berlin   |    B-LOC+O    |\n",
            "|     ist     |      O+O      |\n",
            "|     die     |      O+O      |\n",
            "|  Hauptstadt |      O+O      |\n",
            "|     von     |      O+O      |\n",
            "| Deutschland |    B-LOC+O    |\n",
            "|     und     |      O+O      |\n",
            "|    Bayern   |    B-LOC+O    |\n",
            "|   München   |    B-LOC+O    |\n",
            "|     ist     |      O+O      |\n",
            "|     ein     |      O+O      |\n",
            "|  deutscher  |  B-LOCderiv+O |\n",
            "| Fußballclub |      O+O      |\n",
            "+-------------+---------------+\n"
          ]
        }
      ],
      "source": [
        "# Output tags for query input\n",
        "p = model.predict(np.array([x_test_sent[0]]))\n",
        "p = np.argmax(p, axis=-1)\n",
        "\n",
        "x = PrettyTable()\n",
        "x.field_names = [\"Word\", \"Predicted Tag\"]\n",
        "\n",
        "for w, pred in zip(test_sentence, p[0]):\n",
        "    x.add_row([w, tags[pred]])\n",
        "        \n",
        "print(x)"
      ]
    }
  ],
  "metadata": {
    "colab": {
      "provenance": []
    },
    "kernelspec": {
      "display_name": "Python 3.7.12 ('tf1')",
      "language": "python",
      "name": "python3"
    },
    "language_info": {
      "codemirror_mode": {
        "name": "ipython",
        "version": 3
      },
      "file_extension": ".py",
      "mimetype": "text/x-python",
      "name": "python",
      "nbconvert_exporter": "python",
      "pygments_lexer": "ipython3",
      "version": "3.7.12"
    },
    "orig_nbformat": 4,
    "vscode": {
      "interpreter": {
        "hash": "5f00ccb35c83db57f0873b7e4c6d0443b7dd556c1014aadc907ccea477ab2cc9"
      }
    }
  },
  "nbformat": 4,
  "nbformat_minor": 0
}
